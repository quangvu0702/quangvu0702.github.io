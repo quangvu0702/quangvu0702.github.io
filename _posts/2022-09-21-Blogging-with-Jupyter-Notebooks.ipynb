{
 "cells": [
  {
   "cell_type": "markdown",
   "id": "49e19edd",
   "metadata": {},
   "source": [
    "# Blogging-with-Jupyter-Notebooks"
   ]
  },
  {
   "cell_type": "markdown",
   "id": "c153778c",
   "metadata": {},
   "source": [
    "I follow [this blog](https://www.fast.ai/posts/2020-01-20-nb2md.html) to create a jupyter notebook and convert it to md."
   ]
  },
  {
   "cell_type": "code",
   "execution_count": 26,
   "id": "a56e74cf",
   "metadata": {},
   "outputs": [
    {
     "name": "stdout",
     "output_type": "stream",
     "text": [
      "[NbConvertApp] Converting notebook 2022-09-21-Blogging-with-Jupyter-Notebooks.ipynb to markdown\r\n",
      "[NbConvertApp] Writing 8640 bytes to 2022-09-21-Blogging-with-Jupyter-Notebooks.md\r\n"
     ]
    }
   ],
   "source": [
    "!jupyter nbconvert --to markdown 2022-09-21-Blogging-with-Jupyter-Notebooks.ipynb"
   ]
  },
  {
   "cell_type": "code",
   "execution_count": 27,
   "id": "596ae1cf",
   "metadata": {},
   "outputs": [
    {
     "name": "stdout",
     "output_type": "stream",
     "text": [
      "\u001b[0m\u001b[01;32m2020-01-14-welcome.md\u001b[0m*                            2022-09-21-my-first-post.md\r\n",
      "2022-09-21-Blogging-with-Jupyter-Notebooks.ipynb  \u001b[01;34mquangvu0702.github.io\u001b[0m/\r\n",
      "2022-09-21-Blogging-with-Jupyter-Notebooks.md\r\n"
     ]
    }
   ],
   "source": [
    "ls"
   ]
  }
 ],
 "metadata": {
  "kernelspec": {
   "display_name": "Python 3 (ipykernel)",
   "language": "python",
   "name": "python3"
  },
  "language_info": {
   "codemirror_mode": {
    "name": "ipython",
    "version": 3
   },
   "file_extension": ".py",
   "mimetype": "text/x-python",
   "name": "python",
   "nbconvert_exporter": "python",
   "pygments_lexer": "ipython3",
   "version": "3.8.12"
  }
 },
 "nbformat": 4,
 "nbformat_minor": 5
}
