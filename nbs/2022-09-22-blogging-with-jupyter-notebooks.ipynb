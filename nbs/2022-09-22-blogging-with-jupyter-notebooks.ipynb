{
 "cells": [
  {
   "cell_type": "markdown",
   "id": "49e19edd",
   "metadata": {},
   "source": [
    "# Blogging-with-Jupyter-Notebooks"
   ]
  },
  {
   "cell_type": "markdown",
   "id": "c153778c",
   "metadata": {},
   "source": [
    "I write this article and convert it to markdown file using nbconvert."
   ]
  },
  {
   "cell_type": "code",
   "execution_count": 7,
   "id": "b22ed51d",
   "metadata": {},
   "outputs": [],
   "source": [
    "import os\n",
    "from IPython.core.display import Javascript\n",
    "from IPython.display import display"
   ]
  },
  {
   "cell_type": "code",
   "execution_count": 8,
   "id": "a56e74cf",
   "metadata": {},
   "outputs": [
    {
     "data": {
      "application/javascript": [
       "Jupyter.notebook.kernel.execute(                           \"this_notebook = \" + \"'\"                           +Jupyter.notebook.notebook_name+\"'\");"
      ],
      "text/plain": [
       "<IPython.core.display.Javascript object>"
      ]
     },
     "metadata": {},
     "output_type": "display_data"
    },
    {
     "name": "stdout",
     "output_type": "stream",
     "text": [
      "2022-09-22-blogging-with-jupyter-notebooks.ipynb\n",
      "[NbConvertApp] Converting notebook 2022-09-22-blogging-with-jupyter-notebooks.ipynb to markdown\n",
      "[NbConvertApp] Writing 805 bytes to ../_posts/2022-09-22-blogging-with-jupyter-notebooks.md\n"
     ]
    }
   ],
   "source": [
    "def convert_to_markdown():\n",
    "    display(Javascript('Jupyter.notebook.kernel.execute(\\\n",
    "                           \"this_notebook = \" + \"\\'\"\\\n",
    "                           +Jupyter.notebook.notebook_name+\"\\'\");'))\n",
    "    print(this_notebook)\n",
    "    !jupyter nbconvert --to markdown $this_notebook --output-dir=../_posts\n",
    "    \n",
    "convert_to_markdown()"
   ]
  }
 ],
 "metadata": {
  "kernelspec": {
   "display_name": "Python 3 (ipykernel)",
   "language": "python",
   "name": "python3"
  },
  "language_info": {
   "codemirror_mode": {
    "name": "ipython",
    "version": 3
   },
   "file_extension": ".py",
   "mimetype": "text/x-python",
   "name": "python",
   "nbconvert_exporter": "python",
   "pygments_lexer": "ipython3",
   "version": "3.8.12"
  }
 },
 "nbformat": 4,
 "nbformat_minor": 5
}
