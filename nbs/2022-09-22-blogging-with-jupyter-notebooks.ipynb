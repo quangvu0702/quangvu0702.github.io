{
 "cells": [
  {
   "cell_type": "markdown",
   "id": "49e19edd",
   "metadata": {},
   "source": [
    "# Blogging-with-Jupyter-Notebooks"
   ]
  },
  {
   "cell_type": "markdown",
   "id": "c153778c",
   "metadata": {},
   "source": [
    "I write this article and convert it to markdown file using nbconvert."
   ]
  },
  {
   "cell_type": "code",
   "execution_count": 1,
   "id": "35c9c5e1",
   "metadata": {},
   "outputs": [
    {
     "data": {
      "application/javascript": [
       "Jupyter.notebook.kernel.execute(                       \"this_notebook = \" + \"'\"                       +Jupyter.notebook.notebook_name+\"'\");"
      ],
      "text/plain": [
       "<IPython.core.display.Javascript object>"
      ]
     },
     "metadata": {},
     "output_type": "display_data"
    }
   ],
   "source": [
    "import os\n",
    "from IPython.core.display import Javascript\n",
    "from IPython.display import display\n",
    "\n",
    "display(Javascript('Jupyter.notebook.kernel.execute(\\\n",
    "                       \"this_notebook = \" + \"\\'\"\\\n",
    "                       +Jupyter.notebook.notebook_name+\"\\'\");'))"
   ]
  },
  {
   "cell_type": "code",
   "execution_count": 2,
   "id": "d3b3e453",
   "metadata": {},
   "outputs": [
    {
     "data": {
      "text/plain": [
       "'2022-09-22-blogging-with-jupyter-notebooks.ipynb'"
      ]
     },
     "execution_count": 2,
     "metadata": {},
     "output_type": "execute_result"
    }
   ],
   "source": [
    "this_notebook"
   ]
  },
  {
   "cell_type": "code",
   "execution_count": 3,
   "id": "a56e74cf",
   "metadata": {},
   "outputs": [
    {
     "name": "stdout",
     "output_type": "stream",
     "text": [
      "[NbConvertApp] Converting notebook 2022-09-22-blogging-with-jupyter-notebooks.ipynb to markdown\n",
      "[NbConvertApp] Writing 806 bytes to ../_posts/2022-09-22-blogging-with-jupyter-notebooks.md\n"
     ]
    }
   ],
   "source": [
    "!jupyter nbconvert --to markdown $this_notebook --output-dir=../_posts"
   ]
  }
 ],
 "metadata": {
  "kernelspec": {
   "display_name": "Python 3 (ipykernel)",
   "language": "python",
   "name": "python3"
  },
  "language_info": {
   "codemirror_mode": {
    "name": "ipython",
    "version": 3
   },
   "file_extension": ".py",
   "mimetype": "text/x-python",
   "name": "python",
   "nbconvert_exporter": "python",
   "pygments_lexer": "ipython3",
   "version": "3.8.12"
  }
 },
 "nbformat": 4,
 "nbformat_minor": 5
}
