{
 "cells": [
  {
   "cell_type": "markdown",
   "id": "49e19edd",
   "metadata": {},
   "source": [
    "# Build out a neural net library"
   ]
  },
  {
   "cell_type": "code",
   "execution_count": 1,
   "id": "c0b2ba7f",
   "metadata": {},
   "outputs": [],
   "source": [
    "import numpy as np\n",
    "import matplotlib.pyplot as plt\n",
    "%matplotlib inline"
   ]
  },
  {
   "cell_type": "code",
   "execution_count": 2,
   "id": "681c9b90",
   "metadata": {},
   "outputs": [],
   "source": [
    "# plot graph\n",
    "import graphviz\n",
    "\n",
    "def trace(root):\n",
    "    nodes, edges = set(), set()\n",
    "    def build(root):\n",
    "        if root not in nodes:\n",
    "            nodes.add(root)\n",
    "        for v in root._children:\n",
    "            edges.add((v, root))\n",
    "            build(v)\n",
    "    build(root)\n",
    "    return nodes, edges\n",
    "\n",
    "def draw_graph(root):\n",
    "    f = graphviz.Digraph(format='svg', graph_attr={'rankdir':\"LR\"})\n",
    "    nodes, edges = trace(root)\n",
    "    for v in nodes:\n",
    "        f.node(str(id(v)), label=\"{%s|data %.4f|grad %.4f}\" %(v.label, v.data, v.grad) , shape='record')\n",
    "        if v._op:\n",
    "            f.node(f'{str(id(v))}_{v._op}', label=f\"{v._op}\")\n",
    "            f.edge(f'{str(id(v))}_{v._op}', str(id(v)))\n",
    "    for v1, v2 in edges:\n",
    "        f.edge(str(id(v1)), f'{str(id(v2))}_{v2._op}')\n",
    "    return f"
   ]
  },
  {
   "cell_type": "code",
   "execution_count": 80,
   "id": "f0d39f11",
   "metadata": {},
   "outputs": [],
   "source": [
    "import math\n",
    "\n",
    "class Value():\n",
    "    def __init__(self, data, label='', _children=[], _op=\"\", grad = 0):\n",
    "        self.data = data\n",
    "        self.label = label\n",
    "        self._children = set(_children)\n",
    "        self._op = _op\n",
    "        self.grad = grad\n",
    "        self._backward = lambda:None\n",
    "    def __repr__(self):\n",
    "        return f\"Value({self.label}={self.data})\"\n",
    "    \n",
    "    def __add__(self, other):\n",
    "        other = other if isinstance(other, Value) else Value(other)\n",
    "        out = Value(self.data + other.data, _children=[self, other], _op=\"+\")\n",
    "        def _backward():\n",
    "            self.grad += 1.0 * out.grad\n",
    "            other.grad += 1.0 * out.grad\n",
    "        out._backward = _backward\n",
    "        return out\n",
    "    \n",
    "    def __sub__(self, other):\n",
    "        return self + (-1) * other\n",
    "    \n",
    "    def __rsub__(self, other):\n",
    "        return (-1) * self + other\n",
    "    \n",
    "    def __radd__(self, other):\n",
    "        return self + other\n",
    "\n",
    "    def __mul__(self, other):\n",
    "        other = other if isinstance(other, Value) else Value(other)\n",
    "        out = Value(self.data * other.data, _children=[self, other], _op=\"*\")\n",
    "        def _backward():\n",
    "            self.grad += other.data * out.grad\n",
    "            other.grad += self.data * out.grad\n",
    "        out._backward = _backward\n",
    "        return out\n",
    "\n",
    "    def __rmul__(self, other):\n",
    "        return self * other\n",
    "\n",
    "    def tanh(self):\n",
    "        tanh = math.tanh(self.data)\n",
    "        out = Value(tanh, _children=[self, ], _op=\"tanh\")\n",
    "        def _backward():\n",
    "            self.grad += (1 - out.data**2) * out.grad\n",
    "        out._backward = _backward\n",
    "        return out\n",
    "    \n",
    "    def exp(self):\n",
    "        out = Value(math.exp(self.data), _children=[self, ], _op='exp')\n",
    "        def _backward():\n",
    "            self.grad += out.data * out.grad\n",
    "        out._backward = _backward\n",
    "        return out\n",
    "\n",
    "    def __pow__(self, n):\n",
    "        out = Value(self.data**n, _children=[self, ], _op='pow')\n",
    "        def _backward():\n",
    "            self.grad += n * self.data**(n-1) * out.grad\n",
    "        out._backward = _backward\n",
    "        return out\n",
    "    \n",
    "    def __truediv__(self, other):\n",
    "        return self * other**(-1)\n",
    "\n",
    "    def backward(self):\n",
    "        self.grad = 1.0\n",
    "        topo = []\n",
    "        visited = set()\n",
    "        def build_topo(v):\n",
    "            if v not in visited:\n",
    "                visited.add(v)\n",
    "                for o in v._children:\n",
    "                    build_topo(o)\n",
    "                topo.append(v)\n",
    "\n",
    "        build_topo(self)\n",
    "        for node in reversed(topo):\n",
    "            node._backward()"
   ]
  },
  {
   "cell_type": "code",
   "execution_count": 198,
   "id": "befd8c8c",
   "metadata": {},
   "outputs": [],
   "source": [
    "import random\n",
    "\n",
    "class Neuron():\n",
    "    def __init__(self, n_in):\n",
    "        self.weights = [Value(random.uniform(-1, 1), f'w_{i}') for i in range(n_in)]\n",
    "        self.b = Value(random.uniform(-1, 1), label='b')\n",
    "        \n",
    "    def __call__(self, xs):\n",
    "        return sum([w*x for w,x in zip(self.weights, xs)], self.b)\n",
    "    \n",
    "    def parameters(self):\n",
    "        return [self.b] + self.weights\n",
    "\n",
    "class Layer():\n",
    "    def __init__(self, n_in, n_out):\n",
    "        self.neurons = [Neuron(n_in) for _ in range(n_out)]\n",
    "        \n",
    "    def __call__(self, x):\n",
    "        return [neuron(x) for neuron in self.neurons]\n",
    "    \n",
    "    def parameters(self):\n",
    "        return [p for neuron in self.neurons for p in neuron.parameters()]\n",
    "\n",
    "class MLP():\n",
    "    def __init__(self, n_int, n_outs):\n",
    "        sizes = [n_int] + n_outs\n",
    "        self.layers = [Layer(sizes[i], sizes[i+1]) for i in range(len(n_outs))]\n",
    "\n",
    "    def __call__(self, x):\n",
    "        for l in self.layers:\n",
    "            x = l(x)\n",
    "        x = [o.tanh() for o in x]\n",
    "        return x if len(x) != 1 else x[0]\n",
    "    \n",
    "    def parameters(self):\n",
    "        return [p for layer in self.layers for p in layer.parameters()]\n",
    "\n",
    "net = MLP(3, [4, 4, 1])"
   ]
  },
  {
   "cell_type": "code",
   "execution_count": 199,
   "id": "1761e15a",
   "metadata": {},
   "outputs": [],
   "source": [
    "xs = [\n",
    "        [1.0, 2.0, 3.0],\n",
    "        [-1.0, -2.0, 3.0],\n",
    "        [2.0, -1.0, 1.0],\n",
    "        [-1.0, 0.0, 0.0],\n",
    "     ]\n",
    "ys = [1, -1, 1, -1]"
   ]
  },
  {
   "cell_type": "code",
   "execution_count": 222,
   "id": "4b554c35",
   "metadata": {},
   "outputs": [
    {
     "name": "stdout",
     "output_type": "stream",
     "text": [
      "[Value(=0.9999979646930708), Value(=-0.9701802042009974), Value(=0.96360191340795), Value(=-0.9880742220310944)]\n",
      "[Value(=0.9999979724521499), Value(=-0.970264692785905), Value(=0.9637047944630939), Value(=-0.9881000361957057)]\n",
      "[Value(=0.9999979801442545), Value(=-0.9703485378880123), Value(=0.9638068911520428), Value(=-0.9881256709397696)]\n",
      "[Value(=0.9999979877702769), Value(=-0.9704317474186374), Value(=0.9639082131313246), Value(=-0.9881511283555617)]\n",
      "[Value(=0.9999979953310941), Value(=-0.9705143291553467), Value(=0.9640087698939797), Value(=-0.9881764105012469)]\n",
      "[Value(=0.9999980028275669), Value(=-0.9705962907448278), Value(=0.9641085707730743), Value(=-0.9882015194015914)]\n",
      "[Value(=0.9999980102605411), Value(=-0.9706776397056831), Value(=0.9642076249451234), Value(=-0.9882264570486571)]\n",
      "[Value(=0.9999980176308474), Value(=-0.970758383431155), Value(=0.9643059414334241), Value(=-0.9882512254024785)]\n",
      "[Value(=0.9999980249393018), Value(=-0.9708385291917795), Value(=0.9644035291113039), Value(=-0.9882758263917223)]\n",
      "[Value(=0.999998032186706), Value(=-0.9709180841379712), Value(=0.9645003967052852), Value(=-0.988300261914331)]\n"
     ]
    }
   ],
   "source": [
    "# backward\n",
    "# zero grad\n",
    "for _ in range(10):\n",
    "    y_pred = [net(x) for x in xs]\n",
    "    print(y_pred)\n",
    "    L = sum([(ygt - yout)**2 for ygt, yout in zip(ys, y_pred)]); L\n",
    "\n",
    "    for p in net.parameters():\n",
    "        p.grad = 0\n",
    "    L.backward()\n",
    "\n",
    "    # update param\n",
    "    for p in net.parameters():\n",
    "        p.data += -0.01 * p.grad"
   ]
  },
  {
   "cell_type": "code",
   "execution_count": 158,
   "id": "52978737",
   "metadata": {},
   "outputs": [
    {
     "data": {
      "text/plain": [
       "0.8958342589007484"
      ]
     },
     "execution_count": 158,
     "metadata": {},
     "output_type": "execute_result"
    }
   ],
   "source": [
    "net.parameters()[0].grad"
   ]
  },
  {
   "cell_type": "code",
   "execution_count": 85,
   "id": "304bd9a7",
   "metadata": {},
   "outputs": [],
   "source": [
    "# draw_graph(out)"
   ]
  },
  {
   "cell_type": "markdown",
   "id": "79c06268",
   "metadata": {},
   "source": [
    "### Convert this file to md"
   ]
  },
  {
   "cell_type": "code",
   "execution_count": 5,
   "id": "b22ed51d",
   "metadata": {},
   "outputs": [],
   "source": [
    "from IPython.core.display import Javascript"
   ]
  },
  {
   "cell_type": "code",
   "execution_count": 6,
   "id": "862d5b3e",
   "metadata": {},
   "outputs": [
    {
     "data": {
      "application/javascript": [
       "IPython.notebook.kernel.execute('this_notebook = \"' + IPython.notebook.notebook_name + '\"')\n"
      ],
      "text/plain": [
       "<IPython.core.display.Javascript object>"
      ]
     },
     "metadata": {},
     "output_type": "display_data"
    }
   ],
   "source": [
    "%%js\n",
    "IPython.notebook.kernel.execute('this_notebook = \"' + IPython.notebook.notebook_name + '\"')"
   ]
  },
  {
   "cell_type": "code",
   "execution_count": 7,
   "id": "ade82929",
   "metadata": {},
   "outputs": [
    {
     "ename": "NameError",
     "evalue": "name 'this_notebook' is not defined",
     "output_type": "error",
     "traceback": [
      "\u001b[0;31m---------------------------------------------------------------------------\u001b[0m",
      "\u001b[0;31mNameError\u001b[0m                                 Traceback (most recent call last)",
      "Input \u001b[0;32mIn [7]\u001b[0m, in \u001b[0;36m<cell line: 1>\u001b[0;34m()\u001b[0m\n\u001b[0;32m----> 1\u001b[0m \u001b[43mthis_notebook\u001b[49m\n",
      "\u001b[0;31mNameError\u001b[0m: name 'this_notebook' is not defined"
     ]
    }
   ],
   "source": [
    "this_notebook"
   ]
  },
  {
   "cell_type": "code",
   "execution_count": null,
   "id": "af83fddd",
   "metadata": {},
   "outputs": [],
   "source": [
    "!jupyter nbconvert --to markdown {this_notebook} --output-dir=../_posts"
   ]
  }
 ],
 "metadata": {
  "kernelspec": {
   "display_name": "Python 3 (ipykernel)",
   "language": "python",
   "name": "python3"
  },
  "language_info": {
   "codemirror_mode": {
    "name": "ipython",
    "version": 3
   },
   "file_extension": ".py",
   "mimetype": "text/x-python",
   "name": "python",
   "nbconvert_exporter": "python",
   "pygments_lexer": "ipython3",
   "version": "3.8.12"
  }
 },
 "nbformat": 4,
 "nbformat_minor": 5
}
