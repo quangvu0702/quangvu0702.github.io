{
 "cells": [
  {
   "cell_type": "markdown",
   "id": "49e19edd",
   "metadata": {},
   "source": [
    "# Derivative of a simple function"
   ]
  },
  {
   "cell_type": "code",
   "execution_count": 1,
   "id": "c0b2ba7f",
   "metadata": {},
   "outputs": [],
   "source": [
    "import numpy as np\n",
    "import matplotlib.pyplot as plt\n",
    "%matplotlib inline"
   ]
  },
  {
   "cell_type": "code",
   "execution_count": 2,
   "id": "681c9b90",
   "metadata": {},
   "outputs": [],
   "source": [
    "# plot graph\n",
    "import graphviz\n",
    "\n",
    "def trace(root):\n",
    "    nodes, edges = set(), set()\n",
    "    def build(root):\n",
    "        if root not in nodes:\n",
    "            nodes.add(root)\n",
    "        for v in root._children:\n",
    "            edges.add((v, root))\n",
    "            build(v)\n",
    "    build(root)\n",
    "    return nodes, edges\n",
    "\n",
    "def draw_graph(root):\n",
    "    f = graphviz.Digraph(format='svg', graph_attr={'rankdir':\"LR\"})\n",
    "    nodes, edges = trace(root)\n",
    "    for v in nodes:\n",
    "        f.node(str(id(v)), label=\"{%s|data %.4f|grad %.4f}\" %(v.label, v.data, v.grad) , shape='record')\n",
    "        if v._op:\n",
    "            f.node(f'{str(id(v))}_{v._op}', label=f\"{v._op}\")\n",
    "            f.edge(f'{str(id(v))}_{v._op}', str(id(v)))\n",
    "    for v1, v2 in edges:\n",
    "        f.edge(str(id(v1)), f'{str(id(v2))}_{v2._op}')\n",
    "    return f"
   ]
  },
  {
   "cell_type": "code",
   "execution_count": 3,
   "id": "f0d39f11",
   "metadata": {},
   "outputs": [],
   "source": [
    "import math\n",
    "\n",
    "class Value():\n",
    "    def __init__(self, data, label='', _children=[], _op=\"\", grad = 0):\n",
    "        self.data = data\n",
    "        self.label = label\n",
    "        self._children = set(_children)\n",
    "        self._op = _op\n",
    "        self.grad = grad\n",
    "        self._backward = lambda:None\n",
    "    def __repr__(self):\n",
    "        return f\"Value({self.label}={self.data})\"\n",
    "    \n",
    "    def __add__(self, other):\n",
    "        other = other if isinstance(other, Value) else Value(other)\n",
    "        out = Value(self.data + other.data, _children=[self, other], _op=\"+\")\n",
    "        def _backward():\n",
    "            self.grad += 1.0 * out.grad\n",
    "            other.grad += 1.0 * out.grad\n",
    "        out._backward = _backward\n",
    "        return out\n",
    "    \n",
    "    def __radd__(self, other):\n",
    "        return self + other\n",
    "\n",
    "    def __mul__(self, other):\n",
    "        other = other if isinstance(other, Value) else Value(other)\n",
    "        out = Value(self.data * other.data, _children=[self, other], _op=\"*\")\n",
    "        def _backward():\n",
    "            self.grad += other.data * out.grad\n",
    "            other.grad += self.data * out.grad\n",
    "        out._backward = _backward\n",
    "        return out\n",
    "\n",
    "    def __rmul__(self, other):\n",
    "        return self * other\n",
    "\n",
    "    def tanh(self):\n",
    "        tanh = math.tanh(self.data)\n",
    "        out = Value(tanh, _children=[self, ], _op=\"tanh\")\n",
    "        def _backward():\n",
    "            self.grad += (1 - out.data**2) * out.grad\n",
    "        out._backward = _backward\n",
    "        return out\n",
    "    \n",
    "    def exp(self):\n",
    "        out = Value(math.exp(self.data), _children=[self, ], _op='exp')\n",
    "        def _backward():\n",
    "            self.grad += out.data * out.grad\n",
    "        out._backward = _backward\n",
    "        return out\n",
    "\n",
    "    def __pow__(self, n):\n",
    "        out = Value(self.data**n, _children=[self, ], _op='pow')\n",
    "        def _backward():\n",
    "            self.grad += n * self.data**(n-1) * out.grad\n",
    "        out._backward = _backward\n",
    "        return out\n",
    "    \n",
    "    def __truediv__(self, other):\n",
    "        return self * other**(-1)\n",
    "\n",
    "    def backward(self):\n",
    "        topo = []\n",
    "        visited = set()\n",
    "        def build_topo(v):\n",
    "            if v not in visited:\n",
    "                visited.add(v)\n",
    "                for o in v._children:\n",
    "                    build_topo(o)\n",
    "                topo.append(v)\n",
    "\n",
    "        build_topo(self)\n",
    "        for node in reversed(topo):\n",
    "            print(node)\n",
    "            node._backward()"
   ]
  },
  {
   "cell_type": "code",
   "execution_count": 4,
   "id": "bdacbf66",
   "metadata": {},
   "outputs": [],
   "source": [
    "a = Value(2.0, 'a')\n",
    "b = Value(4.0, 'b')\n",
    "c = a ** 2; c.label = 'c'\n",
    "d = b + c; d.label = 'd'\n",
    "e = Value(3.0, 'e')\n",
    "L = e / d; L.label = 'L'"
   ]
  },
  {
   "cell_type": "code",
   "execution_count": 5,
   "id": "547411f7",
   "metadata": {},
   "outputs": [
    {
     "data": {
      "image/svg+xml": [
       "<?xml version=\"1.0\" encoding=\"UTF-8\" standalone=\"no\"?>\n",
       "<!DOCTYPE svg PUBLIC \"-//W3C//DTD SVG 1.1//EN\"\n",
       " \"http://www.w3.org/Graphics/SVG/1.1/DTD/svg11.dtd\">\n",
       "<!-- Generated by graphviz version 2.43.0 (0)\n",
       " -->\n",
       "<!-- Title: %3 Pages: 1 -->\n",
       "<svg width=\"1682pt\" height=\"127pt\"\n",
       " viewBox=\"0.00 0.00 1681.59 127.00\" xmlns=\"http://www.w3.org/2000/svg\" xmlns:xlink=\"http://www.w3.org/1999/xlink\">\n",
       "<g id=\"graph0\" class=\"graph\" transform=\"scale(1 1) rotate(0) translate(4 123)\">\n",
       "<title>%3</title>\n",
       "<polygon fill=\"white\" stroke=\"transparent\" points=\"-4,4 -4,-123 1677.59,-123 1677.59,4 -4,4\"/>\n",
       "<!-- 139972769974784 -->\n",
       "<g id=\"node1\" class=\"node\">\n",
       "<title>139972769974784</title>\n",
       "<polygon fill=\"none\" stroke=\"black\" points=\"1086.59,-27.5 1086.59,-63.5 1313.59,-63.5 1313.59,-27.5 1086.59,-27.5\"/>\n",
       "<text text-anchor=\"middle\" x=\"1097.09\" y=\"-41.8\" font-family=\"Times,serif\" font-size=\"14.00\"> </text>\n",
       "<polyline fill=\"none\" stroke=\"black\" points=\"1107.59,-27.5 1107.59,-63.5 \"/>\n",
       "<text text-anchor=\"middle\" x=\"1158.59\" y=\"-41.8\" font-family=\"Times,serif\" font-size=\"14.00\">data 0.1250</text>\n",
       "<polyline fill=\"none\" stroke=\"black\" points=\"1209.59,-27.5 1209.59,-63.5 \"/>\n",
       "<text text-anchor=\"middle\" x=\"1261.59\" y=\"-41.8\" font-family=\"Times,serif\" font-size=\"14.00\">grad 0.0000</text>\n",
       "</g>\n",
       "<!-- 139972769973728_* -->\n",
       "<g id=\"node11\" class=\"node\">\n",
       "<title>139972769973728_*</title>\n",
       "<ellipse fill=\"none\" stroke=\"black\" cx=\"1378.59\" cy=\"-72.5\" rx=\"27\" ry=\"18\"/>\n",
       "<text text-anchor=\"middle\" x=\"1378.59\" y=\"-68.8\" font-family=\"Times,serif\" font-size=\"14.00\">*</text>\n",
       "</g>\n",
       "<!-- 139972769974784&#45;&gt;139972769973728_* -->\n",
       "<g id=\"edge9\" class=\"edge\">\n",
       "<title>139972769974784&#45;&gt;139972769973728_*</title>\n",
       "<path fill=\"none\" stroke=\"black\" d=\"M1313.62,-62.71C1323.74,-64.26 1333.39,-65.74 1342,-67.06\"/>\n",
       "<polygon fill=\"black\" stroke=\"black\" points=\"1341.52,-70.52 1351.93,-68.57 1342.58,-63.6 1341.52,-70.52\"/>\n",
       "</g>\n",
       "<!-- 139972769974784_pow -->\n",
       "<g id=\"node2\" class=\"node\">\n",
       "<title>139972769974784_pow</title>\n",
       "<ellipse fill=\"none\" stroke=\"black\" cx=\"1018.69\" cy=\"-45.5\" rx=\"29.8\" ry=\"18\"/>\n",
       "<text text-anchor=\"middle\" x=\"1018.69\" y=\"-41.8\" font-family=\"Times,serif\" font-size=\"14.00\">pow</text>\n",
       "</g>\n",
       "<!-- 139972769974784_pow&#45;&gt;139972769974784 -->\n",
       "<g id=\"edge1\" class=\"edge\">\n",
       "<title>139972769974784_pow&#45;&gt;139972769974784</title>\n",
       "<path fill=\"none\" stroke=\"black\" d=\"M1048.91,-45.5C1057.03,-45.5 1066.38,-45.5 1076.37,-45.5\"/>\n",
       "<polygon fill=\"black\" stroke=\"black\" points=\"1076.55,-49 1086.55,-45.5 1076.55,-42 1076.55,-49\"/>\n",
       "</g>\n",
       "<!-- 139972769975360 -->\n",
       "<g id=\"node3\" class=\"node\">\n",
       "<title>139972769975360</title>\n",
       "<polygon fill=\"none\" stroke=\"black\" points=\"1084.59,-82.5 1084.59,-118.5 1315.59,-118.5 1315.59,-82.5 1084.59,-82.5\"/>\n",
       "<text text-anchor=\"middle\" x=\"1097.09\" y=\"-96.8\" font-family=\"Times,serif\" font-size=\"14.00\">e</text>\n",
       "<polyline fill=\"none\" stroke=\"black\" points=\"1109.59,-82.5 1109.59,-118.5 \"/>\n",
       "<text text-anchor=\"middle\" x=\"1160.59\" y=\"-96.8\" font-family=\"Times,serif\" font-size=\"14.00\">data 3.0000</text>\n",
       "<polyline fill=\"none\" stroke=\"black\" points=\"1211.59,-82.5 1211.59,-118.5 \"/>\n",
       "<text text-anchor=\"middle\" x=\"1263.59\" y=\"-96.8\" font-family=\"Times,serif\" font-size=\"14.00\">grad 0.0000</text>\n",
       "</g>\n",
       "<!-- 139972769975360&#45;&gt;139972769973728_* -->\n",
       "<g id=\"edge6\" class=\"edge\">\n",
       "<title>139972769975360&#45;&gt;139972769973728_*</title>\n",
       "<path fill=\"none\" stroke=\"black\" d=\"M1314.87,-82.45C1324.62,-80.9 1333.92,-79.43 1342.23,-78.11\"/>\n",
       "<polygon fill=\"black\" stroke=\"black\" points=\"1342.86,-81.55 1352.18,-76.53 1341.76,-74.64 1342.86,-81.55\"/>\n",
       "</g>\n",
       "<!-- 139972769974400 -->\n",
       "<g id=\"node4\" class=\"node\">\n",
       "<title>139972769974400</title>\n",
       "<polygon fill=\"none\" stroke=\"black\" points=\"720.79,-27.5 720.79,-63.5 952.79,-63.5 952.79,-27.5 720.79,-27.5\"/>\n",
       "<text text-anchor=\"middle\" x=\"733.79\" y=\"-41.8\" font-family=\"Times,serif\" font-size=\"14.00\">d</text>\n",
       "<polyline fill=\"none\" stroke=\"black\" points=\"746.79,-27.5 746.79,-63.5 \"/>\n",
       "<text text-anchor=\"middle\" x=\"797.79\" y=\"-41.8\" font-family=\"Times,serif\" font-size=\"14.00\">data 8.0000</text>\n",
       "<polyline fill=\"none\" stroke=\"black\" points=\"848.79,-27.5 848.79,-63.5 \"/>\n",
       "<text text-anchor=\"middle\" x=\"900.79\" y=\"-41.8\" font-family=\"Times,serif\" font-size=\"14.00\">grad 0.0000</text>\n",
       "</g>\n",
       "<!-- 139972769974400&#45;&gt;139972769974784_pow -->\n",
       "<g id=\"edge8\" class=\"edge\">\n",
       "<title>139972769974400&#45;&gt;139972769974784_pow</title>\n",
       "<path fill=\"none\" stroke=\"black\" d=\"M953,-45.5C961.97,-45.5 970.57,-45.5 978.41,-45.5\"/>\n",
       "<polygon fill=\"black\" stroke=\"black\" points=\"978.59,-49 988.59,-45.5 978.59,-42 978.59,-49\"/>\n",
       "</g>\n",
       "<!-- 139972769974400_+ -->\n",
       "<g id=\"node5\" class=\"node\">\n",
       "<title>139972769974400_+</title>\n",
       "<ellipse fill=\"none\" stroke=\"black\" cx=\"657.79\" cy=\"-45.5\" rx=\"27\" ry=\"18\"/>\n",
       "<text text-anchor=\"middle\" x=\"657.79\" y=\"-41.8\" font-family=\"Times,serif\" font-size=\"14.00\">+</text>\n",
       "</g>\n",
       "<!-- 139972769974400_+&#45;&gt;139972769974400 -->\n",
       "<g id=\"edge2\" class=\"edge\">\n",
       "<title>139972769974400_+&#45;&gt;139972769974400</title>\n",
       "<path fill=\"none\" stroke=\"black\" d=\"M684.91,-45.5C692.33,-45.5 700.93,-45.5 710.2,-45.5\"/>\n",
       "<polygon fill=\"black\" stroke=\"black\" points=\"710.49,-49 720.49,-45.5 710.49,-42 710.49,-49\"/>\n",
       "</g>\n",
       "<!-- 139972769973536 -->\n",
       "<g id=\"node6\" class=\"node\">\n",
       "<title>139972769973536</title>\n",
       "<polygon fill=\"none\" stroke=\"black\" points=\"362.79,-55.5 362.79,-91.5 594.79,-91.5 594.79,-55.5 362.79,-55.5\"/>\n",
       "<text text-anchor=\"middle\" x=\"375.79\" y=\"-69.8\" font-family=\"Times,serif\" font-size=\"14.00\">b</text>\n",
       "<polyline fill=\"none\" stroke=\"black\" points=\"388.79,-55.5 388.79,-91.5 \"/>\n",
       "<text text-anchor=\"middle\" x=\"439.79\" y=\"-69.8\" font-family=\"Times,serif\" font-size=\"14.00\">data 4.0000</text>\n",
       "<polyline fill=\"none\" stroke=\"black\" points=\"490.79,-55.5 490.79,-91.5 \"/>\n",
       "<text text-anchor=\"middle\" x=\"542.79\" y=\"-69.8\" font-family=\"Times,serif\" font-size=\"14.00\">grad 0.0000</text>\n",
       "</g>\n",
       "<!-- 139972769973536&#45;&gt;139972769974400_+ -->\n",
       "<g id=\"edge5\" class=\"edge\">\n",
       "<title>139972769973536&#45;&gt;139972769974400_+</title>\n",
       "<path fill=\"none\" stroke=\"black\" d=\"M593.89,-55.45C603.68,-53.9 613,-52.43 621.33,-51.11\"/>\n",
       "<polygon fill=\"black\" stroke=\"black\" points=\"621.99,-54.55 631.32,-49.53 620.89,-47.64 621.99,-54.55\"/>\n",
       "</g>\n",
       "<!-- 139972769974592 -->\n",
       "<g id=\"node7\" class=\"node\">\n",
       "<title>139972769974592</title>\n",
       "<polygon fill=\"none\" stroke=\"black\" points=\"0,-0.5 0,-36.5 231,-36.5 231,-0.5 0,-0.5\"/>\n",
       "<text text-anchor=\"middle\" x=\"12.5\" y=\"-14.8\" font-family=\"Times,serif\" font-size=\"14.00\">a</text>\n",
       "<polyline fill=\"none\" stroke=\"black\" points=\"25,-0.5 25,-36.5 \"/>\n",
       "<text text-anchor=\"middle\" x=\"76\" y=\"-14.8\" font-family=\"Times,serif\" font-size=\"14.00\">data 2.0000</text>\n",
       "<polyline fill=\"none\" stroke=\"black\" points=\"127,-0.5 127,-36.5 \"/>\n",
       "<text text-anchor=\"middle\" x=\"179\" y=\"-14.8\" font-family=\"Times,serif\" font-size=\"14.00\">grad 0.0000</text>\n",
       "</g>\n",
       "<!-- 139972769975168_pow -->\n",
       "<g id=\"node9\" class=\"node\">\n",
       "<title>139972769975168_pow</title>\n",
       "<ellipse fill=\"none\" stroke=\"black\" cx=\"296.9\" cy=\"-18.5\" rx=\"29.8\" ry=\"18\"/>\n",
       "<text text-anchor=\"middle\" x=\"296.9\" y=\"-14.8\" font-family=\"Times,serif\" font-size=\"14.00\">pow</text>\n",
       "</g>\n",
       "<!-- 139972769974592&#45;&gt;139972769975168_pow -->\n",
       "<g id=\"edge7\" class=\"edge\">\n",
       "<title>139972769974592&#45;&gt;139972769975168_pow</title>\n",
       "<path fill=\"none\" stroke=\"black\" d=\"M231.13,-18.5C240.1,-18.5 248.71,-18.5 256.56,-18.5\"/>\n",
       "<polygon fill=\"black\" stroke=\"black\" points=\"256.75,-22 266.75,-18.5 256.75,-15 256.75,-22\"/>\n",
       "</g>\n",
       "<!-- 139972769975168 -->\n",
       "<g id=\"node8\" class=\"node\">\n",
       "<title>139972769975168</title>\n",
       "<polygon fill=\"none\" stroke=\"black\" points=\"363.79,-0.5 363.79,-36.5 593.79,-36.5 593.79,-0.5 363.79,-0.5\"/>\n",
       "<text text-anchor=\"middle\" x=\"375.79\" y=\"-14.8\" font-family=\"Times,serif\" font-size=\"14.00\">c</text>\n",
       "<polyline fill=\"none\" stroke=\"black\" points=\"387.79,-0.5 387.79,-36.5 \"/>\n",
       "<text text-anchor=\"middle\" x=\"438.79\" y=\"-14.8\" font-family=\"Times,serif\" font-size=\"14.00\">data 4.0000</text>\n",
       "<polyline fill=\"none\" stroke=\"black\" points=\"489.79,-0.5 489.79,-36.5 \"/>\n",
       "<text text-anchor=\"middle\" x=\"541.79\" y=\"-14.8\" font-family=\"Times,serif\" font-size=\"14.00\">grad 0.0000</text>\n",
       "</g>\n",
       "<!-- 139972769975168&#45;&gt;139972769974400_+ -->\n",
       "<g id=\"edge10\" class=\"edge\">\n",
       "<title>139972769975168&#45;&gt;139972769974400_+</title>\n",
       "<path fill=\"none\" stroke=\"black\" d=\"M593.89,-35.9C603.68,-37.4 613,-38.82 621.33,-40.09\"/>\n",
       "<polygon fill=\"black\" stroke=\"black\" points=\"620.9,-43.57 631.32,-41.61 621.96,-36.65 620.9,-43.57\"/>\n",
       "</g>\n",
       "<!-- 139972769975168_pow&#45;&gt;139972769975168 -->\n",
       "<g id=\"edge3\" class=\"edge\">\n",
       "<title>139972769975168_pow&#45;&gt;139972769975168</title>\n",
       "<path fill=\"none\" stroke=\"black\" d=\"M326.8,-18.5C334.77,-18.5 343.95,-18.5 353.77,-18.5\"/>\n",
       "<polygon fill=\"black\" stroke=\"black\" points=\"353.78,-22 363.78,-18.5 353.78,-15 353.78,-22\"/>\n",
       "</g>\n",
       "<!-- 139972769973728 -->\n",
       "<g id=\"node10\" class=\"node\">\n",
       "<title>139972769973728</title>\n",
       "<polygon fill=\"none\" stroke=\"black\" points=\"1441.59,-54.5 1441.59,-90.5 1673.59,-90.5 1673.59,-54.5 1441.59,-54.5\"/>\n",
       "<text text-anchor=\"middle\" x=\"1454.59\" y=\"-68.8\" font-family=\"Times,serif\" font-size=\"14.00\">L</text>\n",
       "<polyline fill=\"none\" stroke=\"black\" points=\"1467.59,-54.5 1467.59,-90.5 \"/>\n",
       "<text text-anchor=\"middle\" x=\"1518.59\" y=\"-68.8\" font-family=\"Times,serif\" font-size=\"14.00\">data 0.3750</text>\n",
       "<polyline fill=\"none\" stroke=\"black\" points=\"1569.59,-54.5 1569.59,-90.5 \"/>\n",
       "<text text-anchor=\"middle\" x=\"1621.59\" y=\"-68.8\" font-family=\"Times,serif\" font-size=\"14.00\">grad 0.0000</text>\n",
       "</g>\n",
       "<!-- 139972769973728_*&#45;&gt;139972769973728 -->\n",
       "<g id=\"edge4\" class=\"edge\">\n",
       "<title>139972769973728_*&#45;&gt;139972769973728</title>\n",
       "<path fill=\"none\" stroke=\"black\" d=\"M1405.71,-72.5C1413.12,-72.5 1421.73,-72.5 1430.99,-72.5\"/>\n",
       "<polygon fill=\"black\" stroke=\"black\" points=\"1431.28,-76 1441.28,-72.5 1431.28,-69 1431.28,-76\"/>\n",
       "</g>\n",
       "</g>\n",
       "</svg>\n"
      ],
      "text/plain": [
       "<graphviz.graphs.Digraph at 0x7f4df33b86d0>"
      ]
     },
     "execution_count": 5,
     "metadata": {},
     "output_type": "execute_result"
    }
   ],
   "source": [
    "draw_graph(L)"
   ]
  },
  {
   "cell_type": "code",
   "execution_count": 6,
   "id": "96b8d2d8",
   "metadata": {},
   "outputs": [
    {
     "name": "stdout",
     "output_type": "stream",
     "text": [
      "Value(L=0.375)\n",
      "Value(e=3.0)\n",
      "Value(=0.125)\n",
      "Value(d=8.0)\n",
      "Value(b=4.0)\n",
      "Value(c=4.0)\n",
      "Value(a=2.0)\n"
     ]
    }
   ],
   "source": [
    "L.grad = 1\n",
    "L.backward()"
   ]
  },
  {
   "cell_type": "code",
   "execution_count": 7,
   "id": "28f5b3c0",
   "metadata": {},
   "outputs": [],
   "source": [
    "import torch"
   ]
  },
  {
   "cell_type": "code",
   "execution_count": 8,
   "id": "2905c6cb",
   "metadata": {},
   "outputs": [],
   "source": [
    "a = torch.Tensor([2.0]).double(); a.requires_grad = True\n",
    "b = torch.Tensor([4.0]).double(); b.requires_grad = True\n",
    "c = a**2.0\n",
    "d = b + c\n",
    "e = torch.Tensor([3.0]).double(); e.requires_grad = True\n",
    "L = e/d"
   ]
  },
  {
   "cell_type": "code",
   "execution_count": 9,
   "id": "f846f74c",
   "metadata": {},
   "outputs": [],
   "source": [
    "L.backward()"
   ]
  },
  {
   "cell_type": "code",
   "execution_count": 10,
   "id": "cb0e2865",
   "metadata": {},
   "outputs": [
    {
     "data": {
      "text/plain": [
       "(-0.1875, -0.046875, 0.125)"
      ]
     },
     "execution_count": 10,
     "metadata": {},
     "output_type": "execute_result"
    }
   ],
   "source": [
    "a.grad.item(), b.grad.item(), e.grad.item()"
   ]
  },
  {
   "cell_type": "markdown",
   "id": "79c06268",
   "metadata": {},
   "source": [
    "### Convert this file to md"
   ]
  },
  {
   "cell_type": "code",
   "execution_count": 11,
   "id": "b22ed51d",
   "metadata": {},
   "outputs": [],
   "source": [
    "from IPython.core.display import Javascript"
   ]
  },
  {
   "cell_type": "code",
   "execution_count": 14,
   "id": "862d5b3e",
   "metadata": {},
   "outputs": [
    {
     "data": {
      "application/javascript": [
       "IPython.notebook.kernel.execute('this_notebook = \"' + IPython.notebook.notebook_name + '\"')\n"
      ],
      "text/plain": [
       "<IPython.core.display.Javascript object>"
      ]
     },
     "metadata": {},
     "output_type": "display_data"
    }
   ],
   "source": [
    "%%js\n",
    "IPython.notebook.kernel.execute('this_notebook = \"' + IPython.notebook.notebook_name + '\"')"
   ]
  },
  {
   "cell_type": "code",
   "execution_count": 15,
   "id": "ade82929",
   "metadata": {},
   "outputs": [
    {
     "data": {
      "text/plain": [
       "'2022-11-17-implement-the-backward-function-for-each-operation.ipynb'"
      ]
     },
     "execution_count": 15,
     "metadata": {},
     "output_type": "execute_result"
    }
   ],
   "source": [
    "this_notebook"
   ]
  },
  {
   "cell_type": "code",
   "execution_count": 16,
   "id": "af83fddd",
   "metadata": {},
   "outputs": [
    {
     "name": "stdout",
     "output_type": "stream",
     "text": [
      "[NbConvertApp] Converting notebook 2022-11-17-implement-the-backward-function-for-each-operation.ipynb to markdown\n",
      "[NbConvertApp] Support files will be in 2022-11-17-implement-the-backward-function-for-each-operation_files/\n",
      "[NbConvertApp] Making directory ../_posts/2022-11-17-implement-the-backward-function-for-each-operation_files\n",
      "[NbConvertApp] Writing 5011 bytes to ../_posts/2022-11-17-implement-the-backward-function-for-each-operation.md\n"
     ]
    }
   ],
   "source": [
    "!jupyter nbconvert --to markdown {this_notebook} --output-dir=../_posts"
   ]
  }
 ],
 "metadata": {
  "kernelspec": {
   "display_name": "Python 3 (ipykernel)",
   "language": "python",
   "name": "python3"
  },
  "language_info": {
   "codemirror_mode": {
    "name": "ipython",
    "version": 3
   },
   "file_extension": ".py",
   "mimetype": "text/x-python",
   "name": "python",
   "nbconvert_exporter": "python",
   "pygments_lexer": "ipython3",
   "version": "3.8.12"
  }
 },
 "nbformat": 4,
 "nbformat_minor": 5
}
