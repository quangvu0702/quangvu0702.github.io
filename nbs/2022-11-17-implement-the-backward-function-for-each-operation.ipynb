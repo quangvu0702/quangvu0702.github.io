{
 "cells": [
  {
   "cell_type": "markdown",
   "id": "49e19edd",
   "metadata": {},
   "source": [
    "# Derivative of a simple function"
   ]
  },
  {
   "cell_type": "code",
   "execution_count": 1,
   "id": "c0b2ba7f",
   "metadata": {},
   "outputs": [],
   "source": [
    "import numpy as np\n",
    "import matplotlib.pyplot as plt\n",
    "%matplotlib inline"
   ]
  },
  {
   "cell_type": "code",
   "execution_count": 2,
   "id": "681c9b90",
   "metadata": {},
   "outputs": [],
   "source": [
    "# plot graph\n",
    "import graphviz\n",
    "\n",
    "def trace(root):\n",
    "    nodes, edges = set(), set()\n",
    "    def build(root):\n",
    "        if root not in nodes:\n",
    "            nodes.add(root)\n",
    "        for v in root._children:\n",
    "            edges.add((v, root))\n",
    "            build(v)\n",
    "    build(root)\n",
    "    return nodes, edges\n",
    "\n",
    "def draw_graph(root):\n",
    "    f = graphviz.Digraph(format='svg', graph_attr={'rankdir':\"LR\"})\n",
    "    nodes, edges = trace(root)\n",
    "    for v in nodes:\n",
    "#         f.node(str(id(v)), label=\"{%s|data %.4f|grad %.4f}\" %(v.label, v.data, v.grad) , shape='record')\n",
    "        f.node(str(id(v)), label=f\"{v.label}|data {v.data}|grad {v.grad}\", shape='record')\n",
    "        if v._op:\n",
    "            f.node(f'{str(id(v))}_{v._op}', label=f\"{v._op}\")\n",
    "            f.edge(f'{str(id(v))}_{v._op}', str(id(v)))\n",
    "    for v1, v2 in edges:\n",
    "        f.edge(str(id(v1)), f'{str(id(v2))}_{v2._op}')\n",
    "    return f"
   ]
  },
  {
   "cell_type": "code",
   "execution_count": 3,
   "id": "f0d39f11",
   "metadata": {},
   "outputs": [],
   "source": [
    "import math\n",
    "\n",
    "class Value():\n",
    "    def __init__(self, data, label='', _children=[], _op=\"\", grad = 0):\n",
    "        self.data = data\n",
    "        self.label = label\n",
    "        self._children = set(_children)\n",
    "        self._op = _op\n",
    "        self.grad = grad\n",
    "        self._backward = lambda:None\n",
    "    def __repr__(self):\n",
    "        return f\"Value({self.label}={self.data})\"\n",
    "    \n",
    "    def __add__(self, other):\n",
    "        other = other if isinstance(other, Value) else Value(other)\n",
    "        out = Value(self.data + other.data, _children=[self, other], _op=\"+\")\n",
    "        def _backward():\n",
    "            self.grad += 1.0 * out.grad\n",
    "            other.grad += 1.0 * out.grad\n",
    "        out._backward = _backward\n",
    "        return out\n",
    "    \n",
    "    def __radd__(self, other):\n",
    "        return self + other\n",
    "\n",
    "    def __mul__(self, other):\n",
    "        other = other if isinstance(other, Value) else Value(other)\n",
    "        out = Value(self.data * other.data, _children=[self, other], _op=\"*\")\n",
    "        def _backward():\n",
    "            self.grad += other.data * out.grad\n",
    "            other.grad += self.data * out.grad\n",
    "        out._backward = _backward\n",
    "        return out\n",
    "\n",
    "    def __rmul__(self, other):\n",
    "        return self * other\n",
    "\n",
    "    def tanh(self):\n",
    "        tanh = math.tanh(self.data)\n",
    "        out = Value(tanh, _children=[self, ], _op=\"tanh\")\n",
    "        def _backward():\n",
    "            self.grad += (1 - out.data**2) * out.grad\n",
    "        out._backward = _backward\n",
    "        return out\n",
    "    \n",
    "    def exp(self):\n",
    "        out = Value(math.exp(self.data), _children=[self, ], _op='exp')\n",
    "        def _backward():\n",
    "            self.grad += out.data * out.grad\n",
    "        out._backward = _backward\n",
    "        return out\n",
    "\n",
    "    def __pow__(self, n):\n",
    "        out = Value(self.data**n, _children=[self, ], _op='pow')\n",
    "        def _backward():\n",
    "            self.grad += n * self.data**(n-1) * out.grad\n",
    "        out._backward = _backward\n",
    "        return out\n",
    "    \n",
    "    def __truediv__(self, other):\n",
    "        return self * other**(-1)\n",
    "\n",
    "    def backward(self):\n",
    "        topo = []\n",
    "        visited = set()\n",
    "        def build_topo(v):\n",
    "            if v not in visited:\n",
    "                visited.add(v)\n",
    "                for o in v._children:\n",
    "                    build_topo(o)\n",
    "                topo.append(v)\n",
    "\n",
    "        build_topo(self)\n",
    "        for node in reversed(topo):\n",
    "            print(node)\n",
    "            node._backward()"
   ]
  },
  {
   "cell_type": "code",
   "execution_count": 4,
   "id": "bdacbf66",
   "metadata": {},
   "outputs": [],
   "source": [
    "a = Value(2.0, 'a')\n",
    "b = Value(4.0, 'b')\n",
    "c = a ** 2; c.label = 'c'\n",
    "d = b + c; d.label = 'd'\n",
    "e = Value(3.0, 'e')\n",
    "L = e / d; L.label = 'L'"
   ]
  },
  {
   "cell_type": "code",
   "execution_count": 5,
   "id": "547411f7",
   "metadata": {},
   "outputs": [
    {
     "data": {
      "image/svg+xml": [
       "<?xml version=\"1.0\" encoding=\"UTF-8\" standalone=\"no\"?>\n",
       "<!DOCTYPE svg PUBLIC \"-//W3C//DTD SVG 1.1//EN\"\n",
       " \"http://www.w3.org/Graphics/SVG/1.1/DTD/svg11.dtd\">\n",
       "<!-- Generated by graphviz version 2.43.0 (0)\n",
       " -->\n",
       "<!-- Title: %3 Pages: 1 -->\n",
       "<svg width=\"935pt\" height=\"210pt\"\n",
       " viewBox=\"0.00 0.00 934.59 210.00\" xmlns=\"http://www.w3.org/2000/svg\" xmlns:xlink=\"http://www.w3.org/1999/xlink\">\n",
       "<g id=\"graph0\" class=\"graph\" transform=\"scale(1 1) rotate(0) translate(4 206)\">\n",
       "<title>%3</title>\n",
       "<polygon fill=\"white\" stroke=\"transparent\" points=\"-4,4 -4,-206 930.59,-206 930.59,4 -4,4\"/>\n",
       "<!-- 139868859804208 -->\n",
       "<g id=\"node1\" class=\"node\">\n",
       "<title>139868859804208</title>\n",
       "<polygon fill=\"none\" stroke=\"black\" points=\"407.79,-44.5 407.79,-113.5 482.79,-113.5 482.79,-44.5 407.79,-44.5\"/>\n",
       "<text text-anchor=\"middle\" x=\"445.29\" y=\"-98.3\" font-family=\"Times,serif\" font-size=\"14.00\">d</text>\n",
       "<polyline fill=\"none\" stroke=\"black\" points=\"407.79,-90.5 482.79,-90.5 \"/>\n",
       "<text text-anchor=\"middle\" x=\"445.29\" y=\"-75.3\" font-family=\"Times,serif\" font-size=\"14.00\">data 8.0</text>\n",
       "<polyline fill=\"none\" stroke=\"black\" points=\"407.79,-67.5 482.79,-67.5 \"/>\n",
       "<text text-anchor=\"middle\" x=\"445.29\" y=\"-52.3\" font-family=\"Times,serif\" font-size=\"14.00\">grad 0</text>\n",
       "</g>\n",
       "<!-- 139868859805024_pow -->\n",
       "<g id=\"node8\" class=\"node\">\n",
       "<title>139868859805024_pow</title>\n",
       "<ellipse fill=\"none\" stroke=\"black\" cx=\"548.69\" cy=\"-79\" rx=\"29.8\" ry=\"18\"/>\n",
       "<text text-anchor=\"middle\" x=\"548.69\" y=\"-75.3\" font-family=\"Times,serif\" font-size=\"14.00\">pow</text>\n",
       "</g>\n",
       "<!-- 139868859804208&#45;&gt;139868859805024_pow -->\n",
       "<g id=\"edge9\" class=\"edge\">\n",
       "<title>139868859804208&#45;&gt;139868859805024_pow</title>\n",
       "<path fill=\"none\" stroke=\"black\" d=\"M482.9,-79C491.29,-79 500.24,-79 508.72,-79\"/>\n",
       "<polygon fill=\"black\" stroke=\"black\" points=\"508.77,-82.5 518.77,-79 508.77,-75.5 508.77,-82.5\"/>\n",
       "</g>\n",
       "<!-- 139868859804208_+ -->\n",
       "<g id=\"node2\" class=\"node\">\n",
       "<title>139868859804208_+</title>\n",
       "<ellipse fill=\"none\" stroke=\"black\" cx=\"344.79\" cy=\"-79\" rx=\"27\" ry=\"18\"/>\n",
       "<text text-anchor=\"middle\" x=\"344.79\" y=\"-75.3\" font-family=\"Times,serif\" font-size=\"14.00\">+</text>\n",
       "</g>\n",
       "<!-- 139868859804208_+&#45;&gt;139868859804208 -->\n",
       "<g id=\"edge1\" class=\"edge\">\n",
       "<title>139868859804208_+&#45;&gt;139868859804208</title>\n",
       "<path fill=\"none\" stroke=\"black\" d=\"M371.93,-79C379.8,-79 388.68,-79 397.46,-79\"/>\n",
       "<polygon fill=\"black\" stroke=\"black\" points=\"397.65,-82.5 407.65,-79 397.65,-75.5 397.65,-82.5\"/>\n",
       "</g>\n",
       "<!-- 139868859804784 -->\n",
       "<g id=\"node3\" class=\"node\">\n",
       "<title>139868859804784</title>\n",
       "<polygon fill=\"none\" stroke=\"black\" points=\"623.59,-132.5 623.59,-201.5 698.59,-201.5 698.59,-132.5 623.59,-132.5\"/>\n",
       "<text text-anchor=\"middle\" x=\"661.09\" y=\"-186.3\" font-family=\"Times,serif\" font-size=\"14.00\">e</text>\n",
       "<polyline fill=\"none\" stroke=\"black\" points=\"623.59,-178.5 698.59,-178.5 \"/>\n",
       "<text text-anchor=\"middle\" x=\"661.09\" y=\"-163.3\" font-family=\"Times,serif\" font-size=\"14.00\">data 3.0</text>\n",
       "<polyline fill=\"none\" stroke=\"black\" points=\"623.59,-155.5 698.59,-155.5 \"/>\n",
       "<text text-anchor=\"middle\" x=\"661.09\" y=\"-140.3\" font-family=\"Times,serif\" font-size=\"14.00\">grad 0</text>\n",
       "</g>\n",
       "<!-- 139868859803920_* -->\n",
       "<g id=\"node6\" class=\"node\">\n",
       "<title>139868859803920_*</title>\n",
       "<ellipse fill=\"none\" stroke=\"black\" cx=\"770.59\" cy=\"-123\" rx=\"27\" ry=\"18\"/>\n",
       "<text text-anchor=\"middle\" x=\"770.59\" y=\"-119.3\" font-family=\"Times,serif\" font-size=\"14.00\">*</text>\n",
       "</g>\n",
       "<!-- 139868859804784&#45;&gt;139868859803920_* -->\n",
       "<g id=\"edge6\" class=\"edge\">\n",
       "<title>139868859804784&#45;&gt;139868859803920_*</title>\n",
       "<path fill=\"none\" stroke=\"black\" d=\"M698.78,-151.98C711.45,-146.79 725.54,-141.03 737.78,-136.02\"/>\n",
       "<polygon fill=\"black\" stroke=\"black\" points=\"739.22,-139.21 747.15,-132.19 736.57,-132.73 739.22,-139.21\"/>\n",
       "</g>\n",
       "<!-- 139868859804352 -->\n",
       "<g id=\"node4\" class=\"node\">\n",
       "<title>139868859804352</title>\n",
       "<polygon fill=\"none\" stroke=\"black\" points=\"206.79,-88.5 206.79,-157.5 281.79,-157.5 281.79,-88.5 206.79,-88.5\"/>\n",
       "<text text-anchor=\"middle\" x=\"244.29\" y=\"-142.3\" font-family=\"Times,serif\" font-size=\"14.00\">b</text>\n",
       "<polyline fill=\"none\" stroke=\"black\" points=\"206.79,-134.5 281.79,-134.5 \"/>\n",
       "<text text-anchor=\"middle\" x=\"244.29\" y=\"-119.3\" font-family=\"Times,serif\" font-size=\"14.00\">data 4.0</text>\n",
       "<polyline fill=\"none\" stroke=\"black\" points=\"206.79,-111.5 281.79,-111.5 \"/>\n",
       "<text text-anchor=\"middle\" x=\"244.29\" y=\"-96.3\" font-family=\"Times,serif\" font-size=\"14.00\">grad 0</text>\n",
       "</g>\n",
       "<!-- 139868859804352&#45;&gt;139868859804208_+ -->\n",
       "<g id=\"edge7\" class=\"edge\">\n",
       "<title>139868859804352&#45;&gt;139868859804208_+</title>\n",
       "<path fill=\"none\" stroke=\"black\" d=\"M281.97,-106.62C292.06,-102.11 302.91,-97.26 312.66,-92.91\"/>\n",
       "<polygon fill=\"black\" stroke=\"black\" points=\"314.27,-96.02 321.97,-88.75 311.41,-89.63 314.27,-96.02\"/>\n",
       "</g>\n",
       "<!-- 139868859803920 -->\n",
       "<g id=\"node5\" class=\"node\">\n",
       "<title>139868859803920</title>\n",
       "<polygon fill=\"none\" stroke=\"black\" points=\"833.59,-88.5 833.59,-157.5 926.59,-157.5 926.59,-88.5 833.59,-88.5\"/>\n",
       "<text text-anchor=\"middle\" x=\"880.09\" y=\"-142.3\" font-family=\"Times,serif\" font-size=\"14.00\">L</text>\n",
       "<polyline fill=\"none\" stroke=\"black\" points=\"833.59,-134.5 926.59,-134.5 \"/>\n",
       "<text text-anchor=\"middle\" x=\"880.09\" y=\"-119.3\" font-family=\"Times,serif\" font-size=\"14.00\">data 0.375</text>\n",
       "<polyline fill=\"none\" stroke=\"black\" points=\"833.59,-111.5 926.59,-111.5 \"/>\n",
       "<text text-anchor=\"middle\" x=\"880.09\" y=\"-96.3\" font-family=\"Times,serif\" font-size=\"14.00\">grad 0</text>\n",
       "</g>\n",
       "<!-- 139868859803920_*&#45;&gt;139868859803920 -->\n",
       "<g id=\"edge2\" class=\"edge\">\n",
       "<title>139868859803920_*&#45;&gt;139868859803920</title>\n",
       "<path fill=\"none\" stroke=\"black\" d=\"M797.61,-123C805.47,-123 814.41,-123 823.43,-123\"/>\n",
       "<polygon fill=\"black\" stroke=\"black\" points=\"823.58,-126.5 833.58,-123 823.58,-119.5 823.58,-126.5\"/>\n",
       "</g>\n",
       "<!-- 139868859805024 -->\n",
       "<g id=\"node7\" class=\"node\">\n",
       "<title>139868859805024</title>\n",
       "<polygon fill=\"none\" stroke=\"black\" points=\"614.59,-44.5 614.59,-113.5 707.59,-113.5 707.59,-44.5 614.59,-44.5\"/>\n",
       "<text text-anchor=\"middle\" x=\"661.09\" y=\"-98.3\" font-family=\"Times,serif\" font-size=\"14.00\"> </text>\n",
       "<polyline fill=\"none\" stroke=\"black\" points=\"614.59,-90.5 707.59,-90.5 \"/>\n",
       "<text text-anchor=\"middle\" x=\"661.09\" y=\"-75.3\" font-family=\"Times,serif\" font-size=\"14.00\">data 0.125</text>\n",
       "<polyline fill=\"none\" stroke=\"black\" points=\"614.59,-67.5 707.59,-67.5 \"/>\n",
       "<text text-anchor=\"middle\" x=\"661.09\" y=\"-52.3\" font-family=\"Times,serif\" font-size=\"14.00\">grad 0</text>\n",
       "</g>\n",
       "<!-- 139868859805024&#45;&gt;139868859803920_* -->\n",
       "<g id=\"edge5\" class=\"edge\">\n",
       "<title>139868859805024&#45;&gt;139868859803920_*</title>\n",
       "<path fill=\"none\" stroke=\"black\" d=\"M707.68,-97.66C717.79,-101.8 728.29,-106.1 737.71,-109.95\"/>\n",
       "<polygon fill=\"black\" stroke=\"black\" points=\"736.5,-113.24 747.08,-113.79 739.15,-106.76 736.5,-113.24\"/>\n",
       "</g>\n",
       "<!-- 139868859805024_pow&#45;&gt;139868859805024 -->\n",
       "<g id=\"edge3\" class=\"edge\">\n",
       "<title>139868859805024_pow&#45;&gt;139868859805024</title>\n",
       "<path fill=\"none\" stroke=\"black\" d=\"M578.7,-79C586.5,-79 595.22,-79 603.97,-79\"/>\n",
       "<polygon fill=\"black\" stroke=\"black\" points=\"604.2,-82.5 614.2,-79 604.2,-75.5 604.2,-82.5\"/>\n",
       "</g>\n",
       "<!-- 139868859804016 -->\n",
       "<g id=\"node9\" class=\"node\">\n",
       "<title>139868859804016</title>\n",
       "<polygon fill=\"none\" stroke=\"black\" points=\"0,-0.5 0,-69.5 75,-69.5 75,-0.5 0,-0.5\"/>\n",
       "<text text-anchor=\"middle\" x=\"37.5\" y=\"-54.3\" font-family=\"Times,serif\" font-size=\"14.00\">a</text>\n",
       "<polyline fill=\"none\" stroke=\"black\" points=\"0,-46.5 75,-46.5 \"/>\n",
       "<text text-anchor=\"middle\" x=\"37.5\" y=\"-31.3\" font-family=\"Times,serif\" font-size=\"14.00\">data 2.0</text>\n",
       "<polyline fill=\"none\" stroke=\"black\" points=\"0,-23.5 75,-23.5 \"/>\n",
       "<text text-anchor=\"middle\" x=\"37.5\" y=\"-8.3\" font-family=\"Times,serif\" font-size=\"14.00\">grad 0</text>\n",
       "</g>\n",
       "<!-- 139868859805120_pow -->\n",
       "<g id=\"node11\" class=\"node\">\n",
       "<title>139868859805120_pow</title>\n",
       "<ellipse fill=\"none\" stroke=\"black\" cx=\"140.9\" cy=\"-35\" rx=\"29.8\" ry=\"18\"/>\n",
       "<text text-anchor=\"middle\" x=\"140.9\" y=\"-31.3\" font-family=\"Times,serif\" font-size=\"14.00\">pow</text>\n",
       "</g>\n",
       "<!-- 139868859804016&#45;&gt;139868859805120_pow -->\n",
       "<g id=\"edge10\" class=\"edge\">\n",
       "<title>139868859804016&#45;&gt;139868859805120_pow</title>\n",
       "<path fill=\"none\" stroke=\"black\" d=\"M75.11,-35C83.5,-35 92.44,-35 100.93,-35\"/>\n",
       "<polygon fill=\"black\" stroke=\"black\" points=\"100.98,-38.5 110.98,-35 100.98,-31.5 100.98,-38.5\"/>\n",
       "</g>\n",
       "<!-- 139868859805120 -->\n",
       "<g id=\"node10\" class=\"node\">\n",
       "<title>139868859805120</title>\n",
       "<polygon fill=\"none\" stroke=\"black\" points=\"206.79,-0.5 206.79,-69.5 281.79,-69.5 281.79,-0.5 206.79,-0.5\"/>\n",
       "<text text-anchor=\"middle\" x=\"244.29\" y=\"-54.3\" font-family=\"Times,serif\" font-size=\"14.00\">c</text>\n",
       "<polyline fill=\"none\" stroke=\"black\" points=\"206.79,-46.5 281.79,-46.5 \"/>\n",
       "<text text-anchor=\"middle\" x=\"244.29\" y=\"-31.3\" font-family=\"Times,serif\" font-size=\"14.00\">data 4.0</text>\n",
       "<polyline fill=\"none\" stroke=\"black\" points=\"206.79,-23.5 281.79,-23.5 \"/>\n",
       "<text text-anchor=\"middle\" x=\"244.29\" y=\"-8.3\" font-family=\"Times,serif\" font-size=\"14.00\">grad 0</text>\n",
       "</g>\n",
       "<!-- 139868859805120&#45;&gt;139868859804208_+ -->\n",
       "<g id=\"edge8\" class=\"edge\">\n",
       "<title>139868859805120&#45;&gt;139868859804208_+</title>\n",
       "<path fill=\"none\" stroke=\"black\" d=\"M281.97,-51.38C292.06,-55.89 302.91,-60.74 312.66,-65.09\"/>\n",
       "<polygon fill=\"black\" stroke=\"black\" points=\"311.41,-68.37 321.97,-69.25 314.27,-61.98 311.41,-68.37\"/>\n",
       "</g>\n",
       "<!-- 139868859805120_pow&#45;&gt;139868859805120 -->\n",
       "<g id=\"edge4\" class=\"edge\">\n",
       "<title>139868859805120_pow&#45;&gt;139868859805120</title>\n",
       "<path fill=\"none\" stroke=\"black\" d=\"M170.95,-35C178.95,-35 187.82,-35 196.54,-35\"/>\n",
       "<polygon fill=\"black\" stroke=\"black\" points=\"196.64,-38.5 206.64,-35 196.64,-31.5 196.64,-38.5\"/>\n",
       "</g>\n",
       "</g>\n",
       "</svg>\n"
      ],
      "text/plain": [
       "<graphviz.graphs.Digraph at 0x7f35c1dedeb0>"
      ]
     },
     "execution_count": 5,
     "metadata": {},
     "output_type": "execute_result"
    }
   ],
   "source": [
    "draw_graph(L)"
   ]
  },
  {
   "cell_type": "code",
   "execution_count": 6,
   "id": "96b8d2d8",
   "metadata": {},
   "outputs": [
    {
     "name": "stdout",
     "output_type": "stream",
     "text": [
      "Value(L=0.375)\n",
      "Value(e=3.0)\n",
      "Value(=0.125)\n",
      "Value(d=8.0)\n",
      "Value(b=4.0)\n",
      "Value(c=4.0)\n",
      "Value(a=2.0)\n"
     ]
    }
   ],
   "source": [
    "L.grad = 1\n",
    "L.backward()"
   ]
  },
  {
   "cell_type": "code",
   "execution_count": 7,
   "id": "28f5b3c0",
   "metadata": {},
   "outputs": [],
   "source": [
    "import torch"
   ]
  },
  {
   "cell_type": "code",
   "execution_count": 8,
   "id": "2905c6cb",
   "metadata": {},
   "outputs": [],
   "source": [
    "a = torch.Tensor([2.0]).double(); a.requires_grad = True\n",
    "b = torch.Tensor([4.0]).double(); b.requires_grad = True\n",
    "c = a**2.0\n",
    "d = b + c\n",
    "e = torch.Tensor([3.0]).double(); e.requires_grad = True\n",
    "L = e/d"
   ]
  },
  {
   "cell_type": "code",
   "execution_count": 9,
   "id": "f846f74c",
   "metadata": {},
   "outputs": [],
   "source": [
    "L.backward()"
   ]
  },
  {
   "cell_type": "code",
   "execution_count": 10,
   "id": "cb0e2865",
   "metadata": {},
   "outputs": [
    {
     "data": {
      "text/plain": [
       "(-0.1875, -0.046875, 0.125)"
      ]
     },
     "execution_count": 10,
     "metadata": {},
     "output_type": "execute_result"
    }
   ],
   "source": [
    "a.grad.item(), b.grad.item(), e.grad.item()"
   ]
  },
  {
   "cell_type": "markdown",
   "id": "79c06268",
   "metadata": {},
   "source": [
    "### Convert this file to md"
   ]
  },
  {
   "cell_type": "code",
   "execution_count": 11,
   "id": "b22ed51d",
   "metadata": {},
   "outputs": [],
   "source": [
    "from IPython.core.display import Javascript"
   ]
  },
  {
   "cell_type": "code",
   "execution_count": 14,
   "id": "862d5b3e",
   "metadata": {},
   "outputs": [
    {
     "data": {
      "application/javascript": [
       "IPython.notebook.kernel.execute('this_notebook = \"' + IPython.notebook.notebook_name + '\"')\n"
      ],
      "text/plain": [
       "<IPython.core.display.Javascript object>"
      ]
     },
     "metadata": {},
     "output_type": "display_data"
    }
   ],
   "source": [
    "%%js\n",
    "IPython.notebook.kernel.execute('this_notebook = \"' + IPython.notebook.notebook_name + '\"')"
   ]
  },
  {
   "cell_type": "code",
   "execution_count": 15,
   "id": "ade82929",
   "metadata": {},
   "outputs": [
    {
     "data": {
      "text/plain": [
       "'2022-11-17-implement-the-backward-function-for-each-operation.ipynb'"
      ]
     },
     "execution_count": 15,
     "metadata": {},
     "output_type": "execute_result"
    }
   ],
   "source": [
    "this_notebook"
   ]
  },
  {
   "cell_type": "code",
   "execution_count": 16,
   "id": "af83fddd",
   "metadata": {},
   "outputs": [
    {
     "name": "stdout",
     "output_type": "stream",
     "text": [
      "[NbConvertApp] Converting notebook 2022-11-17-implement-the-backward-function-for-each-operation.ipynb to markdown\n",
      "[NbConvertApp] Support files will be in 2022-11-17-implement-the-backward-function-for-each-operation_files/\n",
      "[NbConvertApp] Making directory ../_posts/2022-11-17-implement-the-backward-function-for-each-operation_files\n",
      "[NbConvertApp] Writing 5104 bytes to ../_posts/2022-11-17-implement-the-backward-function-for-each-operation.md\n"
     ]
    }
   ],
   "source": [
    "!jupyter nbconvert --to markdown {this_notebook} --output-dir=../_posts"
   ]
  }
 ],
 "metadata": {
  "kernelspec": {
   "display_name": "Python 3 (ipykernel)",
   "language": "python",
   "name": "python3"
  },
  "language_info": {
   "codemirror_mode": {
    "name": "ipython",
    "version": 3
   },
   "file_extension": ".py",
   "mimetype": "text/x-python",
   "name": "python",
   "nbconvert_exporter": "python",
   "pygments_lexer": "ipython3",
   "version": "3.8.12"
  }
 },
 "nbformat": 4,
 "nbformat_minor": 5
}
