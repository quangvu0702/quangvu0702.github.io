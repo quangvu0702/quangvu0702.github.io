{
 "cells": [
  {
   "cell_type": "markdown",
   "id": "49e19edd",
   "metadata": {},
   "source": [
    "# Derivative of a simple function"
   ]
  },
  {
   "cell_type": "code",
   "execution_count": 1,
   "id": "c0b2ba7f",
   "metadata": {},
   "outputs": [],
   "source": [
    "import numpy as np\n",
    "import matplotlib.pyplot as plt\n",
    "%matplotlib inline"
   ]
  },
  {
   "cell_type": "code",
   "execution_count": 2,
   "id": "681c9b90",
   "metadata": {},
   "outputs": [],
   "source": [
    "# plot graph\n",
    "import graphviz\n",
    "\n",
    "def trace(root):\n",
    "    nodes, edges = set(), set()\n",
    "    def build(root):\n",
    "        if root not in nodes:\n",
    "            nodes.add(root)\n",
    "        for v in root._children:\n",
    "            edges.add((v, root))\n",
    "            build(v)\n",
    "    build(root)\n",
    "    return nodes, edges\n",
    "\n",
    "def draw_graph(root):\n",
    "    f = graphviz.Digraph(format='svg', graph_attr={'rankdir':\"LR\"})\n",
    "    nodes, edges = trace(root)\n",
    "    for v in nodes:\n",
    "        f.node(str(id(v)), label=\"{%s|data %.4f|grad %.4f}\" %(v.label, v.data, v.grad) , shape='record')\n",
    "        if v._op:\n",
    "            f.node(f'{str(id(v))}_{v._op}', label=f\"{v._op}\")\n",
    "            f.edge(f'{str(id(v))}_{v._op}', str(id(v)))\n",
    "    for v1, v2 in edges:\n",
    "        f.edge(str(id(v1)), f'{str(id(v2))}_{v2._op}')\n",
    "    return f"
   ]
  },
  {
   "cell_type": "code",
   "execution_count": 3,
   "id": "f0d39f11",
   "metadata": {},
   "outputs": [],
   "source": [
    "import math\n",
    "\n",
    "class Value():\n",
    "    def __init__(self, data, label='', _children=[], _op=\"\", grad = 0):\n",
    "        self.data = data\n",
    "        self.label = label\n",
    "        self._children = set(_children)\n",
    "        self._op = _op\n",
    "        self.grad = grad\n",
    "        self._backward = lambda:None\n",
    "    def __repr__(self):\n",
    "        return f\"Value({self.label}={self.data})\"\n",
    "    \n",
    "    def __add__(self, other):\n",
    "        other = other if isinstance(other, Value) else Value(other)\n",
    "        out = Value(self.data + other.data, _children=[self, other], _op=\"+\")\n",
    "        def _backward():\n",
    "            self.grad += 1.0 * out.grad\n",
    "            other.grad += 1.0 * out.grad\n",
    "        out._backward = _backward\n",
    "        return out\n",
    "    \n",
    "    def __radd__(self, other):\n",
    "        return self + other\n",
    "\n",
    "    def __mul__(self, other):\n",
    "        other = other if isinstance(other, Value) else Value(other)\n",
    "        out = Value(self.data * other.data, _children=[self, other], _op=\"*\")\n",
    "        def _backward():\n",
    "            self.grad += other.data * out.grad\n",
    "            other.grad += self.data * out.grad\n",
    "        out._backward = _backward\n",
    "        return out\n",
    "\n",
    "    def __rmul__(self, other):\n",
    "        return self * other\n",
    "\n",
    "    def tanh(self):\n",
    "        tanh = math.tanh(self.data)\n",
    "        out = Value(tanh, _children=[self, ], _op=\"tanh\")\n",
    "        def _backward():\n",
    "            self.grad += (1 - out.data**2) * out.grad\n",
    "        out._backward = _backward\n",
    "        return out\n",
    "    \n",
    "    def exp(self):\n",
    "        out = Value(math.exp(self.data), _children=[self, ], _op='exp')\n",
    "        def _backward():\n",
    "            self.grad += out.data * out.grad\n",
    "        out._backward = _backward\n",
    "        return out\n",
    "\n",
    "    def __pow__(self, n):\n",
    "        out = Value(self.data**n, _children=[self, ], _op='pow')\n",
    "        def _backward():\n",
    "            self.grad += n * self.data**(n-1) * out.grad\n",
    "        out._backward = _backward\n",
    "        return out\n",
    "    \n",
    "    def __truediv__(self, other):\n",
    "        return self * other**(-1)\n",
    "\n",
    "    def backward(self):\n",
    "        topo = []\n",
    "        visited = set()\n",
    "        def build_topo(v):\n",
    "            if v not in visited:\n",
    "                visited.add(v)\n",
    "                for o in v._children:\n",
    "                    build_topo(o)\n",
    "                topo.append(v)\n",
    "\n",
    "        build_topo(self)\n",
    "        for node in reversed(topo):\n",
    "            print(node)\n",
    "            node._backward()"
   ]
  },
  {
   "cell_type": "code",
   "execution_count": 24,
   "id": "dc81d507",
   "metadata": {},
   "outputs": [],
   "source": [
    "a = Value(2.0, 'a')\n",
    "b = Value(4.0, 'b')\n",
    "c = a ** 2; c.label = 'c'\n",
    "d = b + c; d.label = 'd'\n",
    "e = Value(3.0, 'e')\n",
    "L = e / d; L.label = 'L'"
   ]
  },
  {
   "cell_type": "code",
   "execution_count": 27,
   "id": "d6e7f05b",
   "metadata": {},
   "outputs": [
    {
     "data": {
      "image/svg+xml": [
       "<?xml version=\"1.0\" encoding=\"UTF-8\" standalone=\"no\"?>\n",
       "<!DOCTYPE svg PUBLIC \"-//W3C//DTD SVG 1.1//EN\"\n",
       " \"http://www.w3.org/Graphics/SVG/1.1/DTD/svg11.dtd\">\n",
       "<!-- Generated by graphviz version 2.43.0 (0)\n",
       " -->\n",
       "<!-- Title: %3 Pages: 1 -->\n",
       "<svg width=\"1694pt\" height=\"127pt\"\n",
       " viewBox=\"0.00 0.00 1693.59 127.00\" xmlns=\"http://www.w3.org/2000/svg\" xmlns:xlink=\"http://www.w3.org/1999/xlink\">\n",
       "<g id=\"graph0\" class=\"graph\" transform=\"scale(1 1) rotate(0) translate(4 123)\">\n",
       "<title>%3</title>\n",
       "<polygon fill=\"white\" stroke=\"transparent\" points=\"-4,4 -4,-123 1689.59,-123 1689.59,4 -4,4\"/>\n",
       "<!-- 140360733683824 -->\n",
       "<g id=\"node1\" class=\"node\">\n",
       "<title>140360733683824</title>\n",
       "<polygon fill=\"none\" stroke=\"black\" points=\"367.79,-0.5 367.79,-36.5 601.79,-36.5 601.79,-0.5 367.79,-0.5\"/>\n",
       "<text text-anchor=\"middle\" x=\"379.79\" y=\"-14.8\" font-family=\"Times,serif\" font-size=\"14.00\">c</text>\n",
       "<polyline fill=\"none\" stroke=\"black\" points=\"391.79,-0.5 391.79,-36.5 \"/>\n",
       "<text text-anchor=\"middle\" x=\"442.79\" y=\"-14.8\" font-family=\"Times,serif\" font-size=\"14.00\">data 4.0000</text>\n",
       "<polyline fill=\"none\" stroke=\"black\" points=\"493.79,-0.5 493.79,-36.5 \"/>\n",
       "<text text-anchor=\"middle\" x=\"547.79\" y=\"-14.8\" font-family=\"Times,serif\" font-size=\"14.00\">grad &#45;0.0469</text>\n",
       "</g>\n",
       "<!-- 140360733683872_+ -->\n",
       "<g id=\"node4\" class=\"node\">\n",
       "<title>140360733683872_+</title>\n",
       "<ellipse fill=\"none\" stroke=\"black\" cx=\"665.79\" cy=\"-45.5\" rx=\"27\" ry=\"18\"/>\n",
       "<text text-anchor=\"middle\" x=\"665.79\" y=\"-41.8\" font-family=\"Times,serif\" font-size=\"14.00\">+</text>\n",
       "</g>\n",
       "<!-- 140360733683824&#45;&gt;140360733683872_+ -->\n",
       "<g id=\"edge5\" class=\"edge\">\n",
       "<title>140360733683824&#45;&gt;140360733683872_+</title>\n",
       "<path fill=\"none\" stroke=\"black\" d=\"M601.94,-36.02C611.74,-37.5 621.06,-38.9 629.39,-40.16\"/>\n",
       "<polygon fill=\"black\" stroke=\"black\" points=\"628.96,-43.63 639.37,-41.66 630,-36.71 628.96,-43.63\"/>\n",
       "</g>\n",
       "<!-- 140360733683824_pow -->\n",
       "<g id=\"node2\" class=\"node\">\n",
       "<title>140360733683824_pow</title>\n",
       "<ellipse fill=\"none\" stroke=\"black\" cx=\"300.9\" cy=\"-18.5\" rx=\"29.8\" ry=\"18\"/>\n",
       "<text text-anchor=\"middle\" x=\"300.9\" y=\"-14.8\" font-family=\"Times,serif\" font-size=\"14.00\">pow</text>\n",
       "</g>\n",
       "<!-- 140360733683824_pow&#45;&gt;140360733683824 -->\n",
       "<g id=\"edge1\" class=\"edge\">\n",
       "<title>140360733683824_pow&#45;&gt;140360733683824</title>\n",
       "<path fill=\"none\" stroke=\"black\" d=\"M331.12,-18.5C338.95,-18.5 347.93,-18.5 357.53,-18.5\"/>\n",
       "<polygon fill=\"black\" stroke=\"black\" points=\"357.74,-22 367.74,-18.5 357.74,-15 357.74,-22\"/>\n",
       "</g>\n",
       "<!-- 140360733683872 -->\n",
       "<g id=\"node3\" class=\"node\">\n",
       "<title>140360733683872</title>\n",
       "<polygon fill=\"none\" stroke=\"black\" points=\"728.79,-27.5 728.79,-63.5 964.79,-63.5 964.79,-27.5 728.79,-27.5\"/>\n",
       "<text text-anchor=\"middle\" x=\"741.79\" y=\"-41.8\" font-family=\"Times,serif\" font-size=\"14.00\">d</text>\n",
       "<polyline fill=\"none\" stroke=\"black\" points=\"754.79,-27.5 754.79,-63.5 \"/>\n",
       "<text text-anchor=\"middle\" x=\"805.79\" y=\"-41.8\" font-family=\"Times,serif\" font-size=\"14.00\">data 8.0000</text>\n",
       "<polyline fill=\"none\" stroke=\"black\" points=\"856.79,-27.5 856.79,-63.5 \"/>\n",
       "<text text-anchor=\"middle\" x=\"910.79\" y=\"-41.8\" font-family=\"Times,serif\" font-size=\"14.00\">grad &#45;0.0469</text>\n",
       "</g>\n",
       "<!-- 140360733684016_pow -->\n",
       "<g id=\"node7\" class=\"node\">\n",
       "<title>140360733684016_pow</title>\n",
       "<ellipse fill=\"none\" stroke=\"black\" cx=\"1030.69\" cy=\"-45.5\" rx=\"29.8\" ry=\"18\"/>\n",
       "<text text-anchor=\"middle\" x=\"1030.69\" y=\"-41.8\" font-family=\"Times,serif\" font-size=\"14.00\">pow</text>\n",
       "</g>\n",
       "<!-- 140360733683872&#45;&gt;140360733684016_pow -->\n",
       "<g id=\"edge9\" class=\"edge\">\n",
       "<title>140360733683872&#45;&gt;140360733684016_pow</title>\n",
       "<path fill=\"none\" stroke=\"black\" d=\"M965.05,-45.5C974.03,-45.5 982.63,-45.5 990.47,-45.5\"/>\n",
       "<polygon fill=\"black\" stroke=\"black\" points=\"990.65,-49 1000.65,-45.5 990.65,-42 990.65,-49\"/>\n",
       "</g>\n",
       "<!-- 140360733683872_+&#45;&gt;140360733683872 -->\n",
       "<g id=\"edge2\" class=\"edge\">\n",
       "<title>140360733683872_+&#45;&gt;140360733683872</title>\n",
       "<path fill=\"none\" stroke=\"black\" d=\"M692.82,-45.5C700.38,-45.5 709.18,-45.5 718.67,-45.5\"/>\n",
       "<polygon fill=\"black\" stroke=\"black\" points=\"718.79,-49 728.79,-45.5 718.79,-42 718.79,-49\"/>\n",
       "</g>\n",
       "<!-- 140360737867520 -->\n",
       "<g id=\"node5\" class=\"node\">\n",
       "<title>140360737867520</title>\n",
       "<polygon fill=\"none\" stroke=\"black\" points=\"0,-0.5 0,-36.5 235,-36.5 235,-0.5 0,-0.5\"/>\n",
       "<text text-anchor=\"middle\" x=\"12.5\" y=\"-14.8\" font-family=\"Times,serif\" font-size=\"14.00\">a</text>\n",
       "<polyline fill=\"none\" stroke=\"black\" points=\"25,-0.5 25,-36.5 \"/>\n",
       "<text text-anchor=\"middle\" x=\"76\" y=\"-14.8\" font-family=\"Times,serif\" font-size=\"14.00\">data 2.0000</text>\n",
       "<polyline fill=\"none\" stroke=\"black\" points=\"127,-0.5 127,-36.5 \"/>\n",
       "<text text-anchor=\"middle\" x=\"181\" y=\"-14.8\" font-family=\"Times,serif\" font-size=\"14.00\">grad &#45;0.1875</text>\n",
       "</g>\n",
       "<!-- 140360737867520&#45;&gt;140360733683824_pow -->\n",
       "<g id=\"edge7\" class=\"edge\">\n",
       "<title>140360737867520&#45;&gt;140360733683824_pow</title>\n",
       "<path fill=\"none\" stroke=\"black\" d=\"M235.18,-18.5C244.16,-18.5 252.77,-18.5 260.62,-18.5\"/>\n",
       "<polygon fill=\"black\" stroke=\"black\" points=\"260.81,-22 270.81,-18.5 260.81,-15 260.81,-22\"/>\n",
       "</g>\n",
       "<!-- 140360733684016 -->\n",
       "<g id=\"node6\" class=\"node\">\n",
       "<title>140360733684016</title>\n",
       "<polygon fill=\"none\" stroke=\"black\" points=\"1098.59,-27.5 1098.59,-63.5 1325.59,-63.5 1325.59,-27.5 1098.59,-27.5\"/>\n",
       "<text text-anchor=\"middle\" x=\"1109.09\" y=\"-41.8\" font-family=\"Times,serif\" font-size=\"14.00\"> </text>\n",
       "<polyline fill=\"none\" stroke=\"black\" points=\"1119.59,-27.5 1119.59,-63.5 \"/>\n",
       "<text text-anchor=\"middle\" x=\"1170.59\" y=\"-41.8\" font-family=\"Times,serif\" font-size=\"14.00\">data 0.1250</text>\n",
       "<polyline fill=\"none\" stroke=\"black\" points=\"1221.59,-27.5 1221.59,-63.5 \"/>\n",
       "<text text-anchor=\"middle\" x=\"1273.59\" y=\"-41.8\" font-family=\"Times,serif\" font-size=\"14.00\">grad 3.0000</text>\n",
       "</g>\n",
       "<!-- 140360733684592_* -->\n",
       "<g id=\"node10\" class=\"node\">\n",
       "<title>140360733684592_*</title>\n",
       "<ellipse fill=\"none\" stroke=\"black\" cx=\"1390.59\" cy=\"-72.5\" rx=\"27\" ry=\"18\"/>\n",
       "<text text-anchor=\"middle\" x=\"1390.59\" y=\"-68.8\" font-family=\"Times,serif\" font-size=\"14.00\">*</text>\n",
       "</g>\n",
       "<!-- 140360733684016&#45;&gt;140360733684592_* -->\n",
       "<g id=\"edge6\" class=\"edge\">\n",
       "<title>140360733684016&#45;&gt;140360733684592_*</title>\n",
       "<path fill=\"none\" stroke=\"black\" d=\"M1325.62,-62.71C1335.74,-64.26 1345.39,-65.74 1354,-67.06\"/>\n",
       "<polygon fill=\"black\" stroke=\"black\" points=\"1353.52,-70.52 1363.93,-68.57 1354.58,-63.6 1353.52,-70.52\"/>\n",
       "</g>\n",
       "<!-- 140360733684016_pow&#45;&gt;140360733684016 -->\n",
       "<g id=\"edge3\" class=\"edge\">\n",
       "<title>140360733684016_pow&#45;&gt;140360733684016</title>\n",
       "<path fill=\"none\" stroke=\"black\" d=\"M1060.91,-45.5C1069.03,-45.5 1078.38,-45.5 1088.37,-45.5\"/>\n",
       "<polygon fill=\"black\" stroke=\"black\" points=\"1088.55,-49 1098.55,-45.5 1088.55,-42 1088.55,-49\"/>\n",
       "</g>\n",
       "<!-- 140360737867568 -->\n",
       "<g id=\"node8\" class=\"node\">\n",
       "<title>140360737867568</title>\n",
       "<polygon fill=\"none\" stroke=\"black\" points=\"366.79,-55.5 366.79,-91.5 602.79,-91.5 602.79,-55.5 366.79,-55.5\"/>\n",
       "<text text-anchor=\"middle\" x=\"379.79\" y=\"-69.8\" font-family=\"Times,serif\" font-size=\"14.00\">b</text>\n",
       "<polyline fill=\"none\" stroke=\"black\" points=\"392.79,-55.5 392.79,-91.5 \"/>\n",
       "<text text-anchor=\"middle\" x=\"443.79\" y=\"-69.8\" font-family=\"Times,serif\" font-size=\"14.00\">data 4.0000</text>\n",
       "<polyline fill=\"none\" stroke=\"black\" points=\"494.79,-55.5 494.79,-91.5 \"/>\n",
       "<text text-anchor=\"middle\" x=\"548.79\" y=\"-69.8\" font-family=\"Times,serif\" font-size=\"14.00\">grad &#45;0.0469</text>\n",
       "</g>\n",
       "<!-- 140360737867568&#45;&gt;140360733683872_+ -->\n",
       "<g id=\"edge10\" class=\"edge\">\n",
       "<title>140360737867568&#45;&gt;140360733683872_+</title>\n",
       "<path fill=\"none\" stroke=\"black\" d=\"M600.93,-55.49C611.06,-53.91 620.72,-52.4 629.31,-51.05\"/>\n",
       "<polygon fill=\"black\" stroke=\"black\" points=\"629.88,-54.5 639.22,-49.5 628.8,-47.59 629.88,-54.5\"/>\n",
       "</g>\n",
       "<!-- 140360733684592 -->\n",
       "<g id=\"node9\" class=\"node\">\n",
       "<title>140360733684592</title>\n",
       "<polygon fill=\"none\" stroke=\"black\" points=\"1453.59,-54.5 1453.59,-90.5 1685.59,-90.5 1685.59,-54.5 1453.59,-54.5\"/>\n",
       "<text text-anchor=\"middle\" x=\"1466.59\" y=\"-68.8\" font-family=\"Times,serif\" font-size=\"14.00\">L</text>\n",
       "<polyline fill=\"none\" stroke=\"black\" points=\"1479.59,-54.5 1479.59,-90.5 \"/>\n",
       "<text text-anchor=\"middle\" x=\"1530.59\" y=\"-68.8\" font-family=\"Times,serif\" font-size=\"14.00\">data 0.3750</text>\n",
       "<polyline fill=\"none\" stroke=\"black\" points=\"1581.59,-54.5 1581.59,-90.5 \"/>\n",
       "<text text-anchor=\"middle\" x=\"1633.59\" y=\"-68.8\" font-family=\"Times,serif\" font-size=\"14.00\">grad 1.0000</text>\n",
       "</g>\n",
       "<!-- 140360733684592_*&#45;&gt;140360733684592 -->\n",
       "<g id=\"edge4\" class=\"edge\">\n",
       "<title>140360733684592_*&#45;&gt;140360733684592</title>\n",
       "<path fill=\"none\" stroke=\"black\" d=\"M1417.71,-72.5C1425.12,-72.5 1433.73,-72.5 1442.99,-72.5\"/>\n",
       "<polygon fill=\"black\" stroke=\"black\" points=\"1443.28,-76 1453.28,-72.5 1443.28,-69 1443.28,-76\"/>\n",
       "</g>\n",
       "<!-- 140360733684112 -->\n",
       "<g id=\"node11\" class=\"node\">\n",
       "<title>140360733684112</title>\n",
       "<polygon fill=\"none\" stroke=\"black\" points=\"1096.59,-82.5 1096.59,-118.5 1327.59,-118.5 1327.59,-82.5 1096.59,-82.5\"/>\n",
       "<text text-anchor=\"middle\" x=\"1109.09\" y=\"-96.8\" font-family=\"Times,serif\" font-size=\"14.00\">e</text>\n",
       "<polyline fill=\"none\" stroke=\"black\" points=\"1121.59,-82.5 1121.59,-118.5 \"/>\n",
       "<text text-anchor=\"middle\" x=\"1172.59\" y=\"-96.8\" font-family=\"Times,serif\" font-size=\"14.00\">data 3.0000</text>\n",
       "<polyline fill=\"none\" stroke=\"black\" points=\"1223.59,-82.5 1223.59,-118.5 \"/>\n",
       "<text text-anchor=\"middle\" x=\"1275.59\" y=\"-96.8\" font-family=\"Times,serif\" font-size=\"14.00\">grad 0.1250</text>\n",
       "</g>\n",
       "<!-- 140360733684112&#45;&gt;140360733684592_* -->\n",
       "<g id=\"edge8\" class=\"edge\">\n",
       "<title>140360733684112&#45;&gt;140360733684592_*</title>\n",
       "<path fill=\"none\" stroke=\"black\" d=\"M1326.87,-82.45C1336.62,-80.9 1345.92,-79.43 1354.23,-78.11\"/>\n",
       "<polygon fill=\"black\" stroke=\"black\" points=\"1354.86,-81.55 1364.18,-76.53 1353.76,-74.64 1354.86,-81.55\"/>\n",
       "</g>\n",
       "</g>\n",
       "</svg>\n"
      ],
      "text/plain": [
       "<graphviz.graphs.Digraph at 0x7fa847ebc5e0>"
      ]
     },
     "execution_count": 27,
     "metadata": {},
     "output_type": "execute_result"
    }
   ],
   "source": [
    "draw_graph(L)"
   ]
  },
  {
   "cell_type": "code",
   "execution_count": 26,
   "id": "31d1ee43",
   "metadata": {},
   "outputs": [
    {
     "name": "stdout",
     "output_type": "stream",
     "text": [
      "Value(L=0.375)\n",
      "Value(=0.125)\n",
      "Value(d=8.0)\n",
      "Value(c=4.0)\n",
      "Value(a=2.0)\n",
      "Value(b=4.0)\n",
      "Value(e=3.0)\n"
     ]
    }
   ],
   "source": [
    "L.grad = 1\n",
    "L.backward()"
   ]
  },
  {
   "cell_type": "code",
   "execution_count": 54,
   "id": "5d8986b3",
   "metadata": {},
   "outputs": [],
   "source": [
    "import torch"
   ]
  },
  {
   "cell_type": "code",
   "execution_count": 55,
   "id": "5c1e41bf",
   "metadata": {},
   "outputs": [],
   "source": [
    "a = torch.Tensor([2.0]).double(); a.requires_grad = True\n",
    "b = torch.Tensor([4.0]).double(); b.requires_grad = True\n",
    "c = a**2.0\n",
    "d = b + c\n",
    "e = torch.Tensor([3.0]).double(); e.requires_grad = True\n",
    "L = e/d"
   ]
  },
  {
   "cell_type": "code",
   "execution_count": 56,
   "id": "7eb3b5bd",
   "metadata": {},
   "outputs": [],
   "source": [
    "L.backward()"
   ]
  },
  {
   "cell_type": "code",
   "execution_count": 61,
   "id": "2674ca59",
   "metadata": {},
   "outputs": [
    {
     "data": {
      "text/plain": [
       "(-0.1875, -0.046875, 0.125)"
      ]
     },
     "execution_count": 61,
     "metadata": {},
     "output_type": "execute_result"
    }
   ],
   "source": [
    "a.grad.item(), b.grad.item(), e.grad.item()"
   ]
  },
  {
   "cell_type": "markdown",
   "id": "79c06268",
   "metadata": {},
   "source": [
    "### Convert this file to md"
   ]
  },
  {
   "cell_type": "code",
   "execution_count": 7,
   "id": "b22ed51d",
   "metadata": {},
   "outputs": [],
   "source": [
    "from IPython.core.display import Javascript"
   ]
  },
  {
   "cell_type": "code",
   "execution_count": 10,
   "id": "862d5b3e",
   "metadata": {},
   "outputs": [
    {
     "data": {
      "application/javascript": [
       "IPython.notebook.kernel.execute('this_notebook = \"' + IPython.notebook.notebook_name + '\"')\n"
      ],
      "text/plain": [
       "<IPython.core.display.Javascript object>"
      ]
     },
     "metadata": {},
     "output_type": "display_data"
    }
   ],
   "source": [
    "%%js\n",
    "IPython.notebook.kernel.execute('this_notebook = \"' + IPython.notebook.notebook_name + '\"')"
   ]
  },
  {
   "cell_type": "code",
   "execution_count": 11,
   "id": "ade82929",
   "metadata": {},
   "outputs": [
    {
     "data": {
      "text/plain": [
       "'2022-11-17-implement-the-backward-function-for-each-operation.ipynb'"
      ]
     },
     "execution_count": 11,
     "metadata": {},
     "output_type": "execute_result"
    }
   ],
   "source": [
    "this_notebook"
   ]
  },
  {
   "cell_type": "code",
   "execution_count": 12,
   "id": "af83fddd",
   "metadata": {},
   "outputs": [
    {
     "name": "stdout",
     "output_type": "stream",
     "text": [
      "[NbConvertApp] Converting notebook 2022-11-17-implement-the-backward-function-for-each-operation.ipynb to markdown\n",
      "[NbConvertApp] Support files will be in 2022-11-17-implement-the-backward-function-for-each-operation_files/\n",
      "[NbConvertApp] Making directory ../_posts/2022-11-17-implement-the-backward-function-for-each-operation_files\n",
      "[NbConvertApp] Writing 4377 bytes to ../_posts/2022-11-17-implement-the-backward-function-for-each-operation.md\n"
     ]
    }
   ],
   "source": [
    "!jupyter nbconvert --to markdown {this_notebook} --output-dir=../_posts"
   ]
  }
 ],
 "metadata": {
  "kernelspec": {
   "display_name": "Python 3 (ipykernel)",
   "language": "python",
   "name": "python3"
  },
  "language_info": {
   "codemirror_mode": {
    "name": "ipython",
    "version": 3
   },
   "file_extension": ".py",
   "mimetype": "text/x-python",
   "name": "python",
   "nbconvert_exporter": "python",
   "pygments_lexer": "ipython3",
   "version": "3.8.12"
  }
 },
 "nbformat": 4,
 "nbformat_minor": 5
}
