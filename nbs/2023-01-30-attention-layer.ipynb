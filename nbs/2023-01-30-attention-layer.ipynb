{
 "cells": [
  {
   "cell_type": "markdown",
   "id": "49e19edd",
   "metadata": {},
   "source": [
    "# 2023-01-30 self attention layers"
   ]
  },
  {
   "cell_type": "code",
   "execution_count": 1,
   "id": "dadd5c31",
   "metadata": {},
   "outputs": [],
   "source": [
    "# download data"
   ]
  },
  {
   "cell_type": "code",
   "execution_count": 2,
   "id": "33290def",
   "metadata": {},
   "outputs": [
    {
     "data": {
      "text/plain": [
       "(1, 0)"
      ]
     },
     "execution_count": 2,
     "metadata": {},
     "output_type": "execute_result"
    }
   ],
   "source": [
    "import torch\n",
    "torch.cuda.device_count(), torch.cuda.current_device()"
   ]
  },
  {
   "cell_type": "code",
   "execution_count": 3,
   "id": "4074a307",
   "metadata": {},
   "outputs": [
    {
     "name": "stdout",
     "output_type": "stream",
     "text": [
      "cuda\n"
     ]
    }
   ],
   "source": [
    "device = 'cuda' if torch.cuda.is_available() else 'cpu'\n",
    "print(device)"
   ]
  },
  {
   "cell_type": "code",
   "execution_count": 4,
   "id": "43f3f736",
   "metadata": {},
   "outputs": [],
   "source": [
    "# !wget https://raw.githubusercontent.com/karpathy/char-rnn/master/data/tinyshakespeare/input.txt"
   ]
  },
  {
   "cell_type": "code",
   "execution_count": 5,
   "id": "536ef964",
   "metadata": {},
   "outputs": [],
   "source": [
    "# read on review data\n",
    "with open('input.txt', 'r', encoding='utf-8') as f:\n",
    "    text = f.read()"
   ]
  },
  {
   "cell_type": "code",
   "execution_count": 6,
   "id": "5fa11ea0",
   "metadata": {},
   "outputs": [],
   "source": [
    "# Here is all unique character that occur in this text\n",
    "chars = sorted(list(set(text)))\n",
    "vocab_size = len(chars)"
   ]
  },
  {
   "cell_type": "code",
   "execution_count": 7,
   "id": "b01bc971",
   "metadata": {
    "scrolled": true
   },
   "outputs": [
    {
     "name": "stdout",
     "output_type": "stream",
     "text": [
      "[46, 47, 1, 58, 46, 43, 56, 43]\n",
      "hi there\n"
     ]
    }
   ],
   "source": [
    "# create a mapping from characters to integers\n",
    "ctoi = {c: i for i, c in enumerate(chars)}\n",
    "itoc = {i: c for i, c in enumerate(chars)}\n",
    "\n",
    "encode = lambda s: [ctoi[c] for c in s]\n",
    "decode = lambda l: ''.join([itoc[i] for i in l])\n",
    "\n",
    "print(encode(\"hi there\"))\n",
    "\n",
    "print(decode(encode(\"hi there\")))"
   ]
  },
  {
   "cell_type": "code",
   "execution_count": 8,
   "id": "8efeb213",
   "metadata": {},
   "outputs": [
    {
     "name": "stdout",
     "output_type": "stream",
     "text": [
      "torch.Size([1115394]) torch.int64\n"
     ]
    },
    {
     "data": {
      "text/plain": [
       "tensor([18, 47, 56, 57, 58,  1, 15, 47, 58, 47, 64, 43, 52, 10,  0, 14, 43, 44,\n",
       "        53, 56, 43,  1, 61, 43,  1, 54, 56, 53, 41, 43, 43, 42,  1, 39, 52, 63,\n",
       "         1, 44, 59, 56, 58, 46, 43, 56,  6,  1, 46, 43, 39, 56,  1, 51, 43,  1,\n",
       "        57, 54, 43, 39, 49,  8,  0,  0, 13, 50, 50, 10,  0, 31, 54, 43, 39, 49,\n",
       "         6,  1, 57, 54, 43, 39, 49,  8,  0,  0, 18, 47, 56, 57, 58,  1, 15, 47,\n",
       "        58, 47, 64, 43, 52, 10,  0, 37, 53, 59])"
      ]
     },
     "execution_count": 8,
     "metadata": {},
     "output_type": "execute_result"
    }
   ],
   "source": [
    "# Let now encode the entire text dataset and store it into torch.Tensor\n",
    "import torch\n",
    "\n",
    "data = torch.tensor(encode(text), dtype=torch.long)\n",
    "print(data.shape, data.dtype)\n",
    "\n",
    "data[0:100]"
   ]
  },
  {
   "cell_type": "code",
   "execution_count": 9,
   "id": "9ba42533",
   "metadata": {},
   "outputs": [
    {
     "data": {
      "text/plain": [
       "(1003855, 111539)"
      ]
     },
     "execution_count": 9,
     "metadata": {},
     "output_type": "execute_result"
    }
   ],
   "source": [
    "# Let's now split up the data into train set and validation set\n",
    "n = round(len(data) * 0.9);\n",
    "train_data = data[:n]\n",
    "val_data   = data[n:]\n",
    "len(train_data), len(val_data)"
   ]
  },
  {
   "cell_type": "code",
   "execution_count": 10,
   "id": "e3a12889",
   "metadata": {},
   "outputs": [
    {
     "data": {
      "text/plain": [
       "tensor([18, 47, 56, 57, 58,  1, 15, 47])"
      ]
     },
     "execution_count": 10,
     "metadata": {},
     "output_type": "execute_result"
    }
   ],
   "source": [
    "block_size = 8\n",
    "train_data[:block_size]"
   ]
  },
  {
   "cell_type": "code",
   "execution_count": 11,
   "id": "bd876f18",
   "metadata": {},
   "outputs": [
    {
     "name": "stdout",
     "output_type": "stream",
     "text": [
      "when context is tensor([18]) the target: 47.\n",
      "when context is tensor([18, 47]) the target: 56.\n",
      "when context is tensor([18, 47, 56]) the target: 57.\n",
      "when context is tensor([18, 47, 56, 57]) the target: 58.\n",
      "when context is tensor([18, 47, 56, 57, 58]) the target: 1.\n",
      "when context is tensor([18, 47, 56, 57, 58,  1]) the target: 15.\n",
      "when context is tensor([18, 47, 56, 57, 58,  1, 15]) the target: 47.\n",
      "when context is tensor([18, 47, 56, 57, 58,  1, 15, 47]) the target: 58.\n"
     ]
    }
   ],
   "source": [
    "x = train_data[:block_size]\n",
    "y = train_data[1:block_size + 1]\n",
    "\n",
    "for i in range(block_size):\n",
    "    context = x[:i+1]\n",
    "    target = y[i]\n",
    "    print(f\"when context is {context} the target: {target}.\")"
   ]
  },
  {
   "cell_type": "code",
   "execution_count": 12,
   "id": "edf62462",
   "metadata": {},
   "outputs": [
    {
     "name": "stdout",
     "output_type": "stream",
     "text": [
      "tensor([[56,  6,  0, 24, 43, 58,  1, 61],\n",
      "        [39, 47, 51,  1, 58, 46, 39, 58],\n",
      "        [52, 45,  1, 58, 53,  1, 57, 39],\n",
      "        [43, 47, 52, 45,  1, 46, 53, 50]], device='cuda:0')\n",
      "tensor([[ 6,  0, 24, 43, 58,  1, 61, 46],\n",
      "        [47, 51,  1, 58, 46, 39, 58,  1],\n",
      "        [45,  1, 58, 53,  1, 57, 39, 63],\n",
      "        [47, 52, 45,  1, 46, 53, 50, 47]], device='cuda:0')\n",
      "when context is tensor([56], device='cuda:0') the target: 6.\n",
      "when context is tensor([56,  6], device='cuda:0') the target: 0.\n",
      "when context is tensor([56,  6,  0], device='cuda:0') the target: 24.\n",
      "when context is tensor([56,  6,  0, 24], device='cuda:0') the target: 43.\n",
      "when context is tensor([56,  6,  0, 24, 43], device='cuda:0') the target: 58.\n",
      "when context is tensor([56,  6,  0, 24, 43, 58], device='cuda:0') the target: 1.\n",
      "when context is tensor([56,  6,  0, 24, 43, 58,  1], device='cuda:0') the target: 61.\n",
      "when context is tensor([56,  6,  0, 24, 43, 58,  1, 61], device='cuda:0') the target: 46.\n",
      "when context is tensor([39], device='cuda:0') the target: 47.\n",
      "when context is tensor([39, 47], device='cuda:0') the target: 51.\n",
      "when context is tensor([39, 47, 51], device='cuda:0') the target: 1.\n",
      "when context is tensor([39, 47, 51,  1], device='cuda:0') the target: 58.\n",
      "when context is tensor([39, 47, 51,  1, 58], device='cuda:0') the target: 46.\n",
      "when context is tensor([39, 47, 51,  1, 58, 46], device='cuda:0') the target: 39.\n",
      "when context is tensor([39, 47, 51,  1, 58, 46, 39], device='cuda:0') the target: 58.\n",
      "when context is tensor([39, 47, 51,  1, 58, 46, 39, 58], device='cuda:0') the target: 1.\n",
      "when context is tensor([52], device='cuda:0') the target: 45.\n",
      "when context is tensor([52, 45], device='cuda:0') the target: 1.\n",
      "when context is tensor([52, 45,  1], device='cuda:0') the target: 58.\n",
      "when context is tensor([52, 45,  1, 58], device='cuda:0') the target: 53.\n",
      "when context is tensor([52, 45,  1, 58, 53], device='cuda:0') the target: 1.\n",
      "when context is tensor([52, 45,  1, 58, 53,  1], device='cuda:0') the target: 57.\n",
      "when context is tensor([52, 45,  1, 58, 53,  1, 57], device='cuda:0') the target: 39.\n",
      "when context is tensor([52, 45,  1, 58, 53,  1, 57, 39], device='cuda:0') the target: 63.\n",
      "when context is tensor([43], device='cuda:0') the target: 47.\n",
      "when context is tensor([43, 47], device='cuda:0') the target: 52.\n",
      "when context is tensor([43, 47, 52], device='cuda:0') the target: 45.\n",
      "when context is tensor([43, 47, 52, 45], device='cuda:0') the target: 1.\n",
      "when context is tensor([43, 47, 52, 45,  1], device='cuda:0') the target: 46.\n",
      "when context is tensor([43, 47, 52, 45,  1, 46], device='cuda:0') the target: 53.\n",
      "when context is tensor([43, 47, 52, 45,  1, 46, 53], device='cuda:0') the target: 50.\n",
      "when context is tensor([43, 47, 52, 45,  1, 46, 53, 50], device='cuda:0') the target: 47.\n"
     ]
    }
   ],
   "source": [
    "torch.manual_seed(1337)\n",
    "\n",
    "batch_size = 4\n",
    "block_size = 8\n",
    "\n",
    "def get_batch(split='train'):\n",
    "    data = train_data if split == 'train' else val_data\n",
    "    ix = torch.randint(len(train_data) - block_size, (batch_size, ))\n",
    "    xb = torch.stack([train_data[i:i+block_size] for i in ix])\n",
    "    yb = torch.stack([train_data[i+1:i+1+block_size] for i in ix])\n",
    "    xb, yb = xb.to(device), yb.to(device)\n",
    "    return xb, yb\n",
    "\n",
    "xb, yb = get_batch()\n",
    "print(xb)\n",
    "print(yb)\n",
    "for b in range(batch_size):\n",
    "    for i in range(block_size):\n",
    "        x = xb[b,:i+1]\n",
    "        y = yb[b,i]\n",
    "        print(f\"when context is {x} the target: {y}.\")"
   ]
  },
  {
   "cell_type": "code",
   "execution_count": 13,
   "id": "da7f49fb",
   "metadata": {},
   "outputs": [
    {
     "name": "stdout",
     "output_type": "stream",
     "text": [
      "tensor([[56,  6,  0, 24, 43, 58,  1, 61],\n",
      "        [39, 47, 51,  1, 58, 46, 39, 58],\n",
      "        [52, 45,  1, 58, 53,  1, 57, 39],\n",
      "        [43, 47, 52, 45,  1, 46, 53, 50]], device='cuda:0')\n"
     ]
    }
   ],
   "source": [
    "print(xb) # input to our transformer"
   ]
  },
  {
   "cell_type": "code",
   "execution_count": 14,
   "id": "768c65f1",
   "metadata": {},
   "outputs": [],
   "source": [
    "# self attention layer"
   ]
  },
  {
   "cell_type": "code",
   "execution_count": 15,
   "id": "2a4b0713",
   "metadata": {},
   "outputs": [
    {
     "data": {
      "text/plain": [
       "tensor([[-1.3113, -1.0017],\n",
       "        [-1.2342,  0.1297],\n",
       "        [-0.5150, -1.2666],\n",
       "        [-0.6719,  0.1851],\n",
       "        [ 0.9367,  0.3139],\n",
       "        [-1.3950,  0.1132],\n",
       "        [ 0.3622,  2.5192],\n",
       "        [-0.7672, -0.9529]])"
      ]
     },
     "execution_count": 15,
     "metadata": {},
     "output_type": "execute_result"
    }
   ],
   "source": [
    "import torch\n",
    "\n",
    "torch.manual_seed(1338)\n",
    "\n",
    "B, T, C = 4, 8, 2 ; # batch, time, channel\n",
    "\n",
    "x = torch.randn((B, T, C))\n",
    "\n",
    "x[0]"
   ]
  },
  {
   "cell_type": "code",
   "execution_count": 16,
   "id": "1c39b2e0",
   "metadata": {},
   "outputs": [
    {
     "data": {
      "text/plain": [
       "tensor([[-1.3113, -1.0017],\n",
       "        [-1.2728, -0.4360],\n",
       "        [-1.0202, -0.7129],\n",
       "        [-0.9331, -0.4884],\n",
       "        [-0.5591, -0.3279],\n",
       "        [-0.6985, -0.2544],\n",
       "        [-0.5469,  0.1418],\n",
       "        [-0.5745,  0.0050]])"
      ]
     },
     "execution_count": 16,
     "metadata": {},
     "output_type": "execute_result"
    }
   ],
   "source": [
    "# version 1\n",
    "xbow = torch.zeros_like(x)\n",
    "for b in range(B):\n",
    "    for t in range(T):\n",
    "        x_prev = x[b, :t+1] # t, C\n",
    "        xbow[b,t] = torch.mean(x_prev, dim=0)\n",
    "xbow[0]"
   ]
  },
  {
   "cell_type": "code",
   "execution_count": 17,
   "id": "95d269d2",
   "metadata": {},
   "outputs": [
    {
     "data": {
      "text/plain": [
       "True"
      ]
     },
     "execution_count": 17,
     "metadata": {},
     "output_type": "execute_result"
    }
   ],
   "source": [
    "# version 2\n",
    "wei = torch.tril(torch.ones(T, T))\n",
    "wei = wei / wei.sum(dim=1, keepdim=True)\n",
    "xbow2 = wei @ x # (B, T, T) x (B, T, C) -> (B, T, C)\n",
    "torch.allclose(xbow, xbow2)"
   ]
  },
  {
   "cell_type": "code",
   "execution_count": 18,
   "id": "970b45b8",
   "metadata": {},
   "outputs": [
    {
     "data": {
      "text/plain": [
       "True"
      ]
     },
     "execution_count": 18,
     "metadata": {},
     "output_type": "execute_result"
    }
   ],
   "source": [
    "# version 3\n",
    "# using solfmax\n",
    "wei = torch.tril(torch.ones(T, T))\n",
    "wei = wei.masked_fill(wei==0, -torch.inf)\n",
    "wei = torch.softmax(wei, dim=-1)\n",
    "xbow3 = wei @ x # (B, T, T) x (B, T, C) -> (B, T, C)\n",
    "torch.allclose(xbow, xbow3)"
   ]
  },
  {
   "cell_type": "code",
   "execution_count": 19,
   "id": "5e065552",
   "metadata": {},
   "outputs": [
    {
     "data": {
      "text/plain": [
       "(torch.Size([4, 8, 16]),\n",
       " torch.Size([4, 8, 16]),\n",
       " torch.Size([4, 8, 16]),\n",
       " torch.Size([4, 8, 8]),\n",
       " torch.Size([4, 8, 16]))"
      ]
     },
     "execution_count": 19,
     "metadata": {},
     "output_type": "execute_result"
    }
   ],
   "source": [
    "import torch\n",
    "import torch.nn as nn\n",
    "\n",
    "torch.manual_seed(1337)\n",
    "\n",
    "B, T, C = 4, 8, 32 ; # batch, time, channel\n",
    "head_size = 16\n",
    "\n",
    "x = torch.randn((B, T, C))\n",
    "\n",
    "query = nn.Linear(C, head_size, bias=False)\n",
    "key = nn.Linear(C, head_size, bias=False)\n",
    "value = nn.Linear(C, head_size, bias=False)\n",
    "\n",
    "q = query(x) # (B, T, head_size)\n",
    "k = key(x) # (B, T, head_size)\n",
    "v = value(x) # (B, T, head_size)\n",
    "\n",
    "wei = q@k.transpose(-2, -1) # (B, T, head_size) @ (B, head_size, head_size, T) -> (B, T, T)\n",
    "wei = wei / torch.sqrt(torch.tensor(head_size))\n",
    "tril = torch.tril(torch.ones(T, T))\n",
    "wei = wei.masked_fill(tril==0, -torch.inf)\n",
    "wei = torch.softmax(wei, dim=-1)\n",
    "\n",
    "out = wei @ v # (B, T, T) x (B, T, C) -> (B, T, C)\n",
    "\n",
    "q.shape, k.shape, v.shape, wei.shape, out.shape"
   ]
  },
  {
   "cell_type": "code",
   "execution_count": 20,
   "id": "a015760c",
   "metadata": {},
   "outputs": [
    {
     "data": {
      "text/plain": [
       "torch.Size([4, 8, 2])"
      ]
     },
     "execution_count": 20,
     "metadata": {},
     "output_type": "execute_result"
    }
   ],
   "source": [
    "# create a class for self attention layer\n",
    "class Head(nn.Module):\n",
    "    def __init__(self, head_size):\n",
    "        super().__init__()\n",
    "        self.query = nn.Linear(C, head_size)\n",
    "        self.key = nn.Linear(C, head_size)\n",
    "        self.value = nn.Linear(C, head_size)\n",
    "        self.register_buffer('tril', torch.tril(torch.ones(T, T)))\n",
    "    def forward(self, x):\n",
    "        q = self.query(x) # B, T, head_size\n",
    "        k = self.key(x) # B, T, head_size\n",
    "        v = self.value(x) # B, T, head_size\n",
    "        # computer attention score\n",
    "        wei = q @ v.transpose(-2, -1) * head_size ** -0.5 # (B, T, head_size) x (B, head_size, T) -> (B, T, T)\n",
    "        wei = wei.masked_fill(self.tril == 0, float('-inf'))\n",
    "        wei = torch.softmax(wei,dim=-1) # (B, T, T)\n",
    "        # perform the weighted aggregation\n",
    "        out = wei@v # (B, T, T) x (B, T, head_size) -> (B, T, head_size)\n",
    "        return out\n",
    "    \n",
    "head = Head(2)\n",
    "out = head(x); out.shape"
   ]
  },
  {
   "cell_type": "code",
   "execution_count": 21,
   "id": "b5403842",
   "metadata": {},
   "outputs": [
    {
     "name": "stdout",
     "output_type": "stream",
     "text": [
      "torch.Size([32, 8]) torch.Size([32, 8])\n",
      "tensor(4.2236, device='cuda:0', grad_fn=<NllLossBackward0>)\n"
     ]
    }
   ],
   "source": [
    "import torch\n",
    "import torch.nn as nn\n",
    "import torch.nn.functional as F\n",
    "\n",
    "torch.manual_seed(1337)\n",
    "\n",
    "# bigram language model\n",
    "class BigramLanguageModel(nn.Module):\n",
    "    def __init__(self, vocab_size):\n",
    "        super().__init__()\n",
    "        self.token_embedding_table = nn.Embedding(vocab_size, n_embd)\n",
    "        self.position_embedding_table = nn.Embedding(T, n_embd)\n",
    "        self.sa_head = Head(n_embd)\n",
    "        self.lm_head = nn.Linear(n_embd, vocab_size)\n",
    "        \n",
    "    def forward(self, idx, targets=None):\n",
    "        B, T = idx.shape\n",
    "        tok_emb = self.token_embedding_table(idx)\n",
    "        pos_emb = self.position_embedding_table(torch.arange(T).to(device))\n",
    "        x = tok_emb + pos_emb # (B, T, n_embd)\n",
    "        x = self.sa_head(x) # apply one head attention\n",
    "        logits = self.lm_head(x) # (B, n_embd, vocab_size) x (B, T, n_embd) -> (B, T, vocab_size)\n",
    "        if targets is not None:\n",
    "            B, T, C = logits.shape\n",
    "            logits = logits.view(B*T, C)\n",
    "            targets = targets.view(B*T)\n",
    "            loss = F.cross_entropy(logits, targets)\n",
    "        else:\n",
    "            loss = None\n",
    "        return loss, logits\n",
    "\n",
    "    @torch.no_grad()\n",
    "    def generate(self, idx, max_new_token):\n",
    "        for i in range(max_new_token):\n",
    "            loss, logits = model(idx[:, -block_size:])\n",
    "            logits = logits[:, -1,:]\n",
    "            probs = F.softmax(logits, -1)\n",
    "            next_idx = torch.multinomial(probs, 1)\n",
    "            idx = torch.cat([idx, next_idx], 1)\n",
    "        return idx\n",
    "    \n",
    "B, T, C = 32, 8, 32 ; # batch, time, channel\n",
    "n_embd = 32\n",
    "batch_size, block_size = B, T\n",
    "max_iter = 3000\n",
    "eval_iters = 200\n",
    "eval_interval = 300\n",
    "\n",
    "head_size = 16\n",
    "xb, yb = get_batch()\n",
    "print(xb.shape, yb.shape)\n",
    "\n",
    "model = BigramLanguageModel(vocab_size).to(device)\n",
    "m = model.to(device)\n",
    "\n",
    "loss, logits = model(xb, yb)\n",
    "print(loss)"
   ]
  },
  {
   "cell_type": "code",
   "execution_count": 22,
   "id": "f9988876",
   "metadata": {},
   "outputs": [],
   "source": [
    "@torch.no_grad()\n",
    "def estimate_loss():\n",
    "    model.eval()\n",
    "    losses = torch.zeros(eval_iters)\n",
    "    out = {}\n",
    "    for split in ['train', 'val']:\n",
    "        for i in range(eval_iters):\n",
    "            xb, yb = get_batch()\n",
    "            loss, logits = model(xb, yb)\n",
    "            losses[i] = loss\n",
    "        out[split] = losses.mean().item()\n",
    "    return out"
   ]
  },
  {
   "cell_type": "code",
   "execution_count": 23,
   "id": "ab8bd6a0",
   "metadata": {},
   "outputs": [],
   "source": [
    "# sent = model.generate(idx=torch.zeros((1,1), dtype=torch.long), max_new_token=1000)\n",
    "# print(decode(sent[0].tolist()))"
   ]
  },
  {
   "cell_type": "code",
   "execution_count": 24,
   "id": "2e443b51",
   "metadata": {},
   "outputs": [],
   "source": [
    "# create pytorch optimizer\n",
    "from torch.optim import AdamW\n",
    "import numpy as np\n",
    "\n",
    "\n",
    "optimizer = AdamW(model.parameters())"
   ]
  },
  {
   "cell_type": "code",
   "execution_count": 25,
   "id": "afc29638",
   "metadata": {
    "scrolled": true
   },
   "outputs": [
    {
     "name": "stdout",
     "output_type": "stream",
     "text": [
      "Train loss: 4.250394344329834. Val loss: 4.251773834228516. \n",
      "Train loss: 3.0892834663391113. Val loss: 3.1048145294189453. \n",
      "Train loss: 2.921942949295044. Val loss: 2.9380691051483154. \n",
      "Train loss: 2.74647855758667. Val loss: 2.7568492889404297. \n",
      "Train loss: 2.6170177459716797. Val loss: 2.62808895111084. \n",
      "Train loss: 2.5652170181274414. Val loss: 2.5561227798461914. \n",
      "Train loss: 2.5313711166381836. Val loss: 2.5239756107330322. \n",
      "Train loss: 2.5157248973846436. Val loss: 2.5192513465881348. \n",
      "Train loss: 2.4950547218322754. Val loss: 2.485825538635254. \n",
      "Train loss: 2.475869655609131. Val loss: 2.4657135009765625. \n",
      "Train loss: 2.456251859664917. Val loss: 2.4611053466796875. \n",
      "Train loss: 2.4570863246917725. Val loss: 2.4615395069122314. \n",
      "Train loss: 2.4492809772491455. Val loss: 2.438823938369751. \n",
      "Train loss: 2.4471447467803955. Val loss: 2.4392707347869873. \n",
      "Train loss: 2.448664903640747. Val loss: 2.447890043258667. \n"
     ]
    }
   ],
   "source": [
    "# do optimize\n",
    "def train():\n",
    "    for i in range(max_iter):\n",
    "        if i % eval_iters == 0:\n",
    "            out = estimate_loss()\n",
    "            print(f\"Train loss: {out['train']}. Val loss: {out['val']}. \")\n",
    "        xb, yb = get_batch()\n",
    "        loss, logits = model(xb, yb)\n",
    "        optimizer.zero_grad(set_to_none=True)\n",
    "        loss.backward()\n",
    "        optimizer.step()\n",
    "\n",
    "train()\n",
    "\n",
    "# sent = model.generate(idx=torch.zeros((1,1), dtype=torch.long), max_new_token=500)\n",
    "# print(decode(sent[0].tolist()))"
   ]
  },
  {
   "cell_type": "code",
   "execution_count": 26,
   "id": "2f2e2d55",
   "metadata": {},
   "outputs": [
    {
     "name": "stdout",
     "output_type": "stream",
     "text": [
      "Train loss: 2.435600996017456. Val loss: 2.430391550064087. \n",
      "Train loss: 2.4216527938842773. Val loss: 2.4209277629852295. \n",
      "Train loss: 2.422429323196411. Val loss: 2.418130874633789. \n",
      "Train loss: 2.4247641563415527. Val loss: 2.4178075790405273. \n",
      "Train loss: 2.4253361225128174. Val loss: 2.4130218029022217. \n",
      "Train loss: 2.4201459884643555. Val loss: 2.4103615283966064. \n",
      "Train loss: 2.4079363346099854. Val loss: 2.402588129043579. \n",
      "Train loss: 2.4161858558654785. Val loss: 2.408769369125366. \n",
      "Train loss: 2.4048120975494385. Val loss: 2.407437801361084. \n",
      "Train loss: 2.404520034790039. Val loss: 2.402391195297241. \n",
      "Train loss: 2.3978495597839355. Val loss: 2.4051241874694824. \n",
      "Train loss: 2.3947062492370605. Val loss: 2.393450975418091. \n",
      "Train loss: 2.383281707763672. Val loss: 2.397740125656128. \n",
      "Train loss: 2.3895959854125977. Val loss: 2.3915750980377197. \n",
      "Train loss: 2.3961288928985596. Val loss: 2.376368522644043. \n"
     ]
    }
   ],
   "source": [
    "train()\n",
    "    \n",
    "# sent = model.generate(idx=torch.zeros((1,1), dtype=torch.long), max_new_token=500)\n",
    "# print(decode(sent[0].tolist()))"
   ]
  },
  {
   "cell_type": "markdown",
   "id": "79c06268",
   "metadata": {},
   "source": [
    "### Convert this file to md"
   ]
  },
  {
   "cell_type": "code",
   "execution_count": 27,
   "id": "b22ed51d",
   "metadata": {},
   "outputs": [],
   "source": [
    "from IPython.core.display import Javascript"
   ]
  },
  {
   "cell_type": "code",
   "execution_count": 31,
   "id": "862d5b3e",
   "metadata": {},
   "outputs": [
    {
     "data": {
      "application/javascript": [
       "IPython.notebook.kernel.execute('this_notebook = \"' + IPython.notebook.notebook_name + '\"')\n"
      ],
      "text/plain": [
       "<IPython.core.display.Javascript object>"
      ]
     },
     "metadata": {},
     "output_type": "display_data"
    }
   ],
   "source": [
    "%%js\n",
    "IPython.notebook.kernel.execute('this_notebook = \"' + IPython.notebook.notebook_name + '\"')"
   ]
  },
  {
   "cell_type": "code",
   "execution_count": 32,
   "id": "ade82929",
   "metadata": {},
   "outputs": [
    {
     "data": {
      "text/plain": [
       "'2023-01-30-attention-layer.ipynb'"
      ]
     },
     "execution_count": 32,
     "metadata": {},
     "output_type": "execute_result"
    }
   ],
   "source": [
    "this_notebook"
   ]
  },
  {
   "cell_type": "code",
   "execution_count": 33,
   "id": "af83fddd",
   "metadata": {},
   "outputs": [
    {
     "name": "stdout",
     "output_type": "stream",
     "text": [
      "[NbConvertApp] Converting notebook 2023-01-30-attention-layer.ipynb to markdown\n",
      "[NbConvertApp] Writing 15334 bytes to ../_posts/2023-01-30-attention-layer.md\n"
     ]
    }
   ],
   "source": [
    "!jupyter nbconvert --to markdown {this_notebook} --output-dir=../_posts"
   ]
  }
 ],
 "metadata": {
  "kernelspec": {
   "display_name": "Python 3 (ipykernel)",
   "language": "python",
   "name": "python3"
  },
  "language_info": {
   "codemirror_mode": {
    "name": "ipython",
    "version": 3
   },
   "file_extension": ".py",
   "mimetype": "text/x-python",
   "name": "python",
   "nbconvert_exporter": "python",
   "pygments_lexer": "ipython3",
   "version": "3.8.12"
  }
 },
 "nbformat": 4,
 "nbformat_minor": 5
}
