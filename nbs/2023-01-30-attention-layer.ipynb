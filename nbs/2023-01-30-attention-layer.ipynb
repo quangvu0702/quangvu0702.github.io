{
 "cells": [
  {
   "cell_type": "markdown",
   "metadata": {},
   "source": [
    "# 2023-01-30 self attention layers"
   ]
  },
  {
   "cell_type": "code",
   "execution_count": 1,
   "metadata": {},
   "outputs": [],
   "source": [
    "# download data"
   ]
  },
  {
   "cell_type": "code",
   "execution_count": 2,
   "metadata": {},
   "outputs": [
    {
     "data": {
      "text/plain": [
       "(1, 0)"
      ]
     },
     "execution_count": 2,
     "metadata": {},
     "output_type": "execute_result"
    }
   ],
   "source": [
    "import torch\n",
    "torch.cuda.device_count(), torch.cuda.current_device()"
   ]
  },
  {
   "cell_type": "code",
   "execution_count": 3,
   "metadata": {},
   "outputs": [
    {
     "name": "stdout",
     "output_type": "stream",
     "text": [
      "cuda\n"
     ]
    }
   ],
   "source": [
    "device = 'cuda' if torch.cuda.is_available() else 'cpu'\n",
    "print(device)"
   ]
  },
  {
   "cell_type": "code",
   "execution_count": 4,
   "metadata": {},
   "outputs": [
    {
     "name": "stdout",
     "output_type": "stream",
     "text": [
      "--2023-02-05 14:53:31--  https://raw.githubusercontent.com/karpathy/char-rnn/master/data/tinyshakespeare/input.txt\n",
      "Resolving raw.githubusercontent.com (raw.githubusercontent.com)... 2606:50c0:8000::154, 2606:50c0:8003::154, 2606:50c0:8002::154, ...\n",
      "Connecting to raw.githubusercontent.com (raw.githubusercontent.com)|2606:50c0:8000::154|:443... connected.\n",
      "HTTP request sent, awaiting response... 200 OK\n",
      "Length: 1115394 (1,1M) [text/plain]\n",
      "Saving to: ‘input.txt.5’\n",
      "\n",
      "input.txt.5         100%[===================>]   1,06M   484KB/s    in 2,3s    \n",
      "\n",
      "2023-02-05 14:53:34 (484 KB/s) - ‘input.txt.5’ saved [1115394/1115394]\n",
      "\n"
     ]
    }
   ],
   "source": [
    "!wget https://raw.githubusercontent.com/karpathy/char-rnn/master/data/tinyshakespeare/input.txt"
   ]
  },
  {
   "cell_type": "code",
   "execution_count": 5,
   "metadata": {},
   "outputs": [],
   "source": [
    "# read on review data\n",
    "with open('input.txt', 'r', encoding='utf-8') as f:\n",
    "    text = f.read()"
   ]
  },
  {
   "cell_type": "code",
   "execution_count": 6,
   "metadata": {},
   "outputs": [],
   "source": [
    "# Here is all unique character that occur in this text\n",
    "chars = sorted(list(set(text)))\n",
    "vocab_size = len(chars)"
   ]
  },
  {
   "cell_type": "code",
   "execution_count": 7,
   "metadata": {
    "scrolled": true
   },
   "outputs": [
    {
     "name": "stdout",
     "output_type": "stream",
     "text": [
      "[46, 47, 1, 58, 46, 43, 56, 43]\n",
      "hi there\n"
     ]
    }
   ],
   "source": [
    "# create a mapping from characters to integers\n",
    "ctoi = {c: i for i, c in enumerate(chars)}\n",
    "itoc = {i: c for i, c in enumerate(chars)}\n",
    "\n",
    "encode = lambda s: [ctoi[c] for c in s]\n",
    "decode = lambda l: ''.join([itoc[i] for i in l])\n",
    "\n",
    "print(encode(\"hi there\"))\n",
    "\n",
    "print(decode(encode(\"hi there\")))"
   ]
  },
  {
   "cell_type": "code",
   "execution_count": 8,
   "metadata": {},
   "outputs": [
    {
     "name": "stdout",
     "output_type": "stream",
     "text": [
      "torch.Size([1115394]) torch.int64\n"
     ]
    },
    {
     "data": {
      "text/plain": [
       "tensor([18, 47, 56, 57, 58,  1, 15, 47, 58, 47, 64, 43, 52, 10,  0, 14, 43, 44,\n",
       "        53, 56, 43,  1, 61, 43,  1, 54, 56, 53, 41, 43, 43, 42,  1, 39, 52, 63,\n",
       "         1, 44, 59, 56, 58, 46, 43, 56,  6,  1, 46, 43, 39, 56,  1, 51, 43,  1,\n",
       "        57, 54, 43, 39, 49,  8,  0,  0, 13, 50, 50, 10,  0, 31, 54, 43, 39, 49,\n",
       "         6,  1, 57, 54, 43, 39, 49,  8,  0,  0, 18, 47, 56, 57, 58,  1, 15, 47,\n",
       "        58, 47, 64, 43, 52, 10,  0, 37, 53, 59])"
      ]
     },
     "execution_count": 8,
     "metadata": {},
     "output_type": "execute_result"
    }
   ],
   "source": [
    "# Let now encode the entire text dataset and store it into torch.Tensor\n",
    "import torch\n",
    "\n",
    "data = torch.tensor(encode(text), dtype=torch.long)\n",
    "print(data.shape, data.dtype)\n",
    "\n",
    "data[0:100]"
   ]
  },
  {
   "cell_type": "code",
   "execution_count": 9,
   "metadata": {},
   "outputs": [
    {
     "data": {
      "text/plain": [
       "(1003855, 111539)"
      ]
     },
     "execution_count": 9,
     "metadata": {},
     "output_type": "execute_result"
    }
   ],
   "source": [
    "# Let's now split up the data into train set and validation set\n",
    "n = round(len(data) * 0.9);\n",
    "train_data = data[:n]\n",
    "val_data   = data[n:]\n",
    "len(train_data), len(val_data)"
   ]
  },
  {
   "cell_type": "code",
   "execution_count": 10,
   "metadata": {},
   "outputs": [
    {
     "data": {
      "text/plain": [
       "tensor([18, 47, 56, 57, 58,  1, 15, 47])"
      ]
     },
     "execution_count": 10,
     "metadata": {},
     "output_type": "execute_result"
    }
   ],
   "source": [
    "block_size = 8\n",
    "train_data[:block_size]"
   ]
  },
  {
   "cell_type": "code",
   "execution_count": 11,
   "metadata": {},
   "outputs": [
    {
     "name": "stdout",
     "output_type": "stream",
     "text": [
      "when context is tensor([18]) the target: 47.\n",
      "when context is tensor([18, 47]) the target: 56.\n",
      "when context is tensor([18, 47, 56]) the target: 57.\n",
      "when context is tensor([18, 47, 56, 57]) the target: 58.\n",
      "when context is tensor([18, 47, 56, 57, 58]) the target: 1.\n",
      "when context is tensor([18, 47, 56, 57, 58,  1]) the target: 15.\n",
      "when context is tensor([18, 47, 56, 57, 58,  1, 15]) the target: 47.\n",
      "when context is tensor([18, 47, 56, 57, 58,  1, 15, 47]) the target: 58.\n"
     ]
    }
   ],
   "source": [
    "x = train_data[:block_size]\n",
    "y = train_data[1:block_size + 1]\n",
    "\n",
    "for i in range(block_size):\n",
    "    context = x[:i+1]\n",
    "    target = y[i]\n",
    "    print(f\"when context is {context} the target: {target}.\")"
   ]
  },
  {
   "cell_type": "code",
   "execution_count": 12,
   "metadata": {},
   "outputs": [
    {
     "name": "stdout",
     "output_type": "stream",
     "text": [
      "tensor([[56,  6,  0, 24, 43, 58,  1, 61],\n",
      "        [39, 47, 51,  1, 58, 46, 39, 58],\n",
      "        [52, 45,  1, 58, 53,  1, 57, 39],\n",
      "        [43, 47, 52, 45,  1, 46, 53, 50]], device='cuda:0')\n",
      "tensor([[ 6,  0, 24, 43, 58,  1, 61, 46],\n",
      "        [47, 51,  1, 58, 46, 39, 58,  1],\n",
      "        [45,  1, 58, 53,  1, 57, 39, 63],\n",
      "        [47, 52, 45,  1, 46, 53, 50, 47]], device='cuda:0')\n",
      "when context is tensor([56], device='cuda:0') the target: 6.\n",
      "when context is tensor([56,  6], device='cuda:0') the target: 0.\n",
      "when context is tensor([56,  6,  0], device='cuda:0') the target: 24.\n",
      "when context is tensor([56,  6,  0, 24], device='cuda:0') the target: 43.\n",
      "when context is tensor([56,  6,  0, 24, 43], device='cuda:0') the target: 58.\n",
      "when context is tensor([56,  6,  0, 24, 43, 58], device='cuda:0') the target: 1.\n",
      "when context is tensor([56,  6,  0, 24, 43, 58,  1], device='cuda:0') the target: 61.\n",
      "when context is tensor([56,  6,  0, 24, 43, 58,  1, 61], device='cuda:0') the target: 46.\n",
      "when context is tensor([39], device='cuda:0') the target: 47.\n",
      "when context is tensor([39, 47], device='cuda:0') the target: 51.\n",
      "when context is tensor([39, 47, 51], device='cuda:0') the target: 1.\n",
      "when context is tensor([39, 47, 51,  1], device='cuda:0') the target: 58.\n",
      "when context is tensor([39, 47, 51,  1, 58], device='cuda:0') the target: 46.\n",
      "when context is tensor([39, 47, 51,  1, 58, 46], device='cuda:0') the target: 39.\n",
      "when context is tensor([39, 47, 51,  1, 58, 46, 39], device='cuda:0') the target: 58.\n",
      "when context is tensor([39, 47, 51,  1, 58, 46, 39, 58], device='cuda:0') the target: 1.\n",
      "when context is tensor([52], device='cuda:0') the target: 45.\n",
      "when context is tensor([52, 45], device='cuda:0') the target: 1.\n",
      "when context is tensor([52, 45,  1], device='cuda:0') the target: 58.\n",
      "when context is tensor([52, 45,  1, 58], device='cuda:0') the target: 53.\n",
      "when context is tensor([52, 45,  1, 58, 53], device='cuda:0') the target: 1.\n",
      "when context is tensor([52, 45,  1, 58, 53,  1], device='cuda:0') the target: 57.\n",
      "when context is tensor([52, 45,  1, 58, 53,  1, 57], device='cuda:0') the target: 39.\n",
      "when context is tensor([52, 45,  1, 58, 53,  1, 57, 39], device='cuda:0') the target: 63.\n",
      "when context is tensor([43], device='cuda:0') the target: 47.\n",
      "when context is tensor([43, 47], device='cuda:0') the target: 52.\n",
      "when context is tensor([43, 47, 52], device='cuda:0') the target: 45.\n",
      "when context is tensor([43, 47, 52, 45], device='cuda:0') the target: 1.\n",
      "when context is tensor([43, 47, 52, 45,  1], device='cuda:0') the target: 46.\n",
      "when context is tensor([43, 47, 52, 45,  1, 46], device='cuda:0') the target: 53.\n",
      "when context is tensor([43, 47, 52, 45,  1, 46, 53], device='cuda:0') the target: 50.\n",
      "when context is tensor([43, 47, 52, 45,  1, 46, 53, 50], device='cuda:0') the target: 47.\n"
     ]
    }
   ],
   "source": [
    "torch.manual_seed(1337)\n",
    "\n",
    "batch_size = 4\n",
    "block_size = 8\n",
    "\n",
    "def get_batch(split='train'):\n",
    "    data = train_data if split == 'train' else val_data\n",
    "    ix = torch.randint(len(train_data) - block_size, (batch_size, ))\n",
    "    xb = torch.stack([train_data[i:i+block_size] for i in ix])\n",
    "    yb = torch.stack([train_data[i+1:i+1+block_size] for i in ix])\n",
    "    xb, yb = xb.to(device), yb.to(device)\n",
    "    return xb, yb\n",
    "\n",
    "xb, yb = get_batch()\n",
    "print(xb)\n",
    "print(yb)\n",
    "for b in range(batch_size):\n",
    "    for i in range(block_size):\n",
    "        x = xb[b,:i+1]\n",
    "        y = yb[b,i]\n",
    "        print(f\"when context is {x} the target: {y}.\")"
   ]
  },
  {
   "cell_type": "code",
   "execution_count": 13,
   "metadata": {},
   "outputs": [
    {
     "name": "stdout",
     "output_type": "stream",
     "text": [
      "tensor([[56,  6,  0, 24, 43, 58,  1, 61],\n",
      "        [39, 47, 51,  1, 58, 46, 39, 58],\n",
      "        [52, 45,  1, 58, 53,  1, 57, 39],\n",
      "        [43, 47, 52, 45,  1, 46, 53, 50]], device='cuda:0')\n"
     ]
    }
   ],
   "source": [
    "print(xb) # input to our transformer"
   ]
  },
  {
   "cell_type": "code",
   "execution_count": 14,
   "metadata": {},
   "outputs": [],
   "source": [
    "# self attention layer"
   ]
  },
  {
   "cell_type": "code",
   "execution_count": 15,
   "metadata": {},
   "outputs": [
    {
     "data": {
      "text/plain": [
       "tensor([[-1.3113, -1.0017],\n",
       "        [-1.2342,  0.1297],\n",
       "        [-0.5150, -1.2666],\n",
       "        [-0.6719,  0.1851],\n",
       "        [ 0.9367,  0.3139],\n",
       "        [-1.3950,  0.1132],\n",
       "        [ 0.3622,  2.5192],\n",
       "        [-0.7672, -0.9529]])"
      ]
     },
     "execution_count": 15,
     "metadata": {},
     "output_type": "execute_result"
    }
   ],
   "source": [
    "import torch\n",
    "\n",
    "torch.manual_seed(1338)\n",
    "\n",
    "B, T, C = 4, 8, 2 ; # batch, time, channel\n",
    "\n",
    "x = torch.randn((B, T, C))\n",
    "\n",
    "x[0]"
   ]
  },
  {
   "cell_type": "code",
   "execution_count": 16,
   "metadata": {},
   "outputs": [
    {
     "data": {
      "text/plain": [
       "tensor([[-1.3113, -1.0017],\n",
       "        [-1.2728, -0.4360],\n",
       "        [-1.0202, -0.7129],\n",
       "        [-0.9331, -0.4884],\n",
       "        [-0.5591, -0.3279],\n",
       "        [-0.6985, -0.2544],\n",
       "        [-0.5469,  0.1418],\n",
       "        [-0.5745,  0.0050]])"
      ]
     },
     "execution_count": 16,
     "metadata": {},
     "output_type": "execute_result"
    }
   ],
   "source": [
    "# version 1\n",
    "xbow = torch.zeros_like(x)\n",
    "for b in range(B):\n",
    "    for t in range(T):\n",
    "        x_prev = x[b, :t+1] # t, C\n",
    "        xbow[b,t] = torch.mean(x_prev, dim=0)\n",
    "xbow[0]"
   ]
  },
  {
   "cell_type": "code",
   "execution_count": 17,
   "metadata": {},
   "outputs": [
    {
     "data": {
      "text/plain": [
       "False"
      ]
     },
     "execution_count": 17,
     "metadata": {},
     "output_type": "execute_result"
    }
   ],
   "source": [
    "# version 2\n",
    "wei = torch.tril(torch.ones(T, T))\n",
    "wei = wei / wei.sum(dim=1, keepdim=True)\n",
    "xbow2 = wei @ x # (B, T, T) x (B, T, C) -> (B, T, C)\n",
    "torch.allclose(xbow, xbow2)"
   ]
  },
  {
   "cell_type": "code",
   "execution_count": 18,
   "metadata": {},
   "outputs": [
    {
     "data": {
      "text/plain": [
       "False"
      ]
     },
     "execution_count": 18,
     "metadata": {},
     "output_type": "execute_result"
    }
   ],
   "source": [
    "# version 3\n",
    "# using solfmax\n",
    "wei = torch.tril(torch.ones(T, T))\n",
    "wei = wei.masked_fill(wei==0, float('-inf'))\n",
    "wei = torch.softmax(wei, dim=-1)\n",
    "xbow3 = wei @ x # (B, T, T) x (B, T, C) -> (B, T, C)\n",
    "torch.allclose(xbow, xbow3)"
   ]
  },
  {
   "cell_type": "code",
   "execution_count": 19,
   "metadata": {},
   "outputs": [
    {
     "data": {
      "text/plain": [
       "'1.7.0'"
      ]
     },
     "execution_count": 19,
     "metadata": {},
     "output_type": "execute_result"
    }
   ],
   "source": [
    "torch.__version__"
   ]
  },
  {
   "cell_type": "code",
   "execution_count": 20,
   "metadata": {},
   "outputs": [
    {
     "data": {
      "text/plain": [
       "(torch.Size([4, 8, 16]),\n",
       " torch.Size([4, 8, 16]),\n",
       " torch.Size([4, 8, 16]),\n",
       " torch.Size([4, 8, 8]),\n",
       " torch.Size([4, 8, 16]))"
      ]
     },
     "execution_count": 20,
     "metadata": {},
     "output_type": "execute_result"
    }
   ],
   "source": [
    "import torch\n",
    "import torch.nn as nn\n",
    "\n",
    "torch.manual_seed(1337)\n",
    "\n",
    "B, T, C = 4, 8, 32 ; # batch, time, channel\n",
    "head_size = 16\n",
    "\n",
    "x = torch.randn((B, T, C))\n",
    "\n",
    "query = nn.Linear(C, head_size, bias=False)\n",
    "key = nn.Linear(C, head_size, bias=False)\n",
    "value = nn.Linear(C, head_size, bias=False)\n",
    "\n",
    "q = query(x) # (B, T, head_size)\n",
    "k = key(x) # (B, T, head_size)\n",
    "v = value(x) # (B, T, head_size)\n",
    "\n",
    "wei = q@k.transpose(-2, -1) # (B, T, head_size) @ (B, head_size, head_size, T) -> (B, T, T)\n",
    "wei = wei / head_size**0.5\n",
    "tril = torch.tril(torch.ones(T, T))\n",
    "wei = wei.masked_fill(tril==0, float('-inf'))\n",
    "wei = torch.softmax(wei, dim=-1)\n",
    "\n",
    "out = wei @ v # (B, T, T) x (B, T, C) -> (B, T, C)\n",
    "\n",
    "q.shape, k.shape, v.shape, wei.shape, out.shape"
   ]
  },
  {
   "cell_type": "code",
   "execution_count": 21,
   "metadata": {},
   "outputs": [],
   "source": [
    "drop_out = 0.2"
   ]
  },
  {
   "cell_type": "code",
   "execution_count": 22,
   "metadata": {
    "scrolled": true
   },
   "outputs": [
    {
     "name": "stdout",
     "output_type": "stream",
     "text": [
      "torch.Size([4, 8, 2])\n",
      "torch.Size([4, 8, 32])\n",
      "torch.Size([4, 8, 32])\n",
      "torch.Size([4, 8, 32])\n",
      "torch.Size([4, 8, 32])\n"
     ]
    },
    {
     "data": {
      "text/plain": [
       "torch.Size([4, 8, 32])"
      ]
     },
     "execution_count": 22,
     "metadata": {},
     "output_type": "execute_result"
    }
   ],
   "source": [
    "# create a class for self attention layer\n",
    "class Head(nn.Module):\n",
    "    def __init__(self, head_size):\n",
    "        super().__init__()\n",
    "        self.query = nn.Linear(C, head_size)\n",
    "        self.key = nn.Linear(C, head_size)\n",
    "        self.value = nn.Linear(C, head_size)\n",
    "        self.register_buffer('tril', torch.tril(torch.ones(T, T)))\n",
    "        self.dropout = nn.Dropout(drop_out)\n",
    "    def forward(self, x):\n",
    "        B, T, C = x.shape\n",
    "        q = self.query(x) # B, T, head_size\n",
    "        k = self.key(x) # B, T, head_size\n",
    "        v = self.value(x) # B, T, head_size\n",
    "        # computer attention score\n",
    "        wei = q @ v.transpose(-2, -1) * head_size ** -0.5 # (B, T, head_size) x (B, head_size, T) -> (B, T, T)\n",
    "        wei = wei.masked_fill(self.tril[:T, :T] == 0, float('-inf'))\n",
    "        wei = torch.softmax(wei,dim=-1) # (B, T, T)\n",
    "        wei = self.dropout(wei)\n",
    "        # perform the weighted aggregation\n",
    "        out = wei@v # (B, T, T) x (B, T, head_size) -> (B, T, head_size)\n",
    "        return out\n",
    "    \n",
    "# class MultipleHeadAttention(nn.Module):\n",
    "#     def __init__(self, num_heads, head_size):\n",
    "#         super().__init__()\n",
    "#         self.heads = nn.ModuleList([Head(head_size) for _ in range(num_heads)])\n",
    "#         n_embd = head_size * num_heads\n",
    "#         self.proj = nn.Linear(n_embd, n_embd)\n",
    "#         self.dropout = nn.Dropout(drop_out)\n",
    "#     def forward(self, x):\n",
    "#         out = torch.cat([head(x) for head in self.heads], -1)\n",
    "#         out = self.dropout(self.proj(out))\n",
    "#         return out\n",
    "\n",
    "class MultipleHeadAttention(nn.Module):\n",
    "    def __init__(self, num_heads, head_size):\n",
    "        super().__init__()\n",
    "        self.head_size = head_size\n",
    "        self.num_heads = num_heads\n",
    "        self.query = nn.Linear(C, head_size * num_heads)\n",
    "        self.key = nn.Linear(C, head_size * num_heads)\n",
    "        self.value = nn.Linear(C, head_size * num_heads)\n",
    "        self.register_buffer('tril', torch.tril(torch.ones(T, T)))\n",
    "        self.proj = nn.Linear(num_heads*head_size, num_heads*head_size)\n",
    "        self.dropout1 = nn.Dropout(drop_out)\n",
    "        self.dropout2 = nn.Dropout(drop_out)\n",
    "        \n",
    "    def forward(self, x):\n",
    "        B, T, C = x.shape\n",
    "        x = x.view(B, 1, T, C)\n",
    "        q = self.query(x).view(B, T, self.num_heads, self.head_size).transpose(1,2) # B, num_heads, T, head_size\n",
    "        k = self.key(x).view(B, T, self.num_heads, self.head_size).transpose(1,2) # B, num_heads, T, head_size\n",
    "        v = self.value(x).view(B, T, self.num_heads, self.head_size).transpose(1,2) # B, num_heads, T, head_size\n",
    "        # computer attention score\n",
    "        wei = q @ v.transpose(-2, -1) * self.head_size ** -0.5 # (B, num_heads, T, head_size) x (B, num_heads, head_size, T) -> (B, num_heads, T, T)\n",
    "        wei = wei.masked_fill(self.tril[:T, :T] == 0, float('-inf'))\n",
    "        wei = torch.softmax(wei,dim=-1) # (B, num_heads, T, T)\n",
    "        wei = self.dropout1(wei)\n",
    "        # perform the weighted aggregation\n",
    "        out = wei@v # (B, num_heads, T, T) x (B, num_heads, T, head_size) -> (B, num_heads, T, head_size)\n",
    "        out = out.transpose(1,2).reshape(B, T, -1) # B, T, head_size * n_head\n",
    "        out = self.dropout2(self.proj(out))\n",
    "        return out\n",
    "    \n",
    "class FeedForward(nn.Module):\n",
    "    def __init__(self, n_embd):\n",
    "        super().__init__()\n",
    "        self.net = nn.Sequential(\n",
    "                        nn.Linear(n_embd, n_embd * 4),\n",
    "                        nn.ReLU(),\n",
    "                        nn.Linear(n_embd * 4, n_embd),\n",
    "                        nn.Dropout(drop_out)\n",
    "                    )\n",
    "    \n",
    "    def forward(self, x):\n",
    "        x = self.net(x)\n",
    "        return x\n",
    "    \n",
    "class Block(nn.Module):\n",
    "    def __init__(self, num_heads, n_embd):\n",
    "        super().__init__()\n",
    "        head_size = n_embd//num_heads\n",
    "        self.sa_head = MultipleHeadAttention(num_heads, head_size)\n",
    "        self.ffwd = FeedForward(n_embd)\n",
    "        self.ln1 = nn.LayerNorm(n_embd)\n",
    "        self.ln2 = nn.LayerNorm(n_embd)\n",
    "    def forward(self, x):\n",
    "        x = self.sa_head(self.ln1(x)) + x\n",
    "        x = self.ffwd(self.ln2(x)) + x\n",
    "        return x\n",
    "\n",
    "B, T, C = x.shape\n",
    "    \n",
    "head = Head(2)\n",
    "out = head(x)\n",
    "print(out.shape)\n",
    "\n",
    "print(x.shape)\n",
    "head_size = 8\n",
    "num_heads = int(C / head_size)\n",
    "multi_heads = MultipleHeadAttention(num_heads, head_size)\n",
    "out = multi_heads(x)\n",
    "print(out.shape)\n",
    "\n",
    "ffwd = FeedForward(C)\n",
    "out = ffwd(out)\n",
    "print(out.shape)\n",
    "\n",
    "x = torch.randn((4, 8, 32))\n",
    "block = Block(4, 32)\n",
    "out = block(x)\n",
    "print(out.shape)\n",
    "\n",
    "blocks = nn.Sequential(*nn.ModuleList([Block(4, 32) for _ in range(4)]))\n",
    "blocks(x).shape"
   ]
  },
  {
   "cell_type": "code",
   "execution_count": 23,
   "metadata": {},
   "outputs": [
    {
     "name": "stdout",
     "output_type": "stream",
     "text": [
      "tensor(-0.2145) tensor(1.0175)\n",
      "tensor(-1.6764e-08, grad_fn=<MeanBackward0>) tensor(1.0322, grad_fn=<VarBackward0>)\n"
     ]
    }
   ],
   "source": [
    "torch.manual_seed(1338)\n",
    "x = torch.randn((4, 8, 32))\n",
    "print(x[0, 0].mean(), x[0, 0].var())\n",
    "\n",
    "layer_norm = nn.LayerNorm(32)\n",
    "x = layer_norm(x)\n",
    "print(x[1, 1].mean(), x[2, 2].var())"
   ]
  },
  {
   "cell_type": "code",
   "execution_count": 24,
   "metadata": {},
   "outputs": [],
   "source": [
    "import torch\n",
    "import torch.nn as nn\n",
    "import torch.nn.functional as F\n",
    "from torch.optim import AdamW\n",
    "import numpy as np\n",
    "\n",
    "torch.manual_seed(1337)\n",
    "\n",
    "@torch.no_grad()\n",
    "def estimate_loss():\n",
    "    model.eval()\n",
    "    losses = torch.zeros(eval_iters)\n",
    "    out = {}\n",
    "    for split in ['train', 'val']:\n",
    "        for i in range(eval_iters):\n",
    "            xb, yb = get_batch()\n",
    "            loss, logits = model(xb, yb)\n",
    "            losses[i] = loss\n",
    "        out[split] = losses.mean().item()\n",
    "    return out\n",
    "\n",
    "# bigram language model\n",
    "class BigramLanguageModel(nn.Module):\n",
    "    def __init__(self, vocab_size):\n",
    "        super().__init__()\n",
    "        self.token_embedding_table = nn.Embedding(vocab_size, n_embd)\n",
    "        self.position_embedding_table = nn.Embedding(T, n_embd)\n",
    "        self.blocks = nn.Sequential(*nn.ModuleList([Block(num_heads, n_embd) for _ in range(num_blocks)] + [nn.LayerNorm(n_embd)]))\n",
    "        self.lm_head = nn.Linear(n_embd, vocab_size)\n",
    "        \n",
    "    def forward(self, idx, targets=None):\n",
    "        B, T = idx.shape\n",
    "        tok_emb = self.token_embedding_table(idx)\n",
    "        pos_emb = self.position_embedding_table(torch.arange(T).to(device))\n",
    "        x = tok_emb + pos_emb # (B, T, n_embd)\n",
    "        x = self.blocks(x)\n",
    "        logits = self.lm_head(x) # (B, n_embd, vocab_size) x (B, T, n_embd) -> (B, T, vocab_size)\n",
    "        if targets is not None:\n",
    "            B, T, C = logits.shape\n",
    "            logits = logits.view(B*T, C)\n",
    "            targets = targets.view(B*T)\n",
    "            loss = F.cross_entropy(logits, targets)\n",
    "        else:\n",
    "            loss = None\n",
    "        return loss, logits\n",
    "\n",
    "    @torch.no_grad()\n",
    "    def generate(self, idx, max_new_token):\n",
    "        for i in range(max_new_token):\n",
    "            loss, logits = self(idx[:, -block_size:])\n",
    "            logits = logits[:, -1,:]\n",
    "            probs = F.softmax(logits, -1)\n",
    "            next_idx = torch.multinomial(probs, 1)\n",
    "            idx = torch.cat([idx, next_idx], 1)\n",
    "        return idx\n",
    "\n",
    "def train(lr=0.001):\n",
    "    optimizer = AdamW(model.parameters())\n",
    "    for i in range(max_iter):\n",
    "        if i % eval_iters == 0:\n",
    "            out = estimate_loss()\n",
    "            print(f\"Train loss: {out['train']}. Val loss: {out['val']}. \")\n",
    "        xb, yb = get_batch()\n",
    "        loss, logits = model(xb, yb)\n",
    "        optimizer.zero_grad(set_to_none=True)\n",
    "        loss.backward()\n",
    "        optimizer.step()\n",
    "\n"
   ]
  },
  {
   "cell_type": "code",
   "execution_count": 25,
   "metadata": {
    "scrolled": true
   },
   "outputs": [],
   "source": [
    "# B, T, C = 32, 8, 32 ; # batch, time, channel\n",
    "# n_embd = 32\n",
    "# batch_size, block_size = B, T\n",
    "# max_iter = 3000\n",
    "# num_heads = 4\n",
    "# num_blocks = 4\n",
    "# eval_iters = 200\n",
    "# eval_interval = 300\n",
    "# drop_out = 0.2\n",
    "# head_size = 16\n",
    "# lr = 0.001\n",
    "# xb, yb = get_batch()\n",
    "# print(xb.shape, yb.shape)\n",
    "\n",
    "# model = BigramLanguageModel(vocab_size).to(device)\n",
    "# m = model.to(device)\n",
    "# # print the number of parameters in the model\n",
    "# print(sum(p.numel() for p in m.parameters())/1e6, 'M parameters')\n",
    "# loss, logits = model(xb, yb)\n",
    "# print(loss)\n",
    "\n",
    "# train(lr=lr)\n",
    "\n",
    "# sent = model.generate(idx=torch.zeros((1,1), dtype=torch.long).to(device), max_new_token=500)\n",
    "# print(decode(sent[0].tolist()))\n",
    "\n",
    "# train(lr=lr / 10)\n",
    "    \n",
    "# sent = model.generate(idx=torch.zeros((1,1), dtype=torch.long).to(device), max_new_token=500)\n",
    "# print(decode(sent[0].tolist()))"
   ]
  },
  {
   "cell_type": "code",
   "execution_count": 26,
   "metadata": {},
   "outputs": [
    {
     "name": "stdout",
     "output_type": "stream",
     "text": [
      "torch.Size([64, 128]) torch.Size([64, 128])\n",
      "10.746689 M parameters\n",
      "tensor(4.3245, device='cuda:0', grad_fn=<NllLossBackward>)\n"
     ]
    }
   ],
   "source": [
    "# hyperparameters\n",
    "# batch_size = 16 # how many independent sequences will we process in parallel?\n",
    "# block_size = 32 # what is the maximum context length for predictions?\n",
    "# max_iters = 5000\n",
    "# eval_interval = 100\n",
    "# learning_rate = 1e-3\n",
    "# device = 'cuda' if torch.cuda.is_available() else 'cpu'\n",
    "# eval_iters = 200\n",
    "# n_embd = 64\n",
    "# n_head = 4\n",
    "# n_layer = 4\n",
    "# dropout = 0.0\n",
    "# ------------\n",
    "\n",
    "\n",
    "B, T, C = 64, 128, 384 ; # batch, time, channel\n",
    "n_embd = C\n",
    "batch_size, block_size = B, T\n",
    "max_iter = 5000\n",
    "num_heads = 6\n",
    "num_blocks = 6\n",
    "eval_iters = 200\n",
    "eval_interval = 100\n",
    "drop_out = 0.2\n",
    "head_size = n_embd / num_heads\n",
    "xb, yb = get_batch()\n",
    "lr = 0.0001\n",
    "print(xb.shape, yb.shape)\n",
    "\n",
    "model = BigramLanguageModel(vocab_size).to(device)\n",
    "m = model.to(device)\n",
    "# print the number of parameters in the model\n",
    "print(sum(p.numel() for p in m.parameters())/1e6, 'M parameters')\n",
    "loss, logits = model(xb, yb)\n",
    "print(loss)"
   ]
  },
  {
   "cell_type": "code",
   "execution_count": 27,
   "metadata": {},
   "outputs": [
    {
     "name": "stdout",
     "output_type": "stream",
     "text": [
      "Train loss: 4.319405555725098. Val loss: 4.31920051574707. \n",
      "Train loss: 2.07173228263855. Val loss: 2.071382522583008. \n",
      "Train loss: 1.658880352973938. Val loss: 1.6577978134155273. \n",
      "Train loss: 1.4907934665679932. Val loss: 1.4930508136749268. \n",
      "Train loss: 1.40459406375885. Val loss: 1.4055858850479126. \n",
      "Train loss: 1.3399468660354614. Val loss: 1.3428082466125488. \n",
      "Train loss: 1.2919952869415283. Val loss: 1.2917110919952393. \n",
      "Train loss: 1.2531120777130127. Val loss: 1.255987524986267. \n",
      "Train loss: 1.2189946174621582. Val loss: 1.2206335067749023. \n",
      "Train loss: 1.1781675815582275. Val loss: 1.1791486740112305. \n",
      "Train loss: 1.1486330032348633. Val loss: 1.1486282348632812. \n",
      "Train loss: 1.111915111541748. Val loss: 1.1131877899169922. \n",
      "Train loss: 1.0789719820022583. Val loss: 1.0793486833572388. \n",
      "Train loss: 1.0437376499176025. Val loss: 1.0418130159378052. \n",
      "Train loss: 1.001774787902832. Val loss: 1.0007587671279907. \n",
      "Train loss: 0.9658932685852051. Val loss: 0.966268002986908. \n",
      "Train loss: 0.9201828241348267. Val loss: 0.9186395406723022. \n",
      "Train loss: 0.8731043338775635. Val loss: 0.8724583983421326. \n",
      "Train loss: 0.8258631825447083. Val loss: 0.8270233869552612. \n",
      "Train loss: 0.7863552570343018. Val loss: 0.7853423357009888. \n",
      "Train loss: 0.7316440343856812. Val loss: 0.7323237657546997. \n",
      "Train loss: 0.6888072490692139. Val loss: 0.690226674079895. \n",
      "Train loss: 0.6393572092056274. Val loss: 0.6397681832313538. \n",
      "Train loss: 0.601671040058136. Val loss: 0.6048049926757812. \n",
      "Train loss: 0.5630137920379639. Val loss: 0.5605818629264832. \n",
      "\n",
      "Unless vexange hurd! I will not drunk a crutch,\n",
      "To try if her great children, grandam,\n",
      "Are very soldiers for the ground.\n",
      "\n",
      "FRIAR LAURENCE:\n",
      "Romeo shall thank thee, daughter, and with flowers,\n",
      "As to thy other prediction.\n",
      "\n",
      "JOHN OF GAUNT:\n",
      "Catal stars, passing shock, Edward my eye,\n",
      "Comes have been their war: my woman was a better\n",
      "metings to the offic and my house, if I slewd.\n",
      "\n",
      "LUCENTIO:\n",
      "O thou virlain keepest detect I saw them,\n",
      "From time hath to made them all to live.\n",
      "\n",
      "JULIET:\n",
      "Madam, I come!\n",
      "Brisk it \n"
     ]
    }
   ],
   "source": [
    "train(lr=lr)\n",
    "\n",
    "sent = model.generate(idx=torch.zeros((1,1), dtype=torch.long).to(device), max_new_token=500)\n",
    "print(decode(sent[0].tolist()))"
   ]
  },
  {
   "cell_type": "markdown",
   "metadata": {},
   "source": [
    "### Convert this file to md"
   ]
  },
  {
   "cell_type": "code",
   "execution_count": 28,
   "metadata": {},
   "outputs": [],
   "source": [
    "from IPython.core.display import Javascript"
   ]
  },
  {
   "cell_type": "code",
   "execution_count": 29,
   "metadata": {},
   "outputs": [
    {
     "data": {
      "application/javascript": [
       "IPython.notebook.kernel.execute('this_notebook = \"' + IPython.notebook.notebook_name + '\"')\n"
      ],
      "text/plain": [
       "<IPython.core.display.Javascript object>"
      ]
     },
     "metadata": {},
     "output_type": "display_data"
    }
   ],
   "source": [
    "%%js\n",
    "IPython.notebook.kernel.execute('this_notebook = \"' + IPython.notebook.notebook_name + '\"')"
   ]
  },
  {
   "cell_type": "code",
   "execution_count": 31,
   "metadata": {},
   "outputs": [
    {
     "ename": "NameError",
     "evalue": "name 'this_notebook' is not defined",
     "output_type": "error",
     "traceback": [
      "\u001b[0;31m---------------------------------------------------------------------------\u001b[0m",
      "\u001b[0;31mNameError\u001b[0m                                 Traceback (most recent call last)",
      "\u001b[0;32m<ipython-input-31-0a5671918a34>\u001b[0m in \u001b[0;36m<module>\u001b[0;34m\u001b[0m\n\u001b[0;32m----> 1\u001b[0;31m \u001b[0mthis_notebook\u001b[0m\u001b[0;34m\u001b[0m\u001b[0;34m\u001b[0m\u001b[0m\n\u001b[0m",
      "\u001b[0;31mNameError\u001b[0m: name 'this_notebook' is not defined"
     ]
    }
   ],
   "source": [
    "this_notebook"
   ]
  },
  {
   "cell_type": "code",
   "execution_count": 33,
   "metadata": {},
   "outputs": [
    {
     "name": "stdout",
     "output_type": "stream",
     "text": [
      "[NbConvertApp] WARNING | pattern '{this_notebook}' matched no files\r\n",
      "This application is used to convert notebook files (*.ipynb) to various other\r\n",
      "formats.\r\n",
      "\r\n",
      "WARNING: THE COMMANDLINE INTERFACE MAY CHANGE IN FUTURE RELEASES.\r\n",
      "\r\n",
      "Options\r\n",
      "-------\r\n",
      "\r\n",
      "Arguments that take values are actually convenience aliases to full\r\n",
      "Configurables, whose aliases are listed on the help line. For more information\r\n",
      "on full configurables, see '--help-all'.\r\n",
      "\r\n",
      "--debug\r\n",
      "    set log level to logging.DEBUG (maximize logging output)\r\n",
      "--generate-config\r\n",
      "    generate default config file\r\n",
      "-y\r\n",
      "    Answer yes to any questions instead of prompting.\r\n",
      "--execute\r\n",
      "    Execute the notebook prior to export.\r\n",
      "--allow-errors\r\n",
      "    Continue notebook execution even if one of the cells throws an error and include the error message in the cell output (the default behaviour is to abort conversion). This flag is only relevant if '--execute' was specified, too.\r\n",
      "--stdin\r\n",
      "    read a single notebook file from stdin. Write the resulting notebook with default basename 'notebook.*'\r\n",
      "--stdout\r\n",
      "    Write notebook output to stdout instead of files.\r\n",
      "--inplace\r\n",
      "    Run nbconvert in place, overwriting the existing notebook (only \r\n",
      "    relevant when converting to notebook format)\r\n",
      "--clear-output\r\n",
      "    Clear output of current file and save in place, \r\n",
      "    overwriting the existing notebook.\r\n",
      "--no-prompt\r\n",
      "    Exclude input and output prompts from converted document.\r\n",
      "--no-input\r\n",
      "    Exclude input cells and output prompts from converted document. \r\n",
      "    This mode is ideal for generating code-free reports.\r\n",
      "--log-level=<Enum> (Application.log_level)\r\n",
      "    Default: 30\r\n",
      "    Choices: (0, 10, 20, 30, 40, 50, 'DEBUG', 'INFO', 'WARN', 'ERROR', 'CRITICAL')\r\n",
      "    Set the log level by value or name.\r\n",
      "--config=<Unicode> (JupyterApp.config_file)\r\n",
      "    Default: ''\r\n",
      "    Full path of a config file.\r\n",
      "--to=<Unicode> (NbConvertApp.export_format)\r\n",
      "    Default: 'html'\r\n",
      "    The export format to be used, either one of the built-in formats\r\n",
      "    ['asciidoc', 'custom', 'html', 'latex', 'markdown', 'notebook', 'pdf',\r\n",
      "    'python', 'rst', 'script', 'slides'] or a dotted object name that represents\r\n",
      "    the import path for an `Exporter` class\r\n",
      "--template=<Unicode> (TemplateExporter.template_file)\r\n",
      "    Default: ''\r\n",
      "    Name of the template file to use\r\n",
      "--writer=<DottedObjectName> (NbConvertApp.writer_class)\r\n",
      "    Default: 'FilesWriter'\r\n",
      "    Writer class used to write the  results of the conversion\r\n",
      "--post=<DottedOrNone> (NbConvertApp.postprocessor_class)\r\n",
      "    Default: ''\r\n",
      "    PostProcessor class used to write the results of the conversion\r\n",
      "--output=<Unicode> (NbConvertApp.output_base)\r\n",
      "    Default: ''\r\n",
      "    overwrite base name use for output files. can only be used when converting\r\n",
      "    one notebook at a time.\r\n",
      "--output-dir=<Unicode> (FilesWriter.build_directory)\r\n",
      "    Default: ''\r\n",
      "    Directory to write output(s) to. Defaults to output to the directory of each\r\n",
      "    notebook. To recover previous default behaviour (outputting to the current\r\n",
      "    working directory) use . as the flag value.\r\n",
      "--reveal-prefix=<Unicode> (SlidesExporter.reveal_url_prefix)\r\n",
      "    Default: ''\r\n",
      "    The URL prefix for reveal.js (version 3.x). This defaults to the reveal CDN,\r\n",
      "    but can be any url pointing to a copy  of reveal.js.\r\n",
      "    For speaker notes to work, this must be a relative path to a local  copy of\r\n",
      "    reveal.js: e.g., \"reveal.js\".\r\n",
      "    If a relative path is given, it must be a subdirectory of the current\r\n",
      "    directory (from which the server is run).\r\n",
      "    See the usage documentation\r\n",
      "    (https://nbconvert.readthedocs.io/en/latest/usage.html#reveal-js-html-\r\n",
      "    slideshow) for more details.\r\n",
      "--nbformat=<Enum> (NotebookExporter.nbformat_version)\r\n",
      "    Default: 4\r\n",
      "    Choices: [1, 2, 3, 4]\r\n",
      "    The nbformat version to write. Use this to downgrade notebooks.\r\n",
      "\r\n",
      "To see all available configurables, use `--help-all`\r\n",
      "\r\n",
      "Examples\r\n",
      "--------\r\n",
      "\r\n",
      "    The simplest way to use nbconvert is\r\n",
      "    \r\n",
      "    > jupyter nbconvert mynotebook.ipynb\r\n",
      "    \r\n",
      "    which will convert mynotebook.ipynb to the default format (probably HTML).\r\n",
      "    \r\n",
      "    You can specify the export format with `--to`.\r\n",
      "    Options include ['asciidoc', 'custom', 'html', 'latex', 'markdown', 'notebook', 'pdf', 'python', 'rst', 'script', 'slides'].\r\n",
      "    \r\n",
      "    > jupyter nbconvert --to latex mynotebook.ipynb\r\n",
      "    \r\n",
      "    Both HTML and LaTeX support multiple output templates. LaTeX includes\r\n",
      "    'base', 'article' and 'report'.  HTML includes 'basic' and 'full'. You\r\n",
      "    can specify the flavor of the format used.\r\n",
      "    \r\n",
      "    > jupyter nbconvert --to html --template basic mynotebook.ipynb\r\n",
      "    \r\n",
      "    You can also pipe the output to stdout, rather than a file\r\n",
      "    \r\n",
      "    > jupyter nbconvert mynotebook.ipynb --stdout\r\n",
      "    \r\n",
      "    PDF is generated via latex\r\n",
      "    \r\n",
      "    > jupyter nbconvert mynotebook.ipynb --to pdf\r\n",
      "    \r\n",
      "    You can get (and serve) a Reveal.js-powered slideshow\r\n",
      "    \r\n",
      "    > jupyter nbconvert myslides.ipynb --to slides --post serve\r\n",
      "    \r\n",
      "    Multiple notebooks can be given at the command line in a couple of \r\n",
      "    different ways:\r\n",
      "    \r\n",
      "    > jupyter nbconvert notebook*.ipynb\r\n",
      "    > jupyter nbconvert notebook1.ipynb notebook2.ipynb\r\n",
      "    \r\n",
      "    or you can specify the notebooks list in a config file, containing::\r\n",
      "    \r\n",
      "        c.NbConvertApp.notebooks = [\"my_notebook.ipynb\"]\r\n",
      "    \r\n",
      "    > jupyter nbconvert --config mycfg.py\r\n",
      "\r\n"
     ]
    }
   ],
   "source": [
    "!jupyter nbconvert --to markdown {this_notebook} --output-dir=../_posts"
   ]
  }
 ],
 "metadata": {
  "kernelspec": {
   "display_name": "Python 3",
   "language": "python",
   "name": "python3"
  },
  "language_info": {
   "codemirror_mode": {
    "name": "ipython",
    "version": 3
   },
   "file_extension": ".py",
   "mimetype": "text/x-python",
   "name": "python",
   "nbconvert_exporter": "python",
   "pygments_lexer": "ipython3",
   "version": "3.6.10"
  }
 },
 "nbformat": 4,
 "nbformat_minor": 5
}
