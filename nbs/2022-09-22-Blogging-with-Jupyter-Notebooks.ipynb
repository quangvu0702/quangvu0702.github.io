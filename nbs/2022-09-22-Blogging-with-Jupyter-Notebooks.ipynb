{
 "cells": [
  {
   "cell_type": "markdown",
   "id": "49e19edd",
   "metadata": {},
   "source": [
    "# Blogging-with-Jupyter-Notebooks"
   ]
  },
  {
   "cell_type": "markdown",
   "id": "c153778c",
   "metadata": {},
   "source": [
    "I write this article and convert it to markdown file using nbconvert."
   ]
  },
  {
   "cell_type": "code",
   "execution_count": 5,
   "id": "a56e74cf",
   "metadata": {},
   "outputs": [
    {
     "name": "stdout",
     "output_type": "stream",
     "text": [
      "[NbConvertApp] Converting notebook 2022-09-21-Blogging-with-Jupyter-Notebooks.ipynb to markdown\r\n",
      "[NbConvertApp] Writing 9249 bytes to ../_posts/2022-09-21-Blogging-with-Jupyter-Notebooks.md\r\n"
     ]
    }
   ],
   "source": [
    "!jupyter nbconvert --to markdown 2022-09-22-Blogging-with-Jupyter-Notebooks.ipynb --output-dir=../_posts"
   ]
  },
  {
   "cell_type": "code",
   "execution_count": null,
   "id": "596ae1cf",
   "metadata": {},
   "outputs": [],
   "source": []
  }
 ],
 "metadata": {
  "kernelspec": {
   "display_name": "Python 3 (ipykernel)",
   "language": "python",
   "name": "python3"
  },
  "language_info": {
   "codemirror_mode": {
    "name": "ipython",
    "version": 3
   },
   "file_extension": ".py",
   "mimetype": "text/x-python",
   "name": "python",
   "nbconvert_exporter": "python",
   "pygments_lexer": "ipython3",
   "version": "3.8.12"
  }
 },
 "nbformat": 4,
 "nbformat_minor": 5
}
