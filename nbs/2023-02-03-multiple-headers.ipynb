{
 "cells": [
  {
   "cell_type": "markdown",
   "id": "49e19edd",
   "metadata": {},
   "source": [
    "# Multiple headers"
   ]
  },
  {
   "cell_type": "code",
   "execution_count": 87,
   "id": "9744f842",
   "metadata": {},
   "outputs": [],
   "source": [
    "# version 1: for and concat\n",
    "import torch\n",
    "\n",
    "torch.manual_seed(123)\n",
    "\n",
    "B, T, C = 2, 4, 8 # batch, time, channel\n",
    "q = torch.randn((B, T, C)) # B, T, C\n",
    "\n",
    "k = torch.randn((B, T, C))\n",
    "\n",
    "v = torch.randn((B, T, C))\n",
    "\n",
    "def head(q, k, v):\n",
    "    att = (q @ k.transpose(-2, -1)) / C**0.5 # B, T, T\n",
    "    tril = torch.tril(torch.ones(T, T)) # T, T\n",
    "    att = att.masked_fill(tril == 0, float('-inf')) # B, T, T\n",
    "    att = torch.softmax(att, dim=-1) # B, T, T\n",
    "\n",
    "    out = att @ v # B, T, C\n",
    "    return out\n",
    "\n",
    "out = head(q, k, v) # B, T, C"
   ]
  },
  {
   "cell_type": "code",
   "execution_count": 77,
   "id": "9fb4e408",
   "metadata": {},
   "outputs": [
    {
     "data": {
      "text/plain": [
       "tensor([[-0.2582, -2.0407, -0.8016, -0.8183, -1.1820, -0.2877, -0.6043,  0.6002],\n",
       "        [-1.4053, -0.5922, -0.2548,  1.1517, -0.0179,  0.4264, -0.7657, -0.0545],\n",
       "        [-1.2743,  0.4513, -0.2280,  0.9224,  0.2056, -0.4970,  0.5821,  0.2053],\n",
       "        [-0.3018, -0.6703, -0.6171, -0.8334,  0.4839, -0.1349,  0.2119, -0.8714]])"
      ]
     },
     "execution_count": 77,
     "metadata": {},
     "output_type": "execute_result"
    }
   ],
   "source": [
    "v[0]"
   ]
  },
  {
   "cell_type": "code",
   "execution_count": 78,
   "id": "0e2e1056",
   "metadata": {},
   "outputs": [
    {
     "data": {
      "text/plain": [
       "tensor([[-0.2582, -2.0407, -0.8016, -0.8183, -1.1820, -0.2877, -0.6043,  0.6002],\n",
       "        [-0.5085, -1.7247, -0.6823, -0.3885, -0.9280, -0.1319, -0.6395,  0.4574],\n",
       "        [-1.2056, -0.2033, -0.3026,  0.8066, -0.0315, -0.1442, -0.0328,  0.1576],\n",
       "        [-0.8482, -0.1931, -0.4107,  0.1548,  0.2657, -0.2460,  0.2601, -0.2675]])"
      ]
     },
     "execution_count": 78,
     "metadata": {},
     "output_type": "execute_result"
    }
   ],
   "source": [
    "out[0]"
   ]
  },
  {
   "cell_type": "code",
   "execution_count": 79,
   "id": "d13ca71e",
   "metadata": {},
   "outputs": [
    {
     "data": {
      "text/plain": [
       "tensor([[1.0000, 0.0000, 0.0000, 0.0000],\n",
       "        [0.7818, 0.2182, 0.0000, 0.0000],\n",
       "        [0.1135, 0.3563, 0.5302, 0.0000],\n",
       "        [0.0258, 0.0995, 0.4501, 0.4246]])"
      ]
     },
     "execution_count": 79,
     "metadata": {},
     "output_type": "execute_result"
    }
   ],
   "source": [
    "att[0]"
   ]
  },
  {
   "cell_type": "code",
   "execution_count": 80,
   "id": "8eda7b95",
   "metadata": {},
   "outputs": [
    {
     "data": {
      "text/plain": [
       "True"
      ]
     },
     "execution_count": 80,
     "metadata": {},
     "output_type": "execute_result"
    }
   ],
   "source": [
    "torch.allclose(v[0][0], out[0][0])"
   ]
  },
  {
   "cell_type": "code",
   "execution_count": 81,
   "id": "eb554e18",
   "metadata": {},
   "outputs": [
    {
     "data": {
      "text/plain": [
       "True"
      ]
     },
     "execution_count": 81,
     "metadata": {},
     "output_type": "execute_result"
    }
   ],
   "source": [
    "torch.allclose(0.7818 * v[0][0] + 0.2182 * v[0][1], out[0][1], atol=1e-02)"
   ]
  },
  {
   "cell_type": "code",
   "execution_count": 94,
   "id": "8c2744f1",
   "metadata": {},
   "outputs": [],
   "source": [
    "q1, q2 = torch.randn((B, T, C)), torch.randn((B, T, C)) # B, T, C\n",
    "\n",
    "k1, k2 = torch.randn((B, T, C)), torch.randn((B, T, C))\n",
    "\n",
    "v1, v2 = torch.randn((B, T, C)), torch.randn((B, T, C))\n",
    "\n",
    "head1 = head(q1, k1, v1) # B, T, C\n",
    "head2 = head(q2, k2, v2) # B, T, C\n",
    "\n",
    "heads = torch.cat([head1, head2], -1) # B, T, 2*C"
   ]
  },
  {
   "cell_type": "code",
   "execution_count": 101,
   "id": "c22dfe46",
   "metadata": {},
   "outputs": [
    {
     "data": {
      "text/plain": [
       "(True, True)"
      ]
     },
     "execution_count": 101,
     "metadata": {},
     "output_type": "execute_result"
    }
   ],
   "source": [
    "torch.allclose(head1, heads[:, :, :C]), torch.allclose(head2, heads[:, :, C:])"
   ]
  },
  {
   "cell_type": "code",
   "execution_count": 109,
   "id": "35bba6f8",
   "metadata": {},
   "outputs": [],
   "source": [
    "# version 2 multiple\n",
    "a = torch.arange(B*T*C*2).view(2, B, T, C).float()\n",
    "b = torch.ones(2, B, T, C)"
   ]
  },
  {
   "cell_type": "code",
   "execution_count": 111,
   "id": "563b0257",
   "metadata": {},
   "outputs": [
    {
     "data": {
      "text/plain": [
       "torch.Size([2, 2, 4, 4])"
      ]
     },
     "execution_count": 111,
     "metadata": {},
     "output_type": "execute_result"
    }
   ],
   "source": [
    "c = a @ b.transpose(-1, -2) # 2, B, T, T\n"
   ]
  },
  {
   "cell_type": "markdown",
   "id": "79c06268",
   "metadata": {},
   "source": [
    "### Convert this file to md"
   ]
  },
  {
   "cell_type": "code",
   "execution_count": 2,
   "id": "b22ed51d",
   "metadata": {},
   "outputs": [],
   "source": [
    "from IPython.core.display import Javascript"
   ]
  },
  {
   "cell_type": "code",
   "execution_count": 3,
   "id": "862d5b3e",
   "metadata": {},
   "outputs": [
    {
     "data": {
      "application/javascript": [
       "IPython.notebook.kernel.execute('this_notebook = \"' + IPython.notebook.notebook_name + '\"')\n"
      ],
      "text/plain": [
       "<IPython.core.display.Javascript object>"
      ]
     },
     "metadata": {},
     "output_type": "display_data"
    }
   ],
   "source": [
    "%%js\n",
    "IPython.notebook.kernel.execute('this_notebook = \"' + IPython.notebook.notebook_name + '\"')"
   ]
  },
  {
   "cell_type": "code",
   "execution_count": 3,
   "id": "ade82929",
   "metadata": {},
   "outputs": [
    {
     "data": {
      "text/plain": [
       "'2022-09-22-blogging-with-jupyter-notebooks.ipynb'"
      ]
     },
     "execution_count": 3,
     "metadata": {},
     "output_type": "execute_result"
    }
   ],
   "source": [
    "this_notebook"
   ]
  },
  {
   "cell_type": "code",
   "execution_count": 4,
   "id": "af83fddd",
   "metadata": {},
   "outputs": [
    {
     "name": "stdout",
     "output_type": "stream",
     "text": [
      "[NbConvertApp] Converting notebook 2022-09-22-blogging-with-jupyter-notebooks.ipynb to markdown\r\n",
      "[NbConvertApp] Writing 725 bytes to ../_posts/2022-09-22-blogging-with-jupyter-notebooks.md\r\n"
     ]
    }
   ],
   "source": [
    "!jupyter nbconvert --to markdown {this_notebook} --output-dir=../_posts"
   ]
  }
 ],
 "metadata": {
  "kernelspec": {
   "display_name": "Python 3 (ipykernel)",
   "language": "python",
   "name": "python3"
  },
  "language_info": {
   "codemirror_mode": {
    "name": "ipython",
    "version": 3
   },
   "file_extension": ".py",
   "mimetype": "text/x-python",
   "name": "python",
   "nbconvert_exporter": "python",
   "pygments_lexer": "ipython3",
   "version": "3.8.12"
  }
 },
 "nbformat": 4,
 "nbformat_minor": 5
}
