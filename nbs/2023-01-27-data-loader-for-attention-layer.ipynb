{
 "cells": [
  {
   "cell_type": "markdown",
   "id": "49e19edd",
   "metadata": {},
   "source": [
    "# Review data and create data loader"
   ]
  },
  {
   "cell_type": "code",
   "execution_count": 1,
   "id": "dadd5c31",
   "metadata": {},
   "outputs": [],
   "source": [
    "# download data"
   ]
  },
  {
   "cell_type": "code",
   "execution_count": 2,
   "id": "43f3f736",
   "metadata": {},
   "outputs": [
    {
     "name": "stdout",
     "output_type": "stream",
     "text": [
      "--2023-01-27 16:31:23--  https://raw.githubusercontent.com/karpathy/char-rnn/master/data/tinyshakespeare/input.txt\n",
      "Resolving raw.githubusercontent.com (raw.githubusercontent.com)... 185.199.108.133, 185.199.109.133, 185.199.110.133, ...\n",
      "Connecting to raw.githubusercontent.com (raw.githubusercontent.com)|185.199.108.133|:443... connected.\n",
      "HTTP request sent, awaiting response... 200 OK\n",
      "Length: 1115394 (1.1M) [text/plain]\n",
      "Saving to: ‘input.txt’\n",
      "\n",
      "input.txt           100%[===================>]   1.06M  2.85MB/s    in 0.4s    \n",
      "\n",
      "2023-01-27 16:31:23 (2.85 MB/s) - ‘input.txt’ saved [1115394/1115394]\n",
      "\n"
     ]
    }
   ],
   "source": [
    "!wget https://raw.githubusercontent.com/karpathy/char-rnn/master/data/tinyshakespeare/input.txt"
   ]
  },
  {
   "cell_type": "code",
   "execution_count": 3,
   "id": "3a6ae9d2",
   "metadata": {},
   "outputs": [],
   "source": [
    "mv input.txt ../data/"
   ]
  },
  {
   "cell_type": "code",
   "execution_count": 4,
   "id": "cad0d319",
   "metadata": {},
   "outputs": [],
   "source": [
    "# read on review data"
   ]
  },
  {
   "cell_type": "code",
   "execution_count": 5,
   "id": "536ef964",
   "metadata": {},
   "outputs": [],
   "source": [
    "with open('../data/input.txt', 'r', encoding='utf-8') as f:\n",
    "    text = f.read()"
   ]
  },
  {
   "cell_type": "code",
   "execution_count": 6,
   "id": "c57afe71",
   "metadata": {},
   "outputs": [
    {
     "data": {
      "text/plain": [
       "'First Citizen:\\nBefore we proceed any further, hear me speak.\\n\\nAll:\\nSpeak, speak.\\n\\nFirst Citizen:\\nYou are all resolved rather to die than to famish?\\n\\nAll:\\nResolved. resolved.\\n\\nFirst Citizen:\\nFirst, you'"
      ]
     },
     "execution_count": 6,
     "metadata": {},
     "output_type": "execute_result"
    }
   ],
   "source": [
    "text[0:200]"
   ]
  },
  {
   "cell_type": "code",
   "execution_count": 7,
   "id": "074ea7b5",
   "metadata": {},
   "outputs": [
    {
     "name": "stdout",
     "output_type": "stream",
     "text": [
      "First Citizen:\n",
      "Before we proceed any further, hear me speak.\n",
      "\n",
      "All:\n",
      "Speak, speak.\n",
      "\n",
      "First Citizen:\n",
      "You are all resolved rather to die than to famish?\n",
      "\n",
      "All:\n",
      "Resolved. resolved.\n",
      "\n",
      "First Citizen:\n",
      "First, you\n"
     ]
    }
   ],
   "source": [
    "print(text[0:200])"
   ]
  },
  {
   "cell_type": "code",
   "execution_count": 8,
   "id": "5fa11ea0",
   "metadata": {},
   "outputs": [
    {
     "name": "stdout",
     "output_type": "stream",
     "text": [
      "\n",
      " !$&',-.3:;?ABCDEFGHIJKLMNOPQRSTUVWXYZabcdefghijklmnopqrstuvwxyz\n",
      "65\n"
     ]
    }
   ],
   "source": [
    "# Here is all unique character that occur in this text\n",
    "chars = sorted(list(set(text)))\n",
    "vocab_size = len(chars)\n",
    "\n",
    "print(''.join(chars))\n",
    "print(vocab_size)"
   ]
  },
  {
   "cell_type": "code",
   "execution_count": 9,
   "id": "b01bc971",
   "metadata": {
    "scrolled": true
   },
   "outputs": [
    {
     "name": "stdout",
     "output_type": "stream",
     "text": [
      "[46, 47, 1, 58, 46, 43, 56, 43]\n",
      "hi there\n"
     ]
    }
   ],
   "source": [
    "# create a mapping from characters to integers\n",
    "ctoi = {c: i for i, c in enumerate(chars)}\n",
    "itoc = {i: c for i, c in enumerate(chars)}\n",
    "\n",
    "encode = lambda s: [ctoi[c] for c in s]\n",
    "decode = lambda l: ''.join([itoc[i] for i in l])\n",
    "\n",
    "print(encode(\"hi there\"))\n",
    "\n",
    "print(decode(encode(\"hi there\")))"
   ]
  },
  {
   "cell_type": "code",
   "execution_count": 10,
   "id": "8efeb213",
   "metadata": {},
   "outputs": [
    {
     "name": "stdout",
     "output_type": "stream",
     "text": [
      "torch.Size([1115394]) torch.int64\n"
     ]
    },
    {
     "data": {
      "text/plain": [
       "tensor([18, 47, 56, 57, 58,  1, 15, 47, 58, 47, 64, 43, 52, 10,  0, 14, 43, 44,\n",
       "        53, 56, 43,  1, 61, 43,  1, 54, 56, 53, 41, 43, 43, 42,  1, 39, 52, 63,\n",
       "         1, 44, 59, 56, 58, 46, 43, 56,  6,  1, 46, 43, 39, 56,  1, 51, 43,  1,\n",
       "        57, 54, 43, 39, 49,  8,  0,  0, 13, 50, 50, 10,  0, 31, 54, 43, 39, 49,\n",
       "         6,  1, 57, 54, 43, 39, 49,  8,  0,  0, 18, 47, 56, 57, 58,  1, 15, 47,\n",
       "        58, 47, 64, 43, 52, 10,  0, 37, 53, 59])"
      ]
     },
     "execution_count": 10,
     "metadata": {},
     "output_type": "execute_result"
    }
   ],
   "source": [
    "# Let now encode the entire text dataset and store it into torch.Tensor\n",
    "import torch\n",
    "\n",
    "data = torch.tensor(encode(text), dtype=torch.long)\n",
    "print(data.shape, data.dtype)\n",
    "\n",
    "data[0:100]"
   ]
  },
  {
   "cell_type": "code",
   "execution_count": 11,
   "id": "9ba42533",
   "metadata": {},
   "outputs": [
    {
     "data": {
      "text/plain": [
       "(1003855, 111539)"
      ]
     },
     "execution_count": 11,
     "metadata": {},
     "output_type": "execute_result"
    }
   ],
   "source": [
    "# Let's now split up the data into train set and validation set\n",
    "n = round(len(data) * 0.9);\n",
    "train_data = data[:n]\n",
    "val_data   = data[n:]\n",
    "len(train_data), len(val_data)"
   ]
  },
  {
   "cell_type": "code",
   "execution_count": 12,
   "id": "e3a12889",
   "metadata": {},
   "outputs": [
    {
     "data": {
      "text/plain": [
       "tensor([18, 47, 56, 57, 58,  1, 15, 47])"
      ]
     },
     "execution_count": 12,
     "metadata": {},
     "output_type": "execute_result"
    }
   ],
   "source": [
    "block_size = 8\n",
    "train_data[:block_size]"
   ]
  },
  {
   "cell_type": "code",
   "execution_count": 13,
   "id": "bd876f18",
   "metadata": {},
   "outputs": [
    {
     "name": "stdout",
     "output_type": "stream",
     "text": [
      "when context is tensor([18]) the target: 47.\n",
      "when context is tensor([18, 47]) the target: 56.\n",
      "when context is tensor([18, 47, 56]) the target: 57.\n",
      "when context is tensor([18, 47, 56, 57]) the target: 58.\n",
      "when context is tensor([18, 47, 56, 57, 58]) the target: 1.\n",
      "when context is tensor([18, 47, 56, 57, 58,  1]) the target: 15.\n",
      "when context is tensor([18, 47, 56, 57, 58,  1, 15]) the target: 47.\n",
      "when context is tensor([18, 47, 56, 57, 58,  1, 15, 47]) the target: 58.\n"
     ]
    }
   ],
   "source": [
    "x = train_data[:block_size]\n",
    "y = train_data[1:block_size + 1]\n",
    "\n",
    "for i in range(block_size):\n",
    "    context = x[:i+1]\n",
    "    target = y[i]\n",
    "    print(f\"when context is {context} the target: {target}.\")"
   ]
  },
  {
   "cell_type": "code",
   "execution_count": 14,
   "id": "edf62462",
   "metadata": {},
   "outputs": [
    {
     "name": "stdout",
     "output_type": "stream",
     "text": [
      "tensor([[56,  6,  0, 24, 43, 58,  1, 61],\n",
      "        [39, 47, 51,  1, 58, 46, 39, 58],\n",
      "        [52, 45,  1, 58, 53,  1, 57, 39],\n",
      "        [43, 47, 52, 45,  1, 46, 53, 50]])\n",
      "tensor([[ 6,  0, 24, 43, 58,  1, 61, 46],\n",
      "        [47, 51,  1, 58, 46, 39, 58,  1],\n",
      "        [45,  1, 58, 53,  1, 57, 39, 63],\n",
      "        [47, 52, 45,  1, 46, 53, 50, 47]])\n",
      "when context is tensor([56]) the target: 6.\n",
      "when context is tensor([56,  6]) the target: 0.\n",
      "when context is tensor([56,  6,  0]) the target: 24.\n",
      "when context is tensor([56,  6,  0, 24]) the target: 43.\n",
      "when context is tensor([56,  6,  0, 24, 43]) the target: 58.\n",
      "when context is tensor([56,  6,  0, 24, 43, 58]) the target: 1.\n",
      "when context is tensor([56,  6,  0, 24, 43, 58,  1]) the target: 61.\n",
      "when context is tensor([56,  6,  0, 24, 43, 58,  1, 61]) the target: 46.\n",
      "when context is tensor([39]) the target: 47.\n",
      "when context is tensor([39, 47]) the target: 51.\n",
      "when context is tensor([39, 47, 51]) the target: 1.\n",
      "when context is tensor([39, 47, 51,  1]) the target: 58.\n",
      "when context is tensor([39, 47, 51,  1, 58]) the target: 46.\n",
      "when context is tensor([39, 47, 51,  1, 58, 46]) the target: 39.\n",
      "when context is tensor([39, 47, 51,  1, 58, 46, 39]) the target: 58.\n",
      "when context is tensor([39, 47, 51,  1, 58, 46, 39, 58]) the target: 1.\n",
      "when context is tensor([52]) the target: 45.\n",
      "when context is tensor([52, 45]) the target: 1.\n",
      "when context is tensor([52, 45,  1]) the target: 58.\n",
      "when context is tensor([52, 45,  1, 58]) the target: 53.\n",
      "when context is tensor([52, 45,  1, 58, 53]) the target: 1.\n",
      "when context is tensor([52, 45,  1, 58, 53,  1]) the target: 57.\n",
      "when context is tensor([52, 45,  1, 58, 53,  1, 57]) the target: 39.\n",
      "when context is tensor([52, 45,  1, 58, 53,  1, 57, 39]) the target: 63.\n",
      "when context is tensor([43]) the target: 47.\n",
      "when context is tensor([43, 47]) the target: 52.\n",
      "when context is tensor([43, 47, 52]) the target: 45.\n",
      "when context is tensor([43, 47, 52, 45]) the target: 1.\n",
      "when context is tensor([43, 47, 52, 45,  1]) the target: 46.\n",
      "when context is tensor([43, 47, 52, 45,  1, 46]) the target: 53.\n",
      "when context is tensor([43, 47, 52, 45,  1, 46, 53]) the target: 50.\n",
      "when context is tensor([43, 47, 52, 45,  1, 46, 53, 50]) the target: 47.\n"
     ]
    }
   ],
   "source": [
    "torch.manual_seed(1337)\n",
    "\n",
    "batch_size = 4\n",
    "block_size = 8\n",
    "\n",
    "def get_batch(split='train'):\n",
    "    data = train_data if split == 'train' else val_data\n",
    "    ix = torch.randint(len(train_data) - block_size, (batch_size, ))\n",
    "    xb = torch.stack([train_data[i:i+block_size] for i in ix])\n",
    "    yb = torch.stack([train_data[i+1:i+1+block_size] for i in ix])\n",
    "    return xb, yb\n",
    "\n",
    "xb, yb = get_batch()\n",
    "print(xb)\n",
    "print(yb)\n",
    "for b in range(batch_size):\n",
    "    for i in range(block_size):\n",
    "        x = xb[b,:i+1]\n",
    "        y = yb[b,i]\n",
    "        print(f\"when context is {x} the target: {y}.\")"
   ]
  },
  {
   "cell_type": "code",
   "execution_count": 15,
   "id": "da7f49fb",
   "metadata": {},
   "outputs": [
    {
     "name": "stdout",
     "output_type": "stream",
     "text": [
      "tensor([[56,  6,  0, 24, 43, 58,  1, 61],\n",
      "        [39, 47, 51,  1, 58, 46, 39, 58],\n",
      "        [52, 45,  1, 58, 53,  1, 57, 39],\n",
      "        [43, 47, 52, 45,  1, 46, 53, 50]])\n"
     ]
    }
   ],
   "source": [
    "print(xb) # input to our transformer"
   ]
  },
  {
   "cell_type": "code",
   "execution_count": 16,
   "id": "31e4c6f2",
   "metadata": {},
   "outputs": [
    {
     "name": "stdout",
     "output_type": "stream",
     "text": [
      "tensor(4.6437, grad_fn=<NllLossBackward0>)\n"
     ]
    }
   ],
   "source": [
    "import torch\n",
    "import torch.nn as nn\n",
    "import torch.nn.functional as F\n",
    "\n",
    "torch.manual_seed(1337)\n",
    "\n",
    "# bigram language model\n",
    "class BigramLanguageModel(nn.Module):\n",
    "    def __init__(self, vocab_size):\n",
    "        super().__init__()\n",
    "        self.token_embedding_table = nn.Embedding(vocab_size, vocab_size)\n",
    "        \n",
    "    def forward(self, idx, targets=None):\n",
    "        logits = self.token_embedding_table(idx)\n",
    "        if targets is not None:\n",
    "            B, T, C = logits.shape\n",
    "            logits = logits.view(B*T, C)\n",
    "            targets = targets.view(B*T)\n",
    "            loss = F.cross_entropy(logits, targets)\n",
    "        else:\n",
    "            loss = None\n",
    "        return loss, logits\n",
    "\n",
    "    @torch.no_grad()\n",
    "    def generate(self, idx, max_new_token):\n",
    "        for i in range(max_new_token):\n",
    "            loss, logits = model(idx[-block_size:])\n",
    "            logits = logits[:, -1,:]\n",
    "            probs = F.softmax(logits, -1)\n",
    "            next_idx = torch.multinomial(probs, 1)\n",
    "            idx = torch.cat([idx, next_idx], 1)\n",
    "        return idx\n",
    "\n",
    "model = BigramLanguageModel(vocab_size)\n",
    "loss, logits = model(xb, yb)\n",
    "print(loss)"
   ]
  },
  {
   "cell_type": "code",
   "execution_count": 17,
   "id": "6833313b",
   "metadata": {},
   "outputs": [
    {
     "name": "stdout",
     "output_type": "stream",
     "text": [
      "\n",
      "SKIcLT;AcELMoTbvZv C?nq-QE33:CJqkOKH-q;:la!oiywkHjgChzbQ?u!3bLIgwevmyFJGUGp\n",
      "wnYWmnxKWWev-tDqXErVKLgJt-wBpm&yiltNCjeO3:Cx&vvMYW-txjuAd IRFbTpJ$zkZelxZtTlHNzdXXUiQQY:qFINTOBNLI,&oTigq z.c:Cq,SDXzetn3XVjX-YBcHAUhk&PHdhcOb\n",
      "nhJ?FJU?pRiOLQeUN!BxjPLiq-GJdUV'hsnla!murI!IM?SPNPq?VgC'R\n",
      "pD3cLv-bxn-tL!upg\n",
      "SZ!Uvdg CtxtT?hsiW:XxKIiPlagHIsr'zKSVxza?GlDWObPmRJgrIAcmspmZ&viCKot:u3qYXA:rZgv f:3Q-oiwUzqh'Z!I'zRS3SP rVchSFUIdd q?sPJpUdhMCK$VXXevXJFMl,i\n",
      "YxA:gWId,EXR,iMC,$?srV$VztRwb?KpgUWFjR$zChOLm;JrDnDph\n",
      "LBj,KZxJaLPgBAkyzEzSiiQb\n",
      "jkSVyb$vvyQFuAUAKuzdZAJktRqUiAcPBa;AgJ;.$l3Pu!.IErMfN!PmuQbvx\n",
      "xMkttN:PmJh'wNC\n",
      "AUI?wNCphq-.IsCwbjxca;P-KA:r'a;pJ&q-UgOEX.cAO-p,lQ?nEsrlvmUgbEQLQh,j;iPlgZR:CJpxIBju f&!BBEHSPmnq,P -d\n",
      "pjuWDPLFa!ByCSjJuERtKpph.ZP  CUEsiy'FjF$$-rJUQ?uApxlxlYe\n",
      "yASBoipGLwfXelgY!a fyFPJX!JDWCoAXRJJFJOlxlvpR?OXYddZAXzkIBtp3d,vAcPlgX'pM fNMLphx&flaAcL!3F.?sBiRwLTqHzot.ttRF$Fv'bL:&x&ayFVqVAHqHxv3QzteqbcUJnERZYGwzLd,rgf&yCnERErI.IVZ WddEJAX CO'Eu!I!Lg:i-$ mIc.\n",
      "xJjdLEJXVTb?Eqf IgCJcUGNSBZ3dbsEXgCPmr'XxxDXXxEt\n"
     ]
    }
   ],
   "source": [
    "sent = model.generate(idx=torch.zeros((1,1), dtype=torch.long), max_new_token=1000)\n",
    "print(decode(sent[0].tolist()))"
   ]
  },
  {
   "cell_type": "code",
   "execution_count": 18,
   "id": "09d46b72",
   "metadata": {},
   "outputs": [],
   "source": [
    "# create pytorch optimizer\n",
    "from torch.optim import AdamW\n",
    "import numpy as np\n",
    "\n",
    "\n",
    "optimizer = AdamW(model.parameters())"
   ]
  },
  {
   "cell_type": "code",
   "execution_count": 20,
   "id": "cb47d9bd",
   "metadata": {},
   "outputs": [
    {
     "name": "stdout",
     "output_type": "stream",
     "text": [
      "\n",
      "At g ksentheateshanemowispacthe\n",
      "O: us,\n",
      "\n",
      "WANGournodofs.\n",
      "Prillvee.\n",
      "FONGous d ve whe,\n",
      "An.\n",
      "CKI the y niff dy!\n",
      "Whitariravif litourso om\n",
      "\n",
      "Dulidakemereeliny y,\n",
      "\n",
      "CUSpthe mpu;\n",
      "te, in,\n",
      "Fieserin t tho bulla dang BRWhith's ensat is hourt be DYe; nore Bod forse, ur, bothave ge.\n",
      "pore to oitim'lces:\n",
      "\n",
      "RD t ore athempsie f upecelise hassh s!UCon ad faler iceale wain athig ta hod kne:\n",
      "TENDWend tein ly omy Dundis, rinthalld athakingans; IO mingeserd nther on teqMar! st ms my w your y ficorop-may:\n",
      "ARalt y nooun ast\n"
     ]
    },
    {
     "data": {
      "image/png": "[encoded data removed]",
      "text/plain": [
       "<Figure size 640x480 with 1 Axes>"
      ]
     },
     "metadata": {},
     "output_type": "display_data"
    }
   ],
   "source": [
    "# do optimize\n",
    "def train(n_iter=10000):\n",
    "    batch_size = 32\n",
    "    losses = []\n",
    "    for _ in range(n_iter):\n",
    "        xb, yb = get_batch()\n",
    "        loss, logits = model(xb, yb)\n",
    "        losses.append(loss)\n",
    "        optimizer.zero_grad(set_to_none=True)\n",
    "        loss.backward()\n",
    "        optimizer.step()\n",
    "    return losses\n",
    "losses = train(n_iter=10000)\n",
    "from matplotlib import pyplot\n",
    "with torch.no_grad():\n",
    "    y = torch.tensor(losses).view(100, -1).mean(0)\n",
    "    pyplot.plot(range(len(y)), y)\n",
    "    \n",
    "sent = model.generate(idx=torch.zeros((1,1), dtype=torch.long), max_new_token=500)\n",
    "print(decode(sent[0].tolist()))"
   ]
  },
  {
   "cell_type": "code",
   "execution_count": 21,
   "id": "bf45a6aa",
   "metadata": {},
   "outputs": [
    {
     "name": "stdout",
     "output_type": "stream",
     "text": [
      "\n",
      "Whart lind yof Iniloucisas ndor:\n",
      "Thal pe's, pe t chthay arvande; vos ous panue ad inghndl ang:\n",
      "che wag gind t-llse?\n",
      "Het cilly's hat hn jof CARWhe bithas che p fe: wenghanbyam sy fthenlme be,\n",
      "Tut ordesssithe athethink.\n",
      "cepurevor min.\n",
      "Holit: bor INoyorhe;\n",
      "TEETha y,\n",
      "D ICI thed\n",
      "SHMENond thorerd tstron th focke' s ched couno he acethod fo ty whemis floueftitho chald ikin'dind; we athithoundre intarchyecarin,\n",
      "\n",
      "INIComy, s t, akiaucouronowore ISe'l!\n",
      "METEE:\n",
      "TE: Wandll naganithil yes, meayoe f tory iveth \n"
     ]
    },
    {
     "data": {
      "image/png": "[encoded data removed]",
      "text/plain": [
       "<Figure size 640x480 with 1 Axes>"
      ]
     },
     "metadata": {},
     "output_type": "display_data"
    }
   ],
   "source": [
    "losses = train(n_iter=10000)\n",
    "from matplotlib import pyplot\n",
    "with torch.no_grad():\n",
    "    y = torch.tensor(losses).view(100, -1).mean(0)\n",
    "    pyplot.plot(range(len(y)), y)\n",
    "    \n",
    "sent = model.generate(idx=torch.zeros((1,1), dtype=torch.long), max_new_token=500)\n",
    "print(decode(sent[0].tolist()))"
   ]
  },
  {
   "cell_type": "markdown",
   "id": "79c06268",
   "metadata": {},
   "source": [
    "### Convert this file to md"
   ]
  },
  {
   "cell_type": "code",
   "execution_count": 22,
   "id": "b22ed51d",
   "metadata": {},
   "outputs": [],
   "source": [
    "from IPython.core.display import Javascript"
   ]
  },
  {
   "cell_type": "code",
   "execution_count": 23,
   "id": "862d5b3e",
   "metadata": {},
   "outputs": [
    {
     "data": {
      "application/javascript": [
       "IPython.notebook.kernel.execute('this_notebook = \"' + IPython.notebook.notebook_name + '\"')\n"
      ],
      "text/plain": [
       "<IPython.core.display.Javascript object>"
      ]
     },
     "metadata": {},
     "output_type": "display_data"
    }
   ],
   "source": [
    "%%js\n",
    "IPython.notebook.kernel.execute('this_notebook = \"' + IPython.notebook.notebook_name + '\"')"
   ]
  },
  {
   "cell_type": "code",
   "execution_count": 24,
   "id": "ade82929",
   "metadata": {},
   "outputs": [
    {
     "data": {
      "text/plain": [
       "'2023-01-27-data-loader-for-attention-layer.ipynb'"
      ]
     },
     "execution_count": 24,
     "metadata": {},
     "output_type": "execute_result"
    }
   ],
   "source": [
    "this_notebook"
   ]
  },
  {
   "cell_type": "code",
   "execution_count": 25,
   "id": "af83fddd",
   "metadata": {},
   "outputs": [
    {
     "name": "stdout",
     "output_type": "stream",
     "text": [
      "[NbConvertApp] Converting notebook 2023-01-27-data-loader-for-attention-layer.ipynb to markdown\n",
      "[NbConvertApp] Writing 11339 bytes to ../_posts/2023-01-27-data-loader-for-attention-layer.md\n"
     ]
    }
   ],
   "source": [
    "!jupyter nbconvert --to markdown {this_notebook} --output-dir=../_posts"
   ]
  }
 ],
 "metadata": {
  "kernelspec": {
   "display_name": "Python 3 (ipykernel)",
   "language": "python",
   "name": "python3"
  },
  "language_info": {
   "codemirror_mode": {
    "name": "ipython",
    "version": 3
   },
   "file_extension": ".py",
   "mimetype": "text/x-python",
   "name": "python",
   "nbconvert_exporter": "python",
   "pygments_lexer": "ipython3",
   "version": "3.8.12"
  }
 },
 "nbformat": 4,
 "nbformat_minor": 5
}
