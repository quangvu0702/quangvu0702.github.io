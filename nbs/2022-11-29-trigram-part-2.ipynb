{
 "cells": [
  {
   "cell_type": "markdown",
   "id": "49e19edd",
   "metadata": {},
   "source": [
    "# Trigram model"
   ]
  },
  {
   "cell_type": "code",
   "execution_count": 1,
   "id": "ab4cd7e5",
   "metadata": {},
   "outputs": [],
   "source": [
    "# build training data set"
   ]
  },
  {
   "cell_type": "code",
   "execution_count": 2,
   "id": "9a5bbb27",
   "metadata": {},
   "outputs": [],
   "source": [
    "import torch\n",
    "import torch.nn.functional as F\n",
    "import random\n",
    "import matplotlib.pyplot as plt\n",
    "\n",
    "%matplotlib inline"
   ]
  },
  {
   "cell_type": "code",
   "execution_count": 3,
   "id": "f304d568",
   "metadata": {
    "scrolled": true
   },
   "outputs": [],
   "source": [
    "words = open('../data/names.txt', 'r').read().splitlines()\n",
    "vocabs = sorted(set(list(''.join(words)))) + ['.']\n",
    "itoc = dict(enumerate(vocabs))\n",
    "ctoi = {v:k for k,v in itoc.items()}\n",
    "itoc[0], ctoi['a']\n",
    "block_size = 3"
   ]
  },
  {
   "cell_type": "code",
   "execution_count": 4,
   "id": "3ed39ebe",
   "metadata": {},
   "outputs": [],
   "source": [
    "# build training data set\n",
    "def build_dataset(words):\n",
    "    random.shuffle(words)\n",
    "    X, Y = [], []\n",
    "    for w in words:\n",
    "        w = list(w) + ['.']\n",
    "        context = [ctoi['.']] * block_size\n",
    "        for y in w:\n",
    "            X.append(context)\n",
    "            Y.append(ctoi[y])\n",
    "            context = context[1: ] + [ctoi[y]]\n",
    "    X = torch.tensor(X)\n",
    "    Y = torch.tensor(Y)\n",
    "    return X, Y\n",
    "\n",
    "X, Y = build_dataset(words)\n",
    "n1 = int(X.shape[0] * 0.8) \n",
    "n2 = int(X.shape[0] * 0.9)\n",
    "Xtr, Ytr = X[:n1], Y[:n1]\n",
    "Xdev, Ydev = X[n1:n2], Y[n1:n2]\n",
    "Xtest, Ytest = X[n2:], Y[n2:]"
   ]
  },
  {
   "cell_type": "code",
   "execution_count": 5,
   "id": "a611df8a",
   "metadata": {},
   "outputs": [],
   "source": [
    "# implement lookup table"
   ]
  },
  {
   "cell_type": "code",
   "execution_count": 6,
   "id": "1644e8e0",
   "metadata": {},
   "outputs": [
    {
     "data": {
      "text/plain": [
       "12097"
      ]
     },
     "execution_count": 6,
     "metadata": {},
     "output_type": "execute_result"
    }
   ],
   "source": [
    "emb_dim = 10\n",
    "h_dim = 200\n",
    "n_word = len(vocabs) # 27\n",
    "\n",
    "lockup_table = torch.randn((n_word, emb_dim))\n",
    "\n",
    "W1 = torch.randn((emb_dim * block_size, h_dim)) * 5/3 / (emb_dim * block_size)**0.5\n",
    "shift_std = torch.ones((1, h_dim))\n",
    "shift_bias = torch.zeros((1, h_dim))\n",
    "out_dim = len(vocabs)\n",
    "W2 = torch.randn((h_dim, n_word)) / h_dim**0.5\n",
    "b2 = torch.randn(n_word) * 0\n",
    "\n",
    "running_std = torch.zeros((1, h_dim))\n",
    "running_mean = torch.zeros((1, h_dim))\n",
    "\n",
    "parameters = [lockup_table, W1, shift_std, shift_bias, W2, b2]\n",
    "for p in parameters: p.requires_grad = True\n",
    "sum([p.nelement() for p in parameters])"
   ]
  },
  {
   "cell_type": "code",
   "execution_count": 7,
   "id": "adf80463",
   "metadata": {},
   "outputs": [
    {
     "name": "stdout",
     "output_type": "stream",
     "text": [
      "0 3.395040512084961\n",
      "10000 2.1825714111328125\n",
      "20000 2.2117159366607666\n",
      "30000 2.196622371673584\n",
      "40000 2.097360849380493\n",
      "50000 2.0896904468536377\n",
      "60000 1.9860931634902954\n",
      "70000 1.7332866191864014\n",
      "80000 2.117436408996582\n",
      "90000 2.1771817207336426\n",
      "100000 2.3184654712677\n",
      "110000 2.6091866493225098\n",
      "120000 1.9380015134811401\n",
      "130000 2.1514837741851807\n",
      "140000 1.9906511306762695\n",
      "150000 2.2346701622009277\n",
      "160000 2.629927635192871\n",
      "170000 2.014700174331665\n",
      "180000 1.9123154878616333\n",
      "190000 2.270620584487915\n"
     ]
    }
   ],
   "source": [
    "max_steps = 200000\n",
    "batch_size = 32\n",
    "lossi = []\n",
    "\n",
    "for i in range(max_steps):\n",
    "    # forward\n",
    "    ix = torch.randint(0, Xtr.shape[0], (batch_size,))\n",
    "    emb = lockup_table[Xtr[ix]].view((-1, emb_dim * block_size))\n",
    "    hpreact = emb @ W1 # hidden layer pre-activated\n",
    "    mean_hpreact = hpreact.mean(dim=0, keepdim=True)\n",
    "    std_hpreact = hpreact.std(dim=0, keepdim=True)\n",
    "    bnorm_hpreact = shift_std * (hpreact - mean_hpreact) / std_hpreact + shift_bias\n",
    "    with torch.no_grad():\n",
    "        running_std = running_std * 0.99 + 0.01 * std_hpreact\n",
    "        running_mean = running_mean * 0.99 + 0.01 * mean_hpreact\n",
    "    h = torch.tanh(bnorm_hpreact)\n",
    "    logits = h @ W2 + b2\n",
    "    loss = F.cross_entropy(logits, Ytr[ix])\n",
    "    lossi.append(loss.log10().item())\n",
    "    # backward\n",
    "    for p in parameters: p.grad = None\n",
    "    loss.backward()\n",
    "    lr = 0.1 if i < (max_steps/2) else 0.01\n",
    "    for p in parameters: p.data += - lr * p.grad\n",
    "    #track stats\n",
    "    if i%10000==0:\n",
    "        print(i, loss.item())\n",
    "#     break"
   ]
  },
  {
   "cell_type": "code",
   "execution_count": 8,
   "id": "bb7a6a55",
   "metadata": {},
   "outputs": [
    {
     "name": "stdout",
     "output_type": "stream",
     "text": [
      "emb tensor(0.2563, grad_fn=<MeanBackward0>) tensor(0.9902, grad_fn=<StdBackward0>)\n",
      "W1 tensor(0.0010, grad_fn=<MeanBackward0>) tensor(0.4454, grad_fn=<StdBackward0>)\n",
      "emb @ W1 tensor(0.0594, grad_fn=<MeanBackward0>) tensor(2.4955, grad_fn=<StdBackward0>)\n",
      "h tensor(-0.0064, grad_fn=<MeanBackward0>) tensor(0.6747, grad_fn=<StdBackward0>)\n",
      "logits tensor(-0.0004, grad_fn=<MeanBackward0>) tensor(2.1218, grad_fn=<StdBackward0>)\n",
      "bnorm_hpreact tensor(-0.0085, grad_fn=<MeanBackward0>) tensor(1.3525, grad_fn=<StdBackward0>)\n"
     ]
    }
   ],
   "source": [
    "def stats(x, name=''): print(name, x.mean(), x.std())\n",
    "    \n",
    "stats(emb, 'emb')\n",
    "stats(W1, 'W1')\n",
    "stats(emb @ W1, 'emb @ W1')\n",
    "stats(h, 'h')\n",
    "stats(logits, 'logits')\n",
    "stats(bnorm_hpreact, 'bnorm_hpreact')"
   ]
  },
  {
   "cell_type": "code",
   "execution_count": 9,
   "id": "1fa4506a",
   "metadata": {},
   "outputs": [
    {
     "data": {
      "image/png": "[encoded data removed]",
      "text/plain": [
       "<Figure size 640x480 with 1 Axes>"
      ]
     },
     "metadata": {},
     "output_type": "display_data"
    }
   ],
   "source": [
    "# problem with tanh\n",
    "values = logits.view(-1).tolist()\n",
    "_ = plt.hist(values, 50)"
   ]
  },
  {
   "cell_type": "code",
   "execution_count": 10,
   "id": "a3b063e1",
   "metadata": {
    "scrolled": true
   },
   "outputs": [
    {
     "data": {
      "text/plain": [
       "<matplotlib.image.AxesImage at 0x7fd62415e880>"
      ]
     },
     "execution_count": 10,
     "metadata": {},
     "output_type": "execute_result"
    },
    {
     "data": {
      "image/png": "[encoded data removed]",
      "text/plain": [
       "<Figure size 640x480 with 1 Axes>"
      ]
     },
     "metadata": {},
     "output_type": "display_data"
    }
   ],
   "source": [
    "plt.imshow(logits.abs() > 0.99, cmap='gray', interpolation='nearest')"
   ]
  },
  {
   "cell_type": "code",
   "execution_count": 11,
   "id": "cab056e9",
   "metadata": {},
   "outputs": [
    {
     "name": "stdout",
     "output_type": "stream",
     "text": [
      "x tensor(-0.0208) tensor(1.0052)\n",
      "y tensor(-0.0177) tensor(3.1190)\n"
     ]
    }
   ],
   "source": [
    "# mean and var\n",
    "x = torch.randn((200, 10))\n",
    "w = torch.randn((10, 100))\n",
    "y = x@w\n",
    "stats(x, 'x')\n",
    "stats(y, 'y')"
   ]
  },
  {
   "cell_type": "code",
   "execution_count": 12,
   "id": "8bd13f7e",
   "metadata": {},
   "outputs": [
    {
     "data": {
      "text/plain": [
       "<matplotlib.image.AxesImage at 0x7fd6240d57c0>"
      ]
     },
     "execution_count": 12,
     "metadata": {},
     "output_type": "execute_result"
    },
    {
     "data": {
      "image/png": "[encoded data removed]",
      "text/plain": [
       "<Figure size 640x480 with 1 Axes>"
      ]
     },
     "metadata": {},
     "output_type": "display_data"
    }
   ],
   "source": [
    "plt.imshow(h.abs() > 0.99, cmap='gray', interpolation='nearest')"
   ]
  },
  {
   "cell_type": "code",
   "execution_count": 13,
   "id": "a9ade3d7",
   "metadata": {},
   "outputs": [
    {
     "name": "stdout",
     "output_type": "stream",
     "text": [
      "tensor([9.9974e-01, 8.1017e-08, 7.7448e-11, 2.6374e-04])\n"
     ]
    },
    {
     "data": {
      "text/plain": [
       "tensor(0.0003)"
      ]
     },
     "execution_count": 13,
     "metadata": {},
     "output_type": "execute_result"
    }
   ],
   "source": [
    "# high variance logit problem\n",
    "logits = torch.randn(4) * 10; logits\n",
    "probs = F.softmax(logits, 0); probs\n",
    "print(probs)\n",
    "-probs[0].log()"
   ]
  },
  {
   "cell_type": "code",
   "execution_count": 14,
   "id": "b6e99815",
   "metadata": {},
   "outputs": [
    {
     "data": {
      "text/plain": [
       "[<matplotlib.lines.Line2D at 0x7fd62403e400>]"
      ]
     },
     "execution_count": 14,
     "metadata": {},
     "output_type": "execute_result"
    },
    {
     "data": {
      "image/png": "[encoded data removed]",
      "text/plain": [
       "<Figure size 640x480 with 1 Axes>"
      ]
     },
     "metadata": {},
     "output_type": "display_data"
    }
   ],
   "source": [
    "plt.plot(range(max_steps), lossi)"
   ]
  },
  {
   "cell_type": "code",
   "execution_count": 15,
   "id": "3137f5d9",
   "metadata": {},
   "outputs": [
    {
     "name": "stdout",
     "output_type": "stream",
     "text": [
      "train 2.0687389373779297\n",
      "dev 2.1024153232574463\n"
     ]
    }
   ],
   "source": [
    "@torch.no_grad()\n",
    "def split_loss(split):\n",
    "    X, y = {\n",
    "        'train': (Xtr, Ytr),\n",
    "        'dev': (Xdev, Ydev),\n",
    "        'test': (Xtest, Ytest)\n",
    "    }[split]\n",
    "    emb = lockup_table[X].view((-1, emb_dim * block_size))\n",
    "    hpreact = emb @ W1\n",
    "    bnorm_hpreact = shift_std * (hpreact - running_mean) / running_std + shift_bias\n",
    "    h = torch.tanh(bnorm_hpreact)\n",
    "    out = h @ W2 + b2\n",
    "    loss = F.cross_entropy(out, y)\n",
    "    return loss.item()\n",
    "\n",
    "print('train', split_loss('train'))\n",
    "print('dev', split_loss('dev'))"
   ]
  },
  {
   "cell_type": "code",
   "execution_count": 16,
   "id": "298dc5bf",
   "metadata": {},
   "outputs": [],
   "source": [
    "# fix over-confident\n",
    "# train 2.114151954650879\n",
    "# dev 2.1656265258789062\n",
    "# fix init\n",
    "# train 2.038177013397217\n",
    "# dev 2.094085216522217\n",
    "# add batch norm\n",
    "# train 2.0689356327056885\n",
    "# dev 2.1144886016845703"
   ]
  },
  {
   "cell_type": "code",
   "execution_count": 17,
   "id": "bf9e0487",
   "metadata": {},
   "outputs": [
    {
     "name": "stdout",
     "output_type": "stream",
     "text": [
      "minai.\n",
      "tason.\n",
      "vivi.\n",
      "kayaous.\n",
      "nalynn.\n",
      "aque.\n",
      "kiya.\n",
      "mackelthienna.\n",
      "donna.\n",
      "jhirlynn.\n",
      "eli.\n",
      "shoanei.\n",
      "adali.\n",
      "rajonna.\n",
      "shonii.\n"
     ]
    }
   ],
   "source": [
    "# sample from model\n",
    "g = torch.Generator(device='cpu').manual_seed(2147483647)\n",
    "for _ in range(15):\n",
    "    chs = ['.'] * 3\n",
    "    while True:\n",
    "        x = [ctoi[c] for c in chs[-3:]]\n",
    "        emb = lockup_table[x].view((-1, emb_dim * block_size))\n",
    "        hpreact = emb @ W1\n",
    "        bnorm_hpreact = shift_std * (hpreact - running_mean) / running_std + shift_bias\n",
    "        h = torch.tanh(bnorm_hpreact)\n",
    "        logits = h @ W2 + b2\n",
    "        probs = torch.nn.functional.softmax(logits, 1)\n",
    "        i = torch.multinomial(probs, 1, replacement = True, generator=g).item()\n",
    "        chs.append(itoc[i])\n",
    "        if chs[-1] == '.':\n",
    "            print(''.join(chs[3:]))\n",
    "            break"
   ]
  },
  {
   "cell_type": "markdown",
   "id": "79c06268",
   "metadata": {},
   "source": [
    "### Convert this file to md"
   ]
  },
  {
   "cell_type": "code",
   "execution_count": 18,
   "id": "b22ed51d",
   "metadata": {},
   "outputs": [],
   "source": [
    "from IPython.core.display import Javascript"
   ]
  },
  {
   "cell_type": "code",
   "execution_count": 21,
   "id": "862d5b3e",
   "metadata": {},
   "outputs": [
    {
     "data": {
      "application/javascript": [
       "IPython.notebook.kernel.execute('this_notebook = \"' + IPython.notebook.notebook_name + '\"')\n"
      ],
      "text/plain": [
       "<IPython.core.display.Javascript object>"
      ]
     },
     "metadata": {},
     "output_type": "display_data"
    }
   ],
   "source": [
    "%%js\n",
    "IPython.notebook.kernel.execute('this_notebook = \"' + IPython.notebook.notebook_name + '\"')"
   ]
  },
  {
   "cell_type": "code",
   "execution_count": 22,
   "id": "ade82929",
   "metadata": {},
   "outputs": [
    {
     "data": {
      "text/plain": [
       "'2022-11-29-trigram-part-2.ipynb'"
      ]
     },
     "execution_count": 22,
     "metadata": {},
     "output_type": "execute_result"
    }
   ],
   "source": [
    "this_notebook"
   ]
  },
  {
   "cell_type": "code",
   "execution_count": 23,
   "id": "af83fddd",
   "metadata": {},
   "outputs": [
    {
     "name": "stdout",
     "output_type": "stream",
     "text": [
      "[NbConvertApp] Converting notebook 2022-11-29-trigram-part-2.ipynb to markdown\n",
      "[NbConvertApp] Writing 5476 bytes to ../_posts/2022-11-29-trigram-part-2.md\n"
     ]
    }
   ],
   "source": [
    "!jupyter nbconvert --to markdown {this_notebook} --output-dir=../_posts"
   ]
  }
 ],
 "metadata": {
  "kernelspec": {
   "display_name": "Python 3 (ipykernel)",
   "language": "python",
   "name": "python3"
  },
  "language_info": {
   "codemirror_mode": {
    "name": "ipython",
    "version": 3
   },
   "file_extension": ".py",
   "mimetype": "text/x-python",
   "name": "python",
   "nbconvert_exporter": "python",
   "pygments_lexer": "ipython3",
   "version": "3.8.12"
  }
 },
 "nbformat": 4,
 "nbformat_minor": 5
}
