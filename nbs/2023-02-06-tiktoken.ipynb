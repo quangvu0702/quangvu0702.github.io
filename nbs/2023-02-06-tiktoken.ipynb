{
 "cells": [
  {
   "cell_type": "markdown",
   "id": "49e19edd",
   "metadata": {},
   "source": [
    "# tiktoken"
   ]
  },
  {
   "cell_type": "code",
   "execution_count": 2,
   "id": "b2071b0c",
   "metadata": {},
   "outputs": [],
   "source": [
    "# pip install tiktoken"
   ]
  },
  {
   "cell_type": "code",
   "execution_count": 1,
   "id": "19c2b784",
   "metadata": {},
   "outputs": [],
   "source": [
    "import tiktoken"
   ]
  },
  {
   "cell_type": "code",
   "execution_count": 2,
   "id": "f3d2e49e",
   "metadata": {},
   "outputs": [],
   "source": [
    "encoding = tiktoken.get_encoding(\"gpt2\")"
   ]
  },
  {
   "cell_type": "code",
   "execution_count": 13,
   "id": "2f10de45",
   "metadata": {},
   "outputs": [],
   "source": [
    "ls1 = encoding.encode(\"tiktoken is great!\")"
   ]
  },
  {
   "cell_type": "code",
   "execution_count": 14,
   "id": "1182ba64",
   "metadata": {},
   "outputs": [
    {
     "data": {
      "text/plain": [
       "[b't', b'ik', b'token', b' is', b' great', b'!']"
      ]
     },
     "execution_count": 14,
     "metadata": {},
     "output_type": "execute_result"
    }
   ],
   "source": [
    "[encoding.decode_single_token_bytes(token) for token in ls1]"
   ]
  },
  {
   "cell_type": "code",
   "execution_count": 9,
   "id": "e6db58cd",
   "metadata": {},
   "outputs": [],
   "source": [
    "ls2 = encoding.encode(\"con cò mà đi ăn đêm!\")"
   ]
  },
  {
   "cell_type": "code",
   "execution_count": 10,
   "id": "e18cc92d",
   "metadata": {},
   "outputs": [
    {
     "data": {
      "text/plain": [
       "'con cò mà đi ăn đêm!'"
      ]
     },
     "execution_count": 10,
     "metadata": {},
     "output_type": "execute_result"
    }
   ],
   "source": [
    "encoding.decode(ls2)"
   ]
  },
  {
   "cell_type": "code",
   "execution_count": 11,
   "id": "38fcfa33",
   "metadata": {},
   "outputs": [
    {
     "data": {
      "text/plain": [
       "[b'con',\n",
       " b' c',\n",
       " b'\\xc3',\n",
       " b'\\xb2',\n",
       " b' m',\n",
       " b'\\xc3\\xa0',\n",
       " b' \\xc4',\n",
       " b'\\x91',\n",
       " b'i',\n",
       " b' \\xc4',\n",
       " b'\\x83',\n",
       " b'n',\n",
       " b' \\xc4',\n",
       " b'\\x91',\n",
       " b'\\xc3\\xaa',\n",
       " b'm',\n",
       " b'!']"
      ]
     },
     "execution_count": 11,
     "metadata": {},
     "output_type": "execute_result"
    }
   ],
   "source": [
    "[encoding.decode_single_token_bytes(token) for token in ls2]"
   ]
  },
  {
   "cell_type": "code",
   "execution_count": 18,
   "id": "59b6ee33",
   "metadata": {},
   "outputs": [],
   "source": [
    "ls3 = encoding.encode(\"お誕生日おめでとう\")"
   ]
  },
  {
   "cell_type": "code",
   "execution_count": 21,
   "id": "7ab6cf0f",
   "metadata": {},
   "outputs": [
    {
     "data": {
      "text/plain": [
       "[b'\\xe3\\x81',\n",
       " b'\\x8a',\n",
       " b'\\xe8\\xaa',\n",
       " b'\\x95',\n",
       " b'\\xe7\\x94\\x9f',\n",
       " b'\\xe6\\x97',\n",
       " b'\\xa5',\n",
       " b'\\xe3\\x81',\n",
       " b'\\x8a',\n",
       " b'\\xe3\\x82',\n",
       " b'\\x81',\n",
       " b'\\xe3\\x81\\xa7',\n",
       " b'\\xe3\\x81\\xa8',\n",
       " b'\\xe3\\x81\\x86']"
      ]
     },
     "execution_count": 21,
     "metadata": {},
     "output_type": "execute_result"
    }
   ],
   "source": [
    "[encoding.decode_single_token_bytes(token) for token in ls3]"
   ]
  },
  {
   "cell_type": "code",
   "execution_count": 22,
   "id": "248d24a1",
   "metadata": {},
   "outputs": [
    {
     "name": "stdout",
     "output_type": "stream",
     "text": [
      "b'\\xe3\\x81'\n"
     ]
    }
   ],
   "source": [
    "print(encoding.decode_single_token_bytes(ls3[0]))"
   ]
  },
  {
   "cell_type": "code",
   "execution_count": 26,
   "id": "9bb5cbb3",
   "metadata": {},
   "outputs": [],
   "source": [
    "def compare_encodings(example_string: str) -> None:\n",
    "    \"\"\"Prints a comparison of three string encodings.\"\"\"\n",
    "    # print the example string\n",
    "    print(f'\\nExample string: \"{example_string}\"')\n",
    "    # for each encoding, print the # of tokens, the token integers, and the token bytes\n",
    "    for encoding_name in [\"gpt2\", \"p50k_base\", \"cl100k_base\"]:\n",
    "        encoding = tiktoken.get_encoding(encoding_name)\n",
    "        token_integers = encoding.encode(example_string)\n",
    "        num_tokens = len(token_integers)\n",
    "        token_bytes = [encoding.decode_single_token_bytes(token) for token in token_integers]\n",
    "        print()\n",
    "        print(f\"{encoding_name}: {num_tokens} tokens\")\n",
    "        print(f\"token integers: {token_integers}\")\n",
    "        print(f\"token bytes: {token_bytes}\")"
   ]
  },
  {
   "cell_type": "code",
   "execution_count": 28,
   "id": "2c8ebfa3",
   "metadata": {},
   "outputs": [
    {
     "name": "stdout",
     "output_type": "stream",
     "text": [
      "\n",
      "Example string: \"con gà con đi trong sân\"\n",
      "\n",
      "gpt2: 12 tokens\n",
      "token integers: [1102, 308, 24247, 369, 34754, 239, 72, 491, 506, 264, 22940, 77]\n",
      "token bytes: [b'con', b' g', b'\\xc3\\xa0', b' con', b' \\xc4', b'\\x91', b'i', b' tr', b'ong', b' s', b'\\xc3\\xa2', b'n']\n",
      "\n",
      "p50k_base: 12 tokens\n",
      "token integers: [1102, 308, 24247, 369, 34754, 239, 72, 491, 506, 264, 22940, 77]\n",
      "token bytes: [b'con', b' g', b'\\xc3\\xa0', b' con', b' \\xc4', b'\\x91', b'i', b' tr', b'ong', b' s', b'\\xc3\\xa2', b'n']\n",
      "\n",
      "cl100k_base: 8 tokens\n",
      "token integers: [444, 342, 6496, 390, 74686, 70186, 274, 40492]\n",
      "token bytes: [b'con', b' g', b'\\xc3\\xa0', b' con', b' \\xc4\\x91i', b' trong', b' s', b'\\xc3\\xa2n']\n"
     ]
    }
   ],
   "source": [
    "compare_encodings(\"con gà con đi trong sân\")"
   ]
  },
  {
   "cell_type": "code",
   "execution_count": 29,
   "id": "d20f964f",
   "metadata": {},
   "outputs": [],
   "source": [
    "# the best tokenizer for vietnamese is word level or character levels"
   ]
  },
  {
   "cell_type": "markdown",
   "id": "79c06268",
   "metadata": {},
   "source": [
    "### Convert this file to md"
   ]
  },
  {
   "cell_type": "code",
   "execution_count": 2,
   "id": "b22ed51d",
   "metadata": {},
   "outputs": [],
   "source": [
    "from IPython.core.display import Javascript"
   ]
  },
  {
   "cell_type": "code",
   "execution_count": 3,
   "id": "862d5b3e",
   "metadata": {},
   "outputs": [
    {
     "data": {
      "application/javascript": [
       "IPython.notebook.kernel.execute('this_notebook = \"' + IPython.notebook.notebook_name + '\"')\n"
      ],
      "text/plain": [
       "<IPython.core.display.Javascript object>"
      ]
     },
     "metadata": {},
     "output_type": "display_data"
    }
   ],
   "source": [
    "%%js\n",
    "IPython.notebook.kernel.execute('this_notebook = \"' + IPython.notebook.notebook_name + '\"')"
   ]
  },
  {
   "cell_type": "code",
   "execution_count": 3,
   "id": "ade82929",
   "metadata": {},
   "outputs": [
    {
     "data": {
      "text/plain": [
       "'2022-09-22-blogging-with-jupyter-notebooks.ipynb'"
      ]
     },
     "execution_count": 3,
     "metadata": {},
     "output_type": "execute_result"
    }
   ],
   "source": [
    "this_notebook"
   ]
  },
  {
   "cell_type": "code",
   "execution_count": 4,
   "id": "af83fddd",
   "metadata": {},
   "outputs": [
    {
     "name": "stdout",
     "output_type": "stream",
     "text": [
      "[NbConvertApp] Converting notebook 2022-09-22-blogging-with-jupyter-notebooks.ipynb to markdown\r\n",
      "[NbConvertApp] Writing 725 bytes to ../_posts/2022-09-22-blogging-with-jupyter-notebooks.md\r\n"
     ]
    }
   ],
   "source": [
    "!jupyter nbconvert --to markdown {this_notebook} --output-dir=../_posts"
   ]
  }
 ],
 "metadata": {
  "kernelspec": {
   "display_name": "Python 3 (ipykernel)",
   "language": "python",
   "name": "python3"
  },
  "language_info": {
   "codemirror_mode": {
    "name": "ipython",
    "version": 3
   },
   "file_extension": ".py",
   "mimetype": "text/x-python",
   "name": "python",
   "nbconvert_exporter": "python",
   "pygments_lexer": "ipython3",
   "version": "3.8.12"
  }
 },
 "nbformat": 4,
 "nbformat_minor": 5
}
