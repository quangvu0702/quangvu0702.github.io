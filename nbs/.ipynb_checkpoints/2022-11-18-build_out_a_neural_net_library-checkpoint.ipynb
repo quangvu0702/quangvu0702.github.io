{
 "cells": [
  {
   "cell_type": "markdown",
   "id": "49e19edd",
   "metadata": {},
   "source": [
    "# Build out a neural net library"
   ]
  },
  {
   "cell_type": "code",
   "execution_count": 1,
   "id": "c0b2ba7f",
   "metadata": {},
   "outputs": [],
   "source": [
    "import numpy as np\n",
    "import matplotlib.pyplot as plt\n",
    "%matplotlib inline"
   ]
  },
  {
   "cell_type": "code",
   "execution_count": 2,
   "id": "681c9b90",
   "metadata": {},
   "outputs": [],
   "source": [
    "# plot graph\n",
    "import graphviz\n",
    "\n",
    "def trace(root):\n",
    "    nodes, edges = set(), set()\n",
    "    def build(root):\n",
    "        if root not in nodes:\n",
    "            nodes.add(root)\n",
    "        for v in root._children:\n",
    "            edges.add((v, root))\n",
    "            build(v)\n",
    "    build(root)\n",
    "    return nodes, edges\n",
    "\n",
    "def draw_graph(root):\n",
    "    f = graphviz.Digraph(format='svg', graph_attr={'rankdir':\"LR\"})\n",
    "    nodes, edges = trace(root)\n",
    "    for v in nodes:\n",
    "        f.node(str(id(v)), label=\"{%s|data %.4f|grad %.4f}\" %(v.label, v.data, v.grad) , shape='record')\n",
    "        if v._op:\n",
    "            f.node(f'{str(id(v))}_{v._op}', label=f\"{v._op}\")\n",
    "            f.edge(f'{str(id(v))}_{v._op}', str(id(v)))\n",
    "    for v1, v2 in edges:\n",
    "        f.edge(str(id(v1)), f'{str(id(v2))}_{v2._op}')\n",
    "    return f"
   ]
  },
  {
   "cell_type": "code",
   "execution_count": 80,
   "id": "f0d39f11",
   "metadata": {},
   "outputs": [],
   "source": [
    "import math\n",
    "\n",
    "class Value():\n",
    "    def __init__(self, data, label='', _children=[], _op=\"\", grad = 0):\n",
    "        self.data = data\n",
    "        self.label = label\n",
    "        self._children = set(_children)\n",
    "        self._op = _op\n",
    "        self.grad = grad\n",
    "        self._backward = lambda:None\n",
    "    def __repr__(self):\n",
    "        return f\"Value({self.label}={self.data})\"\n",
    "    \n",
    "    def __add__(self, other):\n",
    "        other = other if isinstance(other, Value) else Value(other)\n",
    "        out = Value(self.data + other.data, _children=[self, other], _op=\"+\")\n",
    "        def _backward():\n",
    "            self.grad += 1.0 * out.grad\n",
    "            other.grad += 1.0 * out.grad\n",
    "        out._backward = _backward\n",
    "        return out\n",
    "    \n",
    "    def __sub__(self, other):\n",
    "        return self + (-1) * other\n",
    "    \n",
    "    def __rsub__(self, other):\n",
    "        return (-1) * self + other\n",
    "    \n",
    "    def __radd__(self, other):\n",
    "        return self + other\n",
    "\n",
    "    def __mul__(self, other):\n",
    "        other = other if isinstance(other, Value) else Value(other)\n",
    "        out = Value(self.data * other.data, _children=[self, other], _op=\"*\")\n",
    "        def _backward():\n",
    "            self.grad += other.data * out.grad\n",
    "            other.grad += self.data * out.grad\n",
    "        out._backward = _backward\n",
    "        return out\n",
    "\n",
    "    def __rmul__(self, other):\n",
    "        return self * other\n",
    "\n",
    "    def tanh(self):\n",
    "        tanh = math.tanh(self.data)\n",
    "        out = Value(tanh, _children=[self, ], _op=\"tanh\")\n",
    "        def _backward():\n",
    "            self.grad += (1 - out.data**2) * out.grad\n",
    "        out._backward = _backward\n",
    "        return out\n",
    "    \n",
    "    def exp(self):\n",
    "        out = Value(math.exp(self.data), _children=[self, ], _op='exp')\n",
    "        def _backward():\n",
    "            self.grad += out.data * out.grad\n",
    "        out._backward = _backward\n",
    "        return out\n",
    "\n",
    "    def __pow__(self, n):\n",
    "        out = Value(self.data**n, _children=[self, ], _op='pow')\n",
    "        def _backward():\n",
    "            self.grad += n * self.data**(n-1) * out.grad\n",
    "        out._backward = _backward\n",
    "        return out\n",
    "    \n",
    "    def __truediv__(self, other):\n",
    "        return self * other**(-1)\n",
    "\n",
    "    def backward(self):\n",
    "        self.grad = 1.0\n",
    "        topo = []\n",
    "        visited = set()\n",
    "        def build_topo(v):\n",
    "            if v not in visited:\n",
    "                visited.add(v)\n",
    "                for o in v._children:\n",
    "                    build_topo(o)\n",
    "                topo.append(v)\n",
    "\n",
    "        build_topo(self)\n",
    "        for node in reversed(topo):\n",
    "            node._backward()"
   ]
  },
  {
   "cell_type": "code",
   "execution_count": 148,
   "id": "befd8c8c",
   "metadata": {},
   "outputs": [],
   "source": [
    "import random\n",
    "\n",
    "class Neuron():\n",
    "    def __init__(self, n_in):\n",
    "        self.weights = [Value(random.uniform(-1, 1), f'w_{i}') for i in range(n_in)]\n",
    "        self.b = Value(random.uniform(-1, 1), label='b')\n",
    "        \n",
    "    def __call__(self, xs):\n",
    "        return sum([w*x for w,x in zip(self.weights, xs)], self.b)\n",
    "    \n",
    "    def parameters(self):\n",
    "        return [self.b] + self.weights\n",
    "\n",
    "class Layer():\n",
    "    def __init__(self, n_in, n_out):\n",
    "        self.neurons = [Neuron(n_in) for _ in range(n_out)]\n",
    "        \n",
    "    def __call__(self, x):\n",
    "        return [neuron(x) for neuron in self.neurons]\n",
    "    \n",
    "    def parameters(self):\n",
    "        return [p for neuron in self.neurons for p in neuron.parameters()]\n",
    "\n",
    "class MLP():\n",
    "    def __init__(self, n_int, n_outs):\n",
    "        sizes = [n_int] + n_outs\n",
    "        self.layers = [Layer(sizes[i], sizes[i+1]) for i in range(len(n_outs))]\n",
    "\n",
    "    def __call__(self, x):\n",
    "        for l in self.layers:\n",
    "            x = l(x)\n",
    "        x = [o.tanh() for o in x]\n",
    "        return x if len(x) != 1 else x[0]\n",
    "    \n",
    "    def parameters(self):\n",
    "        return [p for layer in self.layers for p in layer.parameters()]\n",
    "\n",
    "net = MLP(3, [4, 4, 1])"
   ]
  },
  {
   "cell_type": "code",
   "execution_count": 190,
   "id": "877551f1",
   "metadata": {},
   "outputs": [
    {
     "name": "stdout",
     "output_type": "stream",
     "text": [
      "[Value(=0.918841907419769), Value(=-0.9999999014110093), Value(=0.8993683777038266), Value(=-0.9814952735117578)]\n"
     ]
    },
    {
     "data": {
      "text/plain": [
       "Value(=0.017055784299635418)"
      ]
     },
     "execution_count": 190,
     "metadata": {},
     "output_type": "execute_result"
    }
   ],
   "source": [
    "xs = [\n",
    "        [1.0, 2.0, 3.0],\n",
    "        [-1.0, -2.0, 3.0],\n",
    "        [2.0, -1.0, 1.0],\n",
    "        [-1.0, 0.0, 0.0],\n",
    "     ]\n",
    "ys = [1, -1, 1, -1]"
   ]
  },
  {
   "cell_type": "code",
   "execution_count": 192,
   "id": "c6a538ea",
   "metadata": {},
   "outputs": [
    {
     "name": "stdout",
     "output_type": "stream",
     "text": [
      "[Value(=0.9191618631057556), Value(=-0.9999999012945334), Value(=0.8997078439633928), Value(=-0.9815006842358902)]\n",
      "[Value(=0.9194782771191011), Value(=-0.9999999011791287), Value(=0.9000440670819079), Value(=-0.9815060915562765)]\n",
      "[Value(=0.91979121313179), Value(=-0.9999999010647799), Value(=0.9003770979219758), Value(=-0.9815114952318524)]\n",
      "[Value(=0.9201007332400323), Value(=-0.999999900951472), Value(=0.9007069862398163), Value(=-0.9815168950310447)]\n",
      "[Value(=0.9204068980137456), Value(=-0.9999999008391903), Value(=0.9010337807159927), Value(=-0.9815222907314131)]\n",
      "[Value(=0.9207097665441634), Value(=-0.9999999007279207), Value(=0.9013575289851039), Value(=-0.9815276821193074)]\n",
      "[Value(=0.9210093964896453), Value(=-0.999999900617649), Value(=0.9016782776644787), Value(=-0.9815330689895382)]\n",
      "[Value(=0.9213058441197749), Value(=-0.9999999005083614), Value(=0.9019960723819143), Value(=-0.9815384511450608)]\n",
      "[Value(=0.9215991643578151), Value(=-0.9999999004000446), Value(=0.9023109578024946), Value(=-0.9815438283966734)]\n",
      "[Value(=0.9218894108215939), Value(=-0.9999999002926853), Value(=0.9026229776545271), Value(=-0.9815492005627263)]\n"
     ]
    }
   ],
   "source": [
    "# backward\n",
    "# zero grad\n",
    "for _ in range(10):\n",
    "    y_pred = [net(x) for x in xs]\n",
    "    print(y_pred)\n",
    "    L = sum([(y - y_hat)**2 for y, y_hat in zip(ys, y_pred)]); L\n",
    "\n",
    "    for p in net.parameters():\n",
    "        p.grad = 0\n",
    "    L.backward()\n",
    "\n",
    "    # update param\n",
    "    for p in net.parameters():\n",
    "        p.data += -0.001 * p.grad"
   ]
  },
  {
   "cell_type": "code",
   "execution_count": 158,
   "id": "0103a6ce",
   "metadata": {},
   "outputs": [
    {
     "data": {
      "text/plain": [
       "0.8958342589007484"
      ]
     },
     "execution_count": 158,
     "metadata": {},
     "output_type": "execute_result"
    }
   ],
   "source": [
    "net.parameters()[0].grad"
   ]
  },
  {
   "cell_type": "code",
   "execution_count": 85,
   "id": "b7b444fd",
   "metadata": {},
   "outputs": [],
   "source": [
    "# draw_graph(out)"
   ]
  },
  {
   "cell_type": "markdown",
   "id": "79c06268",
   "metadata": {},
   "source": [
    "### Convert this file to md"
   ]
  },
  {
   "cell_type": "code",
   "execution_count": 5,
   "id": "b22ed51d",
   "metadata": {},
   "outputs": [],
   "source": [
    "from IPython.core.display import Javascript"
   ]
  },
  {
   "cell_type": "code",
   "execution_count": 6,
   "id": "862d5b3e",
   "metadata": {},
   "outputs": [
    {
     "data": {
      "application/javascript": [
       "IPython.notebook.kernel.execute('this_notebook = \"' + IPython.notebook.notebook_name + '\"')\n"
      ],
      "text/plain": [
       "<IPython.core.display.Javascript object>"
      ]
     },
     "metadata": {},
     "output_type": "display_data"
    }
   ],
   "source": [
    "%%js\n",
    "IPython.notebook.kernel.execute('this_notebook = \"' + IPython.notebook.notebook_name + '\"')"
   ]
  },
  {
   "cell_type": "code",
   "execution_count": 7,
   "id": "ade82929",
   "metadata": {},
   "outputs": [
    {
     "ename": "NameError",
     "evalue": "name 'this_notebook' is not defined",
     "output_type": "error",
     "traceback": [
      "\u001b[0;31m---------------------------------------------------------------------------\u001b[0m",
      "\u001b[0;31mNameError\u001b[0m                                 Traceback (most recent call last)",
      "Input \u001b[0;32mIn [7]\u001b[0m, in \u001b[0;36m<cell line: 1>\u001b[0;34m()\u001b[0m\n\u001b[0;32m----> 1\u001b[0m \u001b[43mthis_notebook\u001b[49m\n",
      "\u001b[0;31mNameError\u001b[0m: name 'this_notebook' is not defined"
     ]
    }
   ],
   "source": [
    "this_notebook"
   ]
  },
  {
   "cell_type": "code",
   "execution_count": null,
   "id": "af83fddd",
   "metadata": {},
   "outputs": [],
   "source": [
    "!jupyter nbconvert --to markdown {this_notebook} --output-dir=../_posts"
   ]
  }
 ],
 "metadata": {
  "kernelspec": {
   "display_name": "Python 3 (ipykernel)",
   "language": "python",
   "name": "python3"
  },
  "language_info": {
   "codemirror_mode": {
    "name": "ipython",
    "version": 3
   },
   "file_extension": ".py",
   "mimetype": "text/x-python",
   "name": "python",
   "nbconvert_exporter": "python",
   "pygments_lexer": "ipython3",
   "version": "3.8.12"
  }
 },
 "nbformat": 4,
 "nbformat_minor": 5
}
