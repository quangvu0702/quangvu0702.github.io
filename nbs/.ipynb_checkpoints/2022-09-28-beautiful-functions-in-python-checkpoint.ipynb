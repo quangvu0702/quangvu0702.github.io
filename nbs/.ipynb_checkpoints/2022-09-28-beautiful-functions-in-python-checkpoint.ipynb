{
 "cells": [
  {
   "cell_type": "markdown",
   "id": "49e19edd",
   "metadata": {},
   "source": [
    "# Beautiful functions in python"
   ]
  },
  {
   "cell_type": "markdown",
   "id": "1ccc962e",
   "metadata": {},
   "source": [
    "## 1. partial"
   ]
  },
  {
   "cell_type": "code",
   "execution_count": 8,
   "id": "79061132",
   "metadata": {},
   "outputs": [
    {
     "data": {
      "text/plain": [
       "(8, 10)"
      ]
     },
     "execution_count": 8,
     "metadata": {},
     "output_type": "execute_result"
    }
   ],
   "source": [
    "from functools import partial\n",
    "\n",
    "# when we have a general function like\n",
    "def multiply(x, y):\n",
    "    return x * y\n",
    "\n",
    "# You can reuse a function and create a new simpler function and name it with one line of code\n",
    "# create a new double function that reuses the function multiply\n",
    "double = partial(multiply, y=2)\n",
    "double(4), double(5)"
   ]
  },
  {
   "cell_type": "code",
   "execution_count": 13,
   "id": "652f7a08",
   "metadata": {},
   "outputs": [
    {
     "data": {
      "text/plain": [
       "(8, 10)"
      ]
     },
     "execution_count": 13,
     "metadata": {},
     "output_type": "execute_result"
    }
   ],
   "source": [
    "# This is another way to do it\n",
    "def double(x): return multiply(x, 2)\n",
    "\n",
    "double(4), double(5)"
   ]
  },
  {
   "cell_type": "markdown",
   "id": "7e92c69e",
   "metadata": {},
   "source": [
    "## 2. map"
   ]
  },
  {
   "cell_type": "code",
   "execution_count": 15,
   "id": "2b582462",
   "metadata": {},
   "outputs": [],
   "source": [
    "# map(fun, iter)\n",
    "# fun : It is a function to which map passes each element of given iterable.\n",
    "# iter : It is a iterable which is to be mapped."
   ]
  },
  {
   "cell_type": "code",
   "execution_count": 19,
   "id": "bdafa9ca",
   "metadata": {},
   "outputs": [
    {
     "data": {
      "text/plain": [
       "[6, 8, 14]"
      ]
     },
     "execution_count": 19,
     "metadata": {},
     "output_type": "execute_result"
    }
   ],
   "source": [
    "xs = [3, 4, 7]\n",
    "# double each element in xs\n",
    "double_xs = map(double, xs)\n",
    "list(double_xs)"
   ]
  },
  {
   "cell_type": "code",
   "execution_count": 20,
   "id": "1c68da7f",
   "metadata": {},
   "outputs": [],
   "source": [
    "# another way\n",
    "double_xs = [double(x) for x in xs]"
   ]
  },
  {
   "cell_type": "markdown",
   "id": "e34ae5da",
   "metadata": {},
   "source": [
    "### 3. filter"
   ]
  },
  {
   "cell_type": "code",
   "execution_count": null,
   "id": "c49e2312",
   "metadata": {},
   "outputs": [],
   "source": [
    "# filter(fun, iter)\n",
    "# fun : It is a function which runs for each item in the iterable\n",
    "# iter : It is a iterable which is to be mapped."
   ]
  },
  {
   "cell_type": "markdown",
   "id": "79c06268",
   "metadata": {},
   "source": [
    "### Convert this file to md"
   ]
  },
  {
   "cell_type": "code",
   "execution_count": 2,
   "id": "b22ed51d",
   "metadata": {},
   "outputs": [],
   "source": [
    "from IPython.core.display import Javascript"
   ]
  },
  {
   "cell_type": "code",
   "execution_count": 3,
   "id": "862d5b3e",
   "metadata": {},
   "outputs": [
    {
     "data": {
      "application/javascript": [
       "IPython.notebook.kernel.execute('this_notebook = \"' + IPython.notebook.notebook_name + '\"')\n"
      ],
      "text/plain": [
       "<IPython.core.display.Javascript object>"
      ]
     },
     "metadata": {},
     "output_type": "display_data"
    }
   ],
   "source": [
    "%%js\n",
    "IPython.notebook.kernel.execute('this_notebook = \"' + IPython.notebook.notebook_name + '\"')"
   ]
  },
  {
   "cell_type": "code",
   "execution_count": 3,
   "id": "ade82929",
   "metadata": {},
   "outputs": [
    {
     "data": {
      "text/plain": [
       "'2022-09-22-blogging-with-jupyter-notebooks.ipynb'"
      ]
     },
     "execution_count": 3,
     "metadata": {},
     "output_type": "execute_result"
    }
   ],
   "source": [
    "this_notebook"
   ]
  },
  {
   "cell_type": "code",
   "execution_count": 4,
   "id": "af83fddd",
   "metadata": {},
   "outputs": [
    {
     "name": "stdout",
     "output_type": "stream",
     "text": [
      "[NbConvertApp] Converting notebook 2022-09-22-blogging-with-jupyter-notebooks.ipynb to markdown\r\n",
      "[NbConvertApp] Writing 725 bytes to ../_posts/2022-09-22-blogging-with-jupyter-notebooks.md\r\n"
     ]
    }
   ],
   "source": [
    "!jupyter nbconvert --to markdown {this_notebook} --output-dir=../_posts"
   ]
  }
 ],
 "metadata": {
  "kernelspec": {
   "display_name": "Python 3 (ipykernel)",
   "language": "python",
   "name": "python3"
  },
  "language_info": {
   "codemirror_mode": {
    "name": "ipython",
    "version": 3
   },
   "file_extension": ".py",
   "mimetype": "text/x-python",
   "name": "python",
   "nbconvert_exporter": "python",
   "pygments_lexer": "ipython3",
   "version": "3.8.12"
  }
 },
 "nbformat": 4,
 "nbformat_minor": 5
}
