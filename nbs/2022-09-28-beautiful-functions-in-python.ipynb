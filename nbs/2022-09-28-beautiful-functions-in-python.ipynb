{
 "cells": [
  {
   "cell_type": "markdown",
   "id": "49e19edd",
   "metadata": {},
   "source": [
    "# Beautiful functions in python"
   ]
  },
  {
   "cell_type": "markdown",
   "id": "1ccc962e",
   "metadata": {},
   "source": [
    "### 1. partial"
   ]
  },
  {
   "cell_type": "code",
   "execution_count": 8,
   "id": "619312a3",
   "metadata": {},
   "outputs": [
    {
     "data": {
      "text/plain": [
       "(8, 10)"
      ]
     },
     "execution_count": 8,
     "metadata": {},
     "output_type": "execute_result"
    }
   ],
   "source": [
    "from functools import partial\n",
    "\n",
    "# when we have a general function like\n",
    "def multiply(x, y):\n",
    "    return x * y\n",
    "\n",
    "# You can reuse a function and create a new simpler function and name it with one line of code\n",
    "# create a new double function that reuses the function multiply\n",
    "double = partial(multiply, y=2)\n",
    "double(4), double(5)"
   ]
  },
  {
   "cell_type": "code",
   "execution_count": 13,
   "id": "7b3872f2",
   "metadata": {},
   "outputs": [
    {
     "data": {
      "text/plain": [
       "(8, 10)"
      ]
     },
     "execution_count": 13,
     "metadata": {},
     "output_type": "execute_result"
    }
   ],
   "source": [
    "# This is another way to do it\n",
    "def double(x): return multiply(x, 2)\n",
    "\n",
    "double(4), double(5)"
   ]
  },
  {
   "cell_type": "markdown",
   "id": "11f0217f",
   "metadata": {},
   "source": [
    "### 2. map"
   ]
  },
  {
   "cell_type": "code",
   "execution_count": 15,
   "id": "5b4b4756",
   "metadata": {},
   "outputs": [],
   "source": [
    "# map(fun, iter)\n",
    "# fun : It is a function to which map passes each element of given iterable.\n",
    "# iter : It is a iterable which is to be mapped."
   ]
  },
  {
   "cell_type": "code",
   "execution_count": 19,
   "id": "2de82f5e",
   "metadata": {},
   "outputs": [
    {
     "data": {
      "text/plain": [
       "[6, 8, 14]"
      ]
     },
     "execution_count": 19,
     "metadata": {},
     "output_type": "execute_result"
    }
   ],
   "source": [
    "xs = [3, 4, 7]\n",
    "# double each element in xs\n",
    "double_xs = map(double, xs)\n",
    "list(double_xs)"
   ]
  },
  {
   "cell_type": "code",
   "execution_count": 27,
   "id": "82881654",
   "metadata": {},
   "outputs": [
    {
     "data": {
      "text/plain": [
       "[2, 6, 8, 14]"
      ]
     },
     "execution_count": 27,
     "metadata": {},
     "output_type": "execute_result"
    }
   ],
   "source": [
    "# another way\n",
    "double_xs = [double(x) for x in xs]\n",
    "double_xs"
   ]
  },
  {
   "cell_type": "markdown",
   "id": "0138011e",
   "metadata": {},
   "source": [
    "### 3. filter"
   ]
  },
  {
   "cell_type": "code",
   "execution_count": null,
   "id": "872d5371",
   "metadata": {},
   "outputs": [],
   "source": [
    "# filter(fun, iter)\n",
    "# fun : It is a function which runs for each item in the iterable\n",
    "# iter : It is a iterable which is to be mapped."
   ]
  },
  {
   "cell_type": "code",
   "execution_count": 26,
   "id": "ebfc28d1",
   "metadata": {},
   "outputs": [
    {
     "data": {
      "text/plain": [
       "[1]"
      ]
     },
     "execution_count": 26,
     "metadata": {},
     "output_type": "execute_result"
    }
   ],
   "source": [
    "xs = [1, 3, 4, 7]\n",
    "\n",
    "def less_than_three(x): return x < 3\n",
    "\n",
    "xs_less_than_three = filter(less_than_three, xs)\n",
    "list(xs_less_than_three)"
   ]
  },
  {
   "cell_type": "code",
   "execution_count": 28,
   "id": "8e7900d6",
   "metadata": {},
   "outputs": [
    {
     "data": {
      "text/plain": [
       "[1]"
      ]
     },
     "execution_count": 28,
     "metadata": {},
     "output_type": "execute_result"
    }
   ],
   "source": [
    "# another way\n",
    "xs_less_than_three = [x for x in xs if less_than_three(x)]\n",
    "xs_less_than_three"
   ]
  },
  {
   "cell_type": "markdown",
   "id": "927b62f4",
   "metadata": {},
   "source": [
    "### 4. lambda"
   ]
  },
  {
   "cell_type": "code",
   "execution_count": 31,
   "id": "3f883b99",
   "metadata": {},
   "outputs": [
    {
     "data": {
      "text/plain": [
       "(8, 10)"
      ]
     },
     "execution_count": 31,
     "metadata": {},
     "output_type": "execute_result"
    }
   ],
   "source": [
    "# lambda arguments: expression\n",
    "\n",
    "# define a function in a short way\n",
    "double = lambda x: 2 * x\n",
    "double(4), double(5)"
   ]
  },
  {
   "cell_type": "markdown",
   "id": "79c06268",
   "metadata": {},
   "source": [
    "### Convert this file to md"
   ]
  },
  {
   "cell_type": "code",
   "execution_count": 2,
   "id": "b22ed51d",
   "metadata": {},
   "outputs": [],
   "source": [
    "from IPython.core.display import Javascript"
   ]
  },
  {
   "cell_type": "code",
   "execution_count": 3,
   "id": "862d5b3e",
   "metadata": {},
   "outputs": [
    {
     "data": {
      "application/javascript": [
       "IPython.notebook.kernel.execute('this_notebook = \"' + IPython.notebook.notebook_name + '\"')\n"
      ],
      "text/plain": [
       "<IPython.core.display.Javascript object>"
      ]
     },
     "metadata": {},
     "output_type": "display_data"
    }
   ],
   "source": [
    "%%js\n",
    "IPython.notebook.kernel.execute('this_notebook = \"' + IPython.notebook.notebook_name + '\"')"
   ]
  },
  {
   "cell_type": "code",
   "execution_count": 3,
   "id": "ade82929",
   "metadata": {},
   "outputs": [
    {
     "data": {
      "text/plain": [
       "'2022-09-22-blogging-with-jupyter-notebooks.ipynb'"
      ]
     },
     "execution_count": 3,
     "metadata": {},
     "output_type": "execute_result"
    }
   ],
   "source": [
    "this_notebook"
   ]
  },
  {
   "cell_type": "code",
   "execution_count": 4,
   "id": "af83fddd",
   "metadata": {},
   "outputs": [
    {
     "name": "stdout",
     "output_type": "stream",
     "text": [
      "[NbConvertApp] Converting notebook 2022-09-22-blogging-with-jupyter-notebooks.ipynb to markdown\r\n",
      "[NbConvertApp] Writing 725 bytes to ../_posts/2022-09-22-blogging-with-jupyter-notebooks.md\r\n"
     ]
    }
   ],
   "source": [
    "!jupyter nbconvert --to markdown {this_notebook} --output-dir=../_posts"
   ]
  }
 ],
 "metadata": {
  "kernelspec": {
   "display_name": "Python 3 (ipykernel)",
   "language": "python",
   "name": "python3"
  },
  "language_info": {
   "codemirror_mode": {
    "name": "ipython",
    "version": 3
   },
   "file_extension": ".py",
   "mimetype": "text/x-python",
   "name": "python",
   "nbconvert_exporter": "python",
   "pygments_lexer": "ipython3",
   "version": "3.8.12"
  }
 },
 "nbformat": 4,
 "nbformat_minor": 5
}
