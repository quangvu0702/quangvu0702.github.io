{
 "cells": [
  {
   "cell_type": "markdown",
   "id": "49e19edd",
   "metadata": {},
   "source": [
    "# 2023-01-30 self attention layers"
   ]
  },
  {
   "cell_type": "code",
   "execution_count": 1,
   "id": "bb49ae2d",
   "metadata": {},
   "outputs": [],
   "source": [
    "import torch\n",
    "import torch.nn as nn\n",
    "import torch.nn.functional as F\n",
    "from torch.optim import AdamW\n",
    "import numpy as np"
   ]
  },
  {
   "cell_type": "code",
   "execution_count": 2,
   "id": "75eb19f2",
   "metadata": {},
   "outputs": [],
   "source": [
    "B, T, C = 32, 8, 32 ; # batch, time, channel\n",
    "n_embd = 32\n",
    "batch_size, block_size = B, T\n",
    "max_iter = 3000\n",
    "eval_iters = 200\n",
    "eval_interval = 300\n",
    "head_size = 16"
   ]
  },
  {
   "cell_type": "code",
   "execution_count": 3,
   "id": "e9f28ea9",
   "metadata": {},
   "outputs": [],
   "source": [
    "torch.cuda.device_count(), torch.cuda.current_device()\n",
    "\n",
    "device = 'cuda' if torch.cuda.is_available() else 'cpu'\n",
    "\n",
    "# read on review data\n",
    "with open('input.txt', 'r', encoding='utf-8') as f:\n",
    "    text = f.read()\n",
    "# Here is all unique character that occur in this text\n",
    "chars = sorted(list(set(text)))\n",
    "vocab_size = len(chars)\n",
    "\n",
    "# create a mapping from characters to integers\n",
    "ctoi = {c: i for i, c in enumerate(chars)}\n",
    "itoc = {i: c for i, c in enumerate(chars)}\n",
    "encode = lambda s: [ctoi[c] for c in s]\n",
    "decode = lambda l: ''.join([itoc[i] for i in l])\n",
    "\n",
    "data = torch.tensor(encode(text), dtype=torch.long)\n",
    "# Let's now split up the data into train set and validation set\n",
    "n = round(len(data) * 0.9);\n",
    "train_data = data[:n]\n",
    "val_data   = data[n:]"
   ]
  },
  {
   "cell_type": "code",
   "execution_count": 4,
   "id": "eab5f358",
   "metadata": {},
   "outputs": [],
   "source": [
    "torch.manual_seed(1337)\n",
    "\n",
    "def get_batch(split='train'):\n",
    "    data = train_data if split == 'train' else val_data\n",
    "    ix = torch.randint(len(train_data) - block_size, (batch_size, ))\n",
    "    xb = torch.stack([train_data[i:i+block_size] for i in ix])\n",
    "    yb = torch.stack([train_data[i+1:i+1+block_size] for i in ix])\n",
    "    xb, yb = xb.to(device), yb.to(device)\n",
    "    return xb, yb\n",
    "\n",
    "class Head(nn.Module):\n",
    "    def __init__(self, head_size):\n",
    "        super().__init__()\n",
    "        self.query = nn.Linear(C, head_size)\n",
    "        self.key = nn.Linear(C, head_size)\n",
    "        self.value = nn.Linear(C, head_size)\n",
    "        self.register_buffer('tril', torch.tril(torch.ones(T, T)))\n",
    "    def forward(self, x):\n",
    "        q = self.query(x) # B, T, head_size\n",
    "        k = self.key(x) # B, T, head_size\n",
    "        v = self.value(x) # B, T, head_size\n",
    "        # computer attention score\n",
    "        wei = q @ v.transpose(-2, -1) * head_size ** -0.5 # (B, T, head_size) x (B, head_size, T) -> (B, T, T)\n",
    "        wei = wei.masked_fill(self.tril == 0, float('-inf'))\n",
    "        wei = torch.softmax(wei,dim=-1) # (B, T, T)\n",
    "        # perform the weighted aggregation\n",
    "        out = wei@v # (B, T, T) x (B, T, head_size) -> (B, T, head_size)\n",
    "        return out\n",
    "    \n",
    "class BigramLanguageModel(nn.Module):\n",
    "    def __init__(self, vocab_size):\n",
    "        super().__init__()\n",
    "        self.token_embedding_table = nn.Embedding(vocab_size, n_embd)\n",
    "        self.position_embedding_table = nn.Embedding(T, n_embd)\n",
    "        self.sa_head = Head(n_embd)\n",
    "        self.lm_head = nn.Linear(n_embd, vocab_size)\n",
    "        \n",
    "    def forward(self, idx, targets=None):\n",
    "        B, T = idx.shape\n",
    "        tok_emb = self.token_embedding_table(idx)\n",
    "        pos_emb = self.position_embedding_table(torch.arange(T).to(device))\n",
    "        x = tok_emb + pos_emb # (B, T, n_embd)\n",
    "        x = self.sa_head(x) # apply one head attention\n",
    "        logits = self.lm_head(x) # (B, n_embd, vocab_size) x (B, T, n_embd) -> (B, T, vocab_size)\n",
    "        if targets is not None:\n",
    "            B, T, C = logits.shape\n",
    "            logits = logits.view(B*T, C)\n",
    "            targets = targets.view(B*T)\n",
    "            loss = F.cross_entropy(logits, targets)\n",
    "        else:\n",
    "            loss = None\n",
    "        return loss, logits\n",
    "\n",
    "    @torch.no_grad()\n",
    "    def generate(self, idx, max_new_token):\n",
    "        for i in range(max_new_token):\n",
    "            loss, logits = model(idx[:, -block_size:])\n",
    "            logits = logits[:, -1,:]\n",
    "            probs = F.softmax(logits, -1)\n",
    "            next_idx = torch.multinomial(probs, 1)\n",
    "            idx = torch.cat([idx, next_idx], 1)\n",
    "        return idx\n",
    "    \n",
    "@torch.no_grad()\n",
    "def estimate_loss():\n",
    "    model.eval()\n",
    "    losses = torch.zeros(eval_iters)\n",
    "    out = {}\n",
    "    for split in ['train', 'val']:\n",
    "        for i in range(eval_iters):\n",
    "            xb, yb = get_batch()\n",
    "            loss, logits = model(xb, yb)\n",
    "            losses[i] = loss\n",
    "        out[split] = losses.mean().item()\n",
    "    return out\n",
    "\n",
    "def train():\n",
    "    for i in range(max_iter):\n",
    "        if i % eval_iters == 0:\n",
    "            out = estimate_loss()\n",
    "            print(f\"Train loss: {out['train']}. Val loss: {out['val']}. \")\n",
    "        xb, yb = get_batch()\n",
    "        loss, logits = model(xb, yb)\n",
    "        optimizer.zero_grad(set_to_none=True)\n",
    "        loss.backward()\n",
    "        optimizer.step()"
   ]
  },
  {
   "cell_type": "code",
   "execution_count": 5,
   "id": "8d51460a",
   "metadata": {},
   "outputs": [],
   "source": [
    "model = BigramLanguageModel(vocab_size).to(device)\n",
    "m = model.to(device)\n",
    "optimizer = AdamW(model.parameters())"
   ]
  },
  {
   "cell_type": "code",
   "execution_count": 6,
   "id": "89cc61f4",
   "metadata": {},
   "outputs": [],
   "source": [
    "# sent = model.generate(idx=torch.zeros((1,1), dtype=torch.long), max_new_token=1000)\n",
    "# print(decode(sent[0].tolist()))"
   ]
  },
  {
   "cell_type": "code",
   "execution_count": 7,
   "id": "caa4780e",
   "metadata": {
    "scrolled": true
   },
   "outputs": [
    {
     "name": "stdout",
     "output_type": "stream",
     "text": [
      "Train loss: 4.209799766540527. Val loss: 4.210343837738037. \n",
      "Train loss: 3.0118324756622314. Val loss: 3.029925584793091. \n",
      "Train loss: 2.7751874923706055. Val loss: 2.7928709983825684. \n",
      "Train loss: 2.644948720932007. Val loss: 2.658383369445801. \n",
      "Train loss: 2.572192668914795. Val loss: 2.58717679977417. \n",
      "Train loss: 2.5385854244232178. Val loss: 2.527400493621826. \n",
      "Train loss: 2.5111818313598633. Val loss: 2.5001227855682373. \n",
      "Train loss: 2.49641752243042. Val loss: 2.503206729888916. \n",
      "Train loss: 2.4784927368164062. Val loss: 2.473785161972046. \n",
      "Train loss: 2.4662117958068848. Val loss: 2.453801155090332. \n",
      "Train loss: 2.4490010738372803. Val loss: 2.4530270099639893. \n",
      "Train loss: 2.4463274478912354. Val loss: 2.452366352081299. \n",
      "Train loss: 2.440185308456421. Val loss: 2.4310648441314697. \n",
      "Train loss: 2.439107656478882. Val loss: 2.4313089847564697. \n",
      "Train loss: 2.434870958328247. Val loss: 2.43583345413208. \n"
     ]
    }
   ],
   "source": [
    "train()\n",
    "# sent = model.generate(idx=torch.zeros((1,1), dtype=torch.long), max_new_token=500)\n",
    "# print(decode(sent[0].tolist()))"
   ]
  },
  {
   "cell_type": "code",
   "execution_count": 8,
   "id": "93839f9f",
   "metadata": {},
   "outputs": [
    {
     "name": "stdout",
     "output_type": "stream",
     "text": [
      "Train loss: 2.427349805831909. Val loss: 2.421347141265869. \n",
      "Train loss: 2.414802074432373. Val loss: 2.4105308055877686. \n",
      "Train loss: 2.4139771461486816. Val loss: 2.408018112182617. \n",
      "Train loss: 2.4174203872680664. Val loss: 2.40922474861145. \n",
      "Train loss: 2.4164133071899414. Val loss: 2.4019827842712402. \n",
      "Train loss: 2.412034034729004. Val loss: 2.4040515422821045. \n",
      "Train loss: 2.4022231101989746. Val loss: 2.3965790271759033. \n",
      "Train loss: 2.407172203063965. Val loss: 2.3981354236602783. \n",
      "Train loss: 2.3984341621398926. Val loss: 2.4028024673461914. \n",
      "Train loss: 2.3976922035217285. Val loss: 2.3967223167419434. \n",
      "Train loss: 2.394608736038208. Val loss: 2.399974822998047. \n",
      "Train loss: 2.393988847732544. Val loss: 2.3962814807891846. \n",
      "Train loss: 2.38093900680542. Val loss: 2.3974993228912354. \n",
      "Train loss: 2.3883285522460938. Val loss: 2.390153169631958. \n",
      "Train loss: 2.3956613540649414. Val loss: 2.3789026737213135. \n"
     ]
    }
   ],
   "source": [
    "train()\n",
    "# sent = model.generate(idx=torch.zeros((1,1), dtype=torch.long), max_new_token=500)\n",
    "# print(decode(sent[0].tolist()))"
   ]
  },
  {
   "cell_type": "markdown",
   "id": "79c06268",
   "metadata": {},
   "source": [
    "### Convert this file to md"
   ]
  },
  {
   "cell_type": "code",
   "execution_count": 9,
   "id": "b22ed51d",
   "metadata": {},
   "outputs": [],
   "source": [
    "from IPython.core.display import Javascript"
   ]
  },
  {
   "cell_type": "code",
   "execution_count": 12,
   "id": "862d5b3e",
   "metadata": {},
   "outputs": [
    {
     "data": {
      "application/javascript": [
       "IPython.notebook.kernel.execute('this_notebook = \"' + IPython.notebook.notebook_name + '\"')\n"
      ],
      "text/plain": [
       "<IPython.core.display.Javascript object>"
      ]
     },
     "metadata": {},
     "output_type": "display_data"
    }
   ],
   "source": [
    "%%js\n",
    "IPython.notebook.kernel.execute('this_notebook = \"' + IPython.notebook.notebook_name + '\"')"
   ]
  },
  {
   "cell_type": "code",
   "execution_count": 13,
   "id": "ade82929",
   "metadata": {},
   "outputs": [
    {
     "data": {
      "text/plain": [
       "'2023-01-30-attention-layer-compact.ipynb'"
      ]
     },
     "execution_count": 13,
     "metadata": {},
     "output_type": "execute_result"
    }
   ],
   "source": [
    "this_notebook"
   ]
  },
  {
   "cell_type": "code",
   "execution_count": 14,
   "id": "af83fddd",
   "metadata": {},
   "outputs": [
    {
     "name": "stdout",
     "output_type": "stream",
     "text": [
      "[NbConvertApp] Converting notebook 2023-01-30-attention-layer-compact.ipynb to markdown\n",
      "[NbConvertApp] Writing 7526 bytes to ../_posts/2023-01-30-attention-layer-compact.md\n"
     ]
    }
   ],
   "source": [
    "!jupyter nbconvert --to markdown {this_notebook} --output-dir=../_posts"
   ]
  }
 ],
 "metadata": {
  "kernelspec": {
   "display_name": "Python 3 (ipykernel)",
   "language": "python",
   "name": "python3"
  },
  "language_info": {
   "codemirror_mode": {
    "name": "ipython",
    "version": 3
   },
   "file_extension": ".py",
   "mimetype": "text/x-python",
   "name": "python",
   "nbconvert_exporter": "python",
   "pygments_lexer": "ipython3",
   "version": "3.8.12"
  }
 },
 "nbformat": 4,
 "nbformat_minor": 5
}
