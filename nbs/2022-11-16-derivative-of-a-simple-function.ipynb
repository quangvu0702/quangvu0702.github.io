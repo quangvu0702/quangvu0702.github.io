{
 "cells": [
  {
   "cell_type": "markdown",
   "id": "49e19edd",
   "metadata": {},
   "source": [
    "# Derivative of a simple function"
   ]
  },
  {
   "cell_type": "code",
   "execution_count": 1,
   "id": "c0b2ba7f",
   "metadata": {},
   "outputs": [],
   "source": [
    "import numpy as np\n",
    "import matplotlib.pyplot as plt\n",
    "%matplotlib inline"
   ]
  },
  {
   "cell_type": "code",
   "execution_count": 2,
   "id": "703c84b1",
   "metadata": {},
   "outputs": [],
   "source": [
    "def f(x): return 3*x**2 + 3*x + 1"
   ]
  },
  {
   "cell_type": "code",
   "execution_count": 3,
   "id": "ca854d0c",
   "metadata": {},
   "outputs": [
    {
     "data": {
      "text/plain": [
       "[<matplotlib.lines.Line2D at 0x7f2750329fd0>]"
      ]
     },
     "execution_count": 3,
     "metadata": {},
     "output_type": "execute_result"
    },
    {
     "data": {
      "image/png": "[encoded data removed]",
      "text/plain": [
       "<Figure size 640x480 with 1 Axes>"
      ]
     },
     "metadata": {},
     "output_type": "display_data"
    }
   ],
   "source": [
    "xs = np.arange(-5, 5, 0.25)\n",
    "ys = f(xs)\n",
    "\n",
    "plt.plot(xs, ys)"
   ]
  },
  {
   "cell_type": "code",
   "execution_count": 4,
   "id": "1b1ca28f",
   "metadata": {},
   "outputs": [
    {
     "data": {
      "text/plain": [
       "15.00000300325155"
      ]
     },
     "execution_count": 4,
     "metadata": {},
     "output_type": "execute_result"
    }
   ],
   "source": [
    "# derivative\n",
    "h = 0.000001\n",
    "x = 2\n",
    "(f(x + h) - f(x)) / h"
   ]
  },
  {
   "cell_type": "code",
   "execution_count": 5,
   "id": "f5d1e498",
   "metadata": {},
   "outputs": [
    {
     "data": {
      "text/plain": [
       "-3.000000000419334"
      ]
     },
     "execution_count": 5,
     "metadata": {},
     "output_type": "execute_result"
    }
   ],
   "source": [
    "# les get more complex\n",
    "\n",
    "a = 2\n",
    "b = -3\n",
    "c = 5\n",
    "h = 0.000001\n",
    "\n",
    "d1 = a * b + c\n",
    "a += h\n",
    "d2 = a * b + c\n",
    "(d2 - d1) / h\n"
   ]
  },
  {
   "cell_type": "code",
   "execution_count": 6,
   "id": "f0d39f11",
   "metadata": {},
   "outputs": [],
   "source": [
    "class Value():\n",
    "    def __init__(self, data, label='', _children=[], _op=\"\", grad = 0):\n",
    "        self.data = data\n",
    "        self.label = label\n",
    "        self._children = set(_children)\n",
    "        self._op = _op\n",
    "        self.grad = grad\n",
    "    def __repr__(self):\n",
    "        return f\"Value({self.label}={self.data})\"\n",
    "    \n",
    "    def __add__(self, other):\n",
    "        return Value(self.data + other.data, _children=[self, other], _op=\"+\")\n",
    "    \n",
    "    def __mul__(self, other):\n",
    "        return Value(self.data * other.data, _children=[self, other], _op=\"*\")"
   ]
  },
  {
   "cell_type": "code",
   "execution_count": 7,
   "id": "8347fa7f",
   "metadata": {},
   "outputs": [
    {
     "data": {
      "text/plain": [
       "Value(c=6.0)"
      ]
     },
     "execution_count": 7,
     "metadata": {},
     "output_type": "execute_result"
    }
   ],
   "source": [
    "a = Value(2.0, 'a')\n",
    "b = Value(3.0, 'b')\n",
    "c = a * b; c.label = 'c'\n",
    "c"
   ]
  },
  {
   "cell_type": "code",
   "execution_count": 8,
   "id": "eb246b96",
   "metadata": {},
   "outputs": [],
   "source": [
    "# plot graph\n",
    "import graphviz\n",
    "\n",
    "def trace(root):\n",
    "    nodes, edges = set(), set()\n",
    "    def build(root):\n",
    "        if root not in nodes:\n",
    "            nodes.add(root)\n",
    "        for v in root._children:\n",
    "            edges.add((v, root))\n",
    "            build(v)\n",
    "    build(root)\n",
    "    return nodes, edges\n",
    "\n",
    "def draw_graph(root):\n",
    "    f = graphviz.Digraph(format='svg', graph_attr={'rankdir':\"LR\"})\n",
    "    nodes, edges = trace(root)\n",
    "    for v in nodes:\n",
    "        f.node(str(id(v)), label=f\"{v.label}|data {v.data}|grad {v.grad}\", shape='record')\n",
    "        if v._op:\n",
    "            f.node(f'{str(id(v))}_{v._op}', label=f\"{v._op}\")\n",
    "            f.edge(f'{str(id(v))}_{v._op}', str(id(v)))\n",
    "    for v1, v2 in edges:\n",
    "        f.edge(str(id(v1)), f'{str(id(v2))}_{v2._op}')\n",
    "    return f"
   ]
  },
  {
   "cell_type": "code",
   "execution_count": 9,
   "id": "f92bb189",
   "metadata": {},
   "outputs": [
    {
     "data": {
      "image/svg+xml": [
       "<?xml version=\"1.0\" encoding=\"UTF-8\" standalone=\"no\"?>\n",
       "<!DOCTYPE svg PUBLIC \"-//W3C//DTD SVG 1.1//EN\"\n",
       " \"http://www.w3.org/Graphics/SVG/1.1/DTD/svg11.dtd\">\n",
       "<!-- Generated by graphviz version 2.43.0 (0)\n",
       " -->\n",
       "<!-- Title: %3 Pages: 1 -->\n",
       "<svg width=\"284pt\" height=\"166pt\"\n",
       " viewBox=\"0.00 0.00 284.00 166.00\" xmlns=\"http://www.w3.org/2000/svg\" xmlns:xlink=\"http://www.w3.org/1999/xlink\">\n",
       "<g id=\"graph0\" class=\"graph\" transform=\"scale(1 1) rotate(0) translate(4 162)\">\n",
       "<title>%3</title>\n",
       "<polygon fill=\"white\" stroke=\"transparent\" points=\"-4,4 -4,-162 280,-162 280,4 -4,4\"/>\n",
       "<!-- 139806828965024 -->\n",
       "<g id=\"node1\" class=\"node\">\n",
       "<title>139806828965024</title>\n",
       "<polygon fill=\"none\" stroke=\"black\" points=\"201,-44.5 201,-113.5 276,-113.5 276,-44.5 201,-44.5\"/>\n",
       "<text text-anchor=\"middle\" x=\"238.5\" y=\"-98.3\" font-family=\"Times,serif\" font-size=\"14.00\">c</text>\n",
       "<polyline fill=\"none\" stroke=\"black\" points=\"201,-90.5 276,-90.5 \"/>\n",
       "<text text-anchor=\"middle\" x=\"238.5\" y=\"-75.3\" font-family=\"Times,serif\" font-size=\"14.00\">data 6.0</text>\n",
       "<polyline fill=\"none\" stroke=\"black\" points=\"201,-67.5 276,-67.5 \"/>\n",
       "<text text-anchor=\"middle\" x=\"238.5\" y=\"-52.3\" font-family=\"Times,serif\" font-size=\"14.00\">grad 0</text>\n",
       "</g>\n",
       "<!-- 139806828965024_* -->\n",
       "<g id=\"node2\" class=\"node\">\n",
       "<title>139806828965024_*</title>\n",
       "<ellipse fill=\"none\" stroke=\"black\" cx=\"138\" cy=\"-79\" rx=\"27\" ry=\"18\"/>\n",
       "<text text-anchor=\"middle\" x=\"138\" y=\"-75.3\" font-family=\"Times,serif\" font-size=\"14.00\">*</text>\n",
       "</g>\n",
       "<!-- 139806828965024_*&#45;&gt;139806828965024 -->\n",
       "<g id=\"edge1\" class=\"edge\">\n",
       "<title>139806828965024_*&#45;&gt;139806828965024</title>\n",
       "<path fill=\"none\" stroke=\"black\" d=\"M165.14,-79C173,-79 181.89,-79 190.66,-79\"/>\n",
       "<polygon fill=\"black\" stroke=\"black\" points=\"190.86,-82.5 200.86,-79 190.86,-75.5 190.86,-82.5\"/>\n",
       "</g>\n",
       "<!-- 139806828964160 -->\n",
       "<g id=\"node3\" class=\"node\">\n",
       "<title>139806828964160</title>\n",
       "<polygon fill=\"none\" stroke=\"black\" points=\"0,-88.5 0,-157.5 75,-157.5 75,-88.5 0,-88.5\"/>\n",
       "<text text-anchor=\"middle\" x=\"37.5\" y=\"-142.3\" font-family=\"Times,serif\" font-size=\"14.00\">a</text>\n",
       "<polyline fill=\"none\" stroke=\"black\" points=\"0,-134.5 75,-134.5 \"/>\n",
       "<text text-anchor=\"middle\" x=\"37.5\" y=\"-119.3\" font-family=\"Times,serif\" font-size=\"14.00\">data 2.0</text>\n",
       "<polyline fill=\"none\" stroke=\"black\" points=\"0,-111.5 75,-111.5 \"/>\n",
       "<text text-anchor=\"middle\" x=\"37.5\" y=\"-96.3\" font-family=\"Times,serif\" font-size=\"14.00\">grad 0</text>\n",
       "</g>\n",
       "<!-- 139806828964160&#45;&gt;139806828965024_* -->\n",
       "<g id=\"edge2\" class=\"edge\">\n",
       "<title>139806828964160&#45;&gt;139806828965024_*</title>\n",
       "<path fill=\"none\" stroke=\"black\" d=\"M75.18,-106.62C85.27,-102.11 96.12,-97.26 105.86,-92.91\"/>\n",
       "<polygon fill=\"black\" stroke=\"black\" points=\"107.47,-96.02 115.17,-88.75 104.62,-89.63 107.47,-96.02\"/>\n",
       "</g>\n",
       "<!-- 139806791564400 -->\n",
       "<g id=\"node4\" class=\"node\">\n",
       "<title>139806791564400</title>\n",
       "<polygon fill=\"none\" stroke=\"black\" points=\"0,-0.5 0,-69.5 75,-69.5 75,-0.5 0,-0.5\"/>\n",
       "<text text-anchor=\"middle\" x=\"37.5\" y=\"-54.3\" font-family=\"Times,serif\" font-size=\"14.00\">b</text>\n",
       "<polyline fill=\"none\" stroke=\"black\" points=\"0,-46.5 75,-46.5 \"/>\n",
       "<text text-anchor=\"middle\" x=\"37.5\" y=\"-31.3\" font-family=\"Times,serif\" font-size=\"14.00\">data 3.0</text>\n",
       "<polyline fill=\"none\" stroke=\"black\" points=\"0,-23.5 75,-23.5 \"/>\n",
       "<text text-anchor=\"middle\" x=\"37.5\" y=\"-8.3\" font-family=\"Times,serif\" font-size=\"14.00\">grad 0</text>\n",
       "</g>\n",
       "<!-- 139806791564400&#45;&gt;139806828965024_* -->\n",
       "<g id=\"edge3\" class=\"edge\">\n",
       "<title>139806791564400&#45;&gt;139806828965024_*</title>\n",
       "<path fill=\"none\" stroke=\"black\" d=\"M75.18,-51.38C85.27,-55.89 96.12,-60.74 105.86,-65.09\"/>\n",
       "<polygon fill=\"black\" stroke=\"black\" points=\"104.62,-68.37 115.17,-69.25 107.47,-61.98 104.62,-68.37\"/>\n",
       "</g>\n",
       "</g>\n",
       "</svg>\n"
      ],
      "text/plain": [
       "<graphviz.graphs.Digraph at 0x7f274e279460>"
      ]
     },
     "execution_count": 9,
     "metadata": {},
     "output_type": "execute_result"
    }
   ],
   "source": [
    "draw_graph(c)"
   ]
  },
  {
   "cell_type": "code",
   "execution_count": 10,
   "id": "5682b478",
   "metadata": {},
   "outputs": [],
   "source": [
    "a = Value(2.0, 'a')\n",
    "b = Value(-3.0, 'b')\n",
    "c = Value(10.0, 'c')\n",
    "e = a * b; e.label = 'e'\n",
    "d = e + c; d.label = 'd'\n",
    "f = Value(-2, 'f')\n",
    "L = d * f; L.label = 'L'"
   ]
  },
  {
   "cell_type": "code",
   "execution_count": 11,
   "id": "62b073f1",
   "metadata": {
    "scrolled": true
   },
   "outputs": [
    {
     "data": {
      "image/svg+xml": [
       "<?xml version=\"1.0\" encoding=\"UTF-8\" standalone=\"no\"?>\n",
       "<!DOCTYPE svg PUBLIC \"-//W3C//DTD SVG 1.1//EN\"\n",
       " \"http://www.w3.org/Graphics/SVG/1.1/DTD/svg11.dtd\">\n",
       "<!-- Generated by graphviz version 2.43.0 (0)\n",
       " -->\n",
       "<!-- Title: %3 Pages: 1 -->\n",
       "<svg width=\"705pt\" height=\"210pt\"\n",
       " viewBox=\"0.00 0.00 705.00 210.00\" xmlns=\"http://www.w3.org/2000/svg\" xmlns:xlink=\"http://www.w3.org/1999/xlink\">\n",
       "<g id=\"graph0\" class=\"graph\" transform=\"scale(1 1) rotate(0) translate(4 206)\">\n",
       "<title>%3</title>\n",
       "<polygon fill=\"white\" stroke=\"transparent\" points=\"-4,4 -4,-206 701,-206 701,4 -4,4\"/>\n",
       "<!-- 139806791669264 -->\n",
       "<g id=\"node1\" class=\"node\">\n",
       "<title>139806791669264</title>\n",
       "<polygon fill=\"none\" stroke=\"black\" points=\"420.5,-132.5 420.5,-201.5 486.5,-201.5 486.5,-132.5 420.5,-132.5\"/>\n",
       "<text text-anchor=\"middle\" x=\"453.5\" y=\"-186.3\" font-family=\"Times,serif\" font-size=\"14.00\">f</text>\n",
       "<polyline fill=\"none\" stroke=\"black\" points=\"420.5,-178.5 486.5,-178.5 \"/>\n",
       "<text text-anchor=\"middle\" x=\"453.5\" y=\"-163.3\" font-family=\"Times,serif\" font-size=\"14.00\">data &#45;2</text>\n",
       "<polyline fill=\"none\" stroke=\"black\" points=\"420.5,-155.5 486.5,-155.5 \"/>\n",
       "<text text-anchor=\"middle\" x=\"453.5\" y=\"-140.3\" font-family=\"Times,serif\" font-size=\"14.00\">grad 0</text>\n",
       "</g>\n",
       "<!-- 139806791668064_* -->\n",
       "<g id=\"node7\" class=\"node\">\n",
       "<title>139806791668064_*</title>\n",
       "<ellipse fill=\"none\" stroke=\"black\" cx=\"554\" cy=\"-123\" rx=\"27\" ry=\"18\"/>\n",
       "<text text-anchor=\"middle\" x=\"554\" y=\"-119.3\" font-family=\"Times,serif\" font-size=\"14.00\">*</text>\n",
       "</g>\n",
       "<!-- 139806791669264&#45;&gt;139806791668064_* -->\n",
       "<g id=\"edge4\" class=\"edge\">\n",
       "<title>139806791669264&#45;&gt;139806791668064_*</title>\n",
       "<path fill=\"none\" stroke=\"black\" d=\"M486.75,-152.59C498.04,-147.55 510.67,-141.91 521.86,-136.91\"/>\n",
       "<polygon fill=\"black\" stroke=\"black\" points=\"523.55,-139.99 531.25,-132.71 520.7,-133.6 523.55,-139.99\"/>\n",
       "</g>\n",
       "<!-- 139806791668304 -->\n",
       "<g id=\"node2\" class=\"node\">\n",
       "<title>139806791668304</title>\n",
       "<polygon fill=\"none\" stroke=\"black\" points=\"208,-88.5 208,-157.5 288,-157.5 288,-88.5 208,-88.5\"/>\n",
       "<text text-anchor=\"middle\" x=\"248\" y=\"-142.3\" font-family=\"Times,serif\" font-size=\"14.00\">e</text>\n",
       "<polyline fill=\"none\" stroke=\"black\" points=\"208,-134.5 288,-134.5 \"/>\n",
       "<text text-anchor=\"middle\" x=\"248\" y=\"-119.3\" font-family=\"Times,serif\" font-size=\"14.00\">data &#45;6.0</text>\n",
       "<polyline fill=\"none\" stroke=\"black\" points=\"208,-111.5 288,-111.5 \"/>\n",
       "<text text-anchor=\"middle\" x=\"248\" y=\"-96.3\" font-family=\"Times,serif\" font-size=\"14.00\">grad 0</text>\n",
       "</g>\n",
       "<!-- 139806791669744_+ -->\n",
       "<g id=\"node10\" class=\"node\">\n",
       "<title>139806791669744_+</title>\n",
       "<ellipse fill=\"none\" stroke=\"black\" cx=\"353\" cy=\"-79\" rx=\"27\" ry=\"18\"/>\n",
       "<text text-anchor=\"middle\" x=\"353\" y=\"-75.3\" font-family=\"Times,serif\" font-size=\"14.00\">+</text>\n",
       "</g>\n",
       "<!-- 139806791668304&#45;&gt;139806791669744_+ -->\n",
       "<g id=\"edge7\" class=\"edge\">\n",
       "<title>139806791668304&#45;&gt;139806791669744_+</title>\n",
       "<path fill=\"none\" stroke=\"black\" d=\"M288.23,-106.24C298.92,-101.68 310.35,-96.79 320.54,-92.44\"/>\n",
       "<polygon fill=\"black\" stroke=\"black\" points=\"322.05,-95.6 329.87,-88.45 319.3,-89.16 322.05,-95.6\"/>\n",
       "</g>\n",
       "<!-- 139806791668304_* -->\n",
       "<g id=\"node3\" class=\"node\">\n",
       "<title>139806791668304_*</title>\n",
       "<ellipse fill=\"none\" stroke=\"black\" cx=\"143\" cy=\"-123\" rx=\"27\" ry=\"18\"/>\n",
       "<text text-anchor=\"middle\" x=\"143\" y=\"-119.3\" font-family=\"Times,serif\" font-size=\"14.00\">*</text>\n",
       "</g>\n",
       "<!-- 139806791668304_*&#45;&gt;139806791668304 -->\n",
       "<g id=\"edge1\" class=\"edge\">\n",
       "<title>139806791668304_*&#45;&gt;139806791668304</title>\n",
       "<path fill=\"none\" stroke=\"black\" d=\"M170.26,-123C178.66,-123 188.26,-123 197.75,-123\"/>\n",
       "<polygon fill=\"black\" stroke=\"black\" points=\"197.95,-126.5 207.95,-123 197.95,-119.5 197.95,-126.5\"/>\n",
       "</g>\n",
       "<!-- 139806791668352 -->\n",
       "<g id=\"node4\" class=\"node\">\n",
       "<title>139806791668352</title>\n",
       "<polygon fill=\"none\" stroke=\"black\" points=\"2.5,-132.5 2.5,-201.5 77.5,-201.5 77.5,-132.5 2.5,-132.5\"/>\n",
       "<text text-anchor=\"middle\" x=\"40\" y=\"-186.3\" font-family=\"Times,serif\" font-size=\"14.00\">a</text>\n",
       "<polyline fill=\"none\" stroke=\"black\" points=\"2.5,-178.5 77.5,-178.5 \"/>\n",
       "<text text-anchor=\"middle\" x=\"40\" y=\"-163.3\" font-family=\"Times,serif\" font-size=\"14.00\">data 2.0</text>\n",
       "<polyline fill=\"none\" stroke=\"black\" points=\"2.5,-155.5 77.5,-155.5 \"/>\n",
       "<text text-anchor=\"middle\" x=\"40\" y=\"-140.3\" font-family=\"Times,serif\" font-size=\"14.00\">grad 0</text>\n",
       "</g>\n",
       "<!-- 139806791668352&#45;&gt;139806791668304_* -->\n",
       "<g id=\"edge8\" class=\"edge\">\n",
       "<title>139806791668352&#45;&gt;139806791668304_*</title>\n",
       "<path fill=\"none\" stroke=\"black\" d=\"M77.75,-150.99C88.43,-146.34 100.01,-141.29 110.35,-136.79\"/>\n",
       "<polygon fill=\"black\" stroke=\"black\" points=\"112.05,-139.86 119.82,-132.66 109.26,-133.45 112.05,-139.86\"/>\n",
       "</g>\n",
       "<!-- 139806791668448 -->\n",
       "<g id=\"node5\" class=\"node\">\n",
       "<title>139806791668448</title>\n",
       "<polygon fill=\"none\" stroke=\"black\" points=\"206,-0.5 206,-69.5 290,-69.5 290,-0.5 206,-0.5\"/>\n",
       "<text text-anchor=\"middle\" x=\"248\" y=\"-54.3\" font-family=\"Times,serif\" font-size=\"14.00\">c</text>\n",
       "<polyline fill=\"none\" stroke=\"black\" points=\"206,-46.5 290,-46.5 \"/>\n",
       "<text text-anchor=\"middle\" x=\"248\" y=\"-31.3\" font-family=\"Times,serif\" font-size=\"14.00\">data 10.0</text>\n",
       "<polyline fill=\"none\" stroke=\"black\" points=\"206,-23.5 290,-23.5 \"/>\n",
       "<text text-anchor=\"middle\" x=\"248\" y=\"-8.3\" font-family=\"Times,serif\" font-size=\"14.00\">grad 0</text>\n",
       "</g>\n",
       "<!-- 139806791668448&#45;&gt;139806791669744_+ -->\n",
       "<g id=\"edge5\" class=\"edge\">\n",
       "<title>139806791668448&#45;&gt;139806791669744_+</title>\n",
       "<path fill=\"none\" stroke=\"black\" d=\"M290,-52.52C300.19,-56.87 310.94,-61.46 320.58,-65.58\"/>\n",
       "<polygon fill=\"black\" stroke=\"black\" points=\"319.22,-68.8 329.79,-69.51 321.97,-62.36 319.22,-68.8\"/>\n",
       "</g>\n",
       "<!-- 139806791668064 -->\n",
       "<g id=\"node6\" class=\"node\">\n",
       "<title>139806791668064</title>\n",
       "<polygon fill=\"none\" stroke=\"black\" points=\"617,-88.5 617,-157.5 697,-157.5 697,-88.5 617,-88.5\"/>\n",
       "<text text-anchor=\"middle\" x=\"657\" y=\"-142.3\" font-family=\"Times,serif\" font-size=\"14.00\">L</text>\n",
       "<polyline fill=\"none\" stroke=\"black\" points=\"617,-134.5 697,-134.5 \"/>\n",
       "<text text-anchor=\"middle\" x=\"657\" y=\"-119.3\" font-family=\"Times,serif\" font-size=\"14.00\">data &#45;8.0</text>\n",
       "<polyline fill=\"none\" stroke=\"black\" points=\"617,-111.5 697,-111.5 \"/>\n",
       "<text text-anchor=\"middle\" x=\"657\" y=\"-96.3\" font-family=\"Times,serif\" font-size=\"14.00\">grad 0</text>\n",
       "</g>\n",
       "<!-- 139806791668064_*&#45;&gt;139806791668064 -->\n",
       "<g id=\"edge2\" class=\"edge\">\n",
       "<title>139806791668064_*&#45;&gt;139806791668064</title>\n",
       "<path fill=\"none\" stroke=\"black\" d=\"M581.01,-123C588.82,-123 597.67,-123 606.48,-123\"/>\n",
       "<polygon fill=\"black\" stroke=\"black\" points=\"606.73,-126.5 616.73,-123 606.73,-119.5 606.73,-126.5\"/>\n",
       "</g>\n",
       "<!-- 139806791668592 -->\n",
       "<g id=\"node8\" class=\"node\">\n",
       "<title>139806791668592</title>\n",
       "<polygon fill=\"none\" stroke=\"black\" points=\"0,-44.5 0,-113.5 80,-113.5 80,-44.5 0,-44.5\"/>\n",
       "<text text-anchor=\"middle\" x=\"40\" y=\"-98.3\" font-family=\"Times,serif\" font-size=\"14.00\">b</text>\n",
       "<polyline fill=\"none\" stroke=\"black\" points=\"0,-90.5 80,-90.5 \"/>\n",
       "<text text-anchor=\"middle\" x=\"40\" y=\"-75.3\" font-family=\"Times,serif\" font-size=\"14.00\">data &#45;3.0</text>\n",
       "<polyline fill=\"none\" stroke=\"black\" points=\"0,-67.5 80,-67.5 \"/>\n",
       "<text text-anchor=\"middle\" x=\"40\" y=\"-52.3\" font-family=\"Times,serif\" font-size=\"14.00\">grad 0</text>\n",
       "</g>\n",
       "<!-- 139806791668592&#45;&gt;139806791668304_* -->\n",
       "<g id=\"edge6\" class=\"edge\">\n",
       "<title>139806791668592&#45;&gt;139806791668304_*</title>\n",
       "<path fill=\"none\" stroke=\"black\" d=\"M80.05,-96.01C90.21,-100.44 101.02,-105.15 110.72,-109.37\"/>\n",
       "<polygon fill=\"black\" stroke=\"black\" points=\"109.42,-112.62 119.98,-113.41 112.21,-106.21 109.42,-112.62\"/>\n",
       "</g>\n",
       "<!-- 139806791669744 -->\n",
       "<g id=\"node9\" class=\"node\">\n",
       "<title>139806791669744</title>\n",
       "<polygon fill=\"none\" stroke=\"black\" points=\"416,-44.5 416,-113.5 491,-113.5 491,-44.5 416,-44.5\"/>\n",
       "<text text-anchor=\"middle\" x=\"453.5\" y=\"-98.3\" font-family=\"Times,serif\" font-size=\"14.00\">d</text>\n",
       "<polyline fill=\"none\" stroke=\"black\" points=\"416,-90.5 491,-90.5 \"/>\n",
       "<text text-anchor=\"middle\" x=\"453.5\" y=\"-75.3\" font-family=\"Times,serif\" font-size=\"14.00\">data 4.0</text>\n",
       "<polyline fill=\"none\" stroke=\"black\" points=\"416,-67.5 491,-67.5 \"/>\n",
       "<text text-anchor=\"middle\" x=\"453.5\" y=\"-52.3\" font-family=\"Times,serif\" font-size=\"14.00\">grad 0</text>\n",
       "</g>\n",
       "<!-- 139806791669744&#45;&gt;139806791668064_* -->\n",
       "<g id=\"edge9\" class=\"edge\">\n",
       "<title>139806791669744&#45;&gt;139806791668064_*</title>\n",
       "<path fill=\"none\" stroke=\"black\" d=\"M491.18,-95.38C501.27,-99.89 512.12,-104.74 521.86,-109.09\"/>\n",
       "<polygon fill=\"black\" stroke=\"black\" points=\"520.62,-112.37 531.17,-113.25 523.47,-105.98 520.62,-112.37\"/>\n",
       "</g>\n",
       "<!-- 139806791669744_+&#45;&gt;139806791669744 -->\n",
       "<g id=\"edge3\" class=\"edge\">\n",
       "<title>139806791669744_+&#45;&gt;139806791669744</title>\n",
       "<path fill=\"none\" stroke=\"black\" d=\"M380.14,-79C388,-79 396.89,-79 405.66,-79\"/>\n",
       "<polygon fill=\"black\" stroke=\"black\" points=\"405.86,-82.5 415.86,-79 405.86,-75.5 405.86,-82.5\"/>\n",
       "</g>\n",
       "</g>\n",
       "</svg>\n"
      ],
      "text/plain": [
       "<graphviz.graphs.Digraph at 0x7f274e2854c0>"
      ]
     },
     "execution_count": 11,
     "metadata": {},
     "output_type": "execute_result"
    }
   ],
   "source": [
    "draw_graph(L)"
   ]
  },
  {
   "cell_type": "code",
   "execution_count": 12,
   "id": "76cc0650",
   "metadata": {},
   "outputs": [],
   "source": [
    "L.grad = 1.\n",
    "f.grad = 4.\n",
    "d.grad = -2.\n",
    "e.grad = -2.\n",
    "c.grad = -2.\n",
    "a.grad = 6\n",
    "b.grad = -4"
   ]
  },
  {
   "cell_type": "code",
   "execution_count": 13,
   "id": "0101497a",
   "metadata": {},
   "outputs": [
    {
     "data": {
      "image/svg+xml": [
       "<?xml version=\"1.0\" encoding=\"UTF-8\" standalone=\"no\"?>\n",
       "<!DOCTYPE svg PUBLIC \"-//W3C//DTD SVG 1.1//EN\"\n",
       " \"http://www.w3.org/Graphics/SVG/1.1/DTD/svg11.dtd\">\n",
       "<!-- Generated by graphviz version 2.43.0 (0)\n",
       " -->\n",
       "<!-- Title: %3 Pages: 1 -->\n",
       "<svg width=\"809pt\" height=\"254pt\"\n",
       " viewBox=\"0.00 0.00 809.00 254.00\" xmlns=\"http://www.w3.org/2000/svg\" xmlns:xlink=\"http://www.w3.org/1999/xlink\">\n",
       "<g id=\"graph0\" class=\"graph\" transform=\"scale(1 1) rotate(0) translate(4 250)\">\n",
       "<title>%3</title>\n",
       "<polygon fill=\"white\" stroke=\"transparent\" points=\"-4,4 -4,-250 805,-250 805,4 -4,4\"/>\n",
       "<!-- 139806791669264 -->\n",
       "<g id=\"node1\" class=\"node\">\n",
       "<title>139806791669264</title>\n",
       "<polygon fill=\"none\" stroke=\"black\" points=\"454.5,-176.5 454.5,-245.5 543.5,-245.5 543.5,-176.5 454.5,-176.5\"/>\n",
       "<text text-anchor=\"middle\" x=\"499\" y=\"-230.3\" font-family=\"Times,serif\" font-size=\"14.00\">f</text>\n",
       "<polyline fill=\"none\" stroke=\"black\" points=\"454.5,-222.5 543.5,-222.5 \"/>\n",
       "<text text-anchor=\"middle\" x=\"499\" y=\"-207.3\" font-family=\"Times,serif\" font-size=\"14.00\">data &#45;1.96</text>\n",
       "<polyline fill=\"none\" stroke=\"black\" points=\"454.5,-199.5 543.5,-199.5 \"/>\n",
       "<text text-anchor=\"middle\" x=\"499\" y=\"-184.3\" font-family=\"Times,serif\" font-size=\"14.00\">grad 4.0</text>\n",
       "</g>\n",
       "<!-- 139806790456224_* -->\n",
       "<g id=\"node8\" class=\"node\">\n",
       "<title>139806790456224_*</title>\n",
       "<ellipse fill=\"none\" stroke=\"black\" cx=\"613\" cy=\"-167\" rx=\"27\" ry=\"18\"/>\n",
       "<text text-anchor=\"middle\" x=\"613\" y=\"-163.3\" font-family=\"Times,serif\" font-size=\"14.00\">*</text>\n",
       "</g>\n",
       "<!-- 139806791669264&#45;&gt;139806790456224_* -->\n",
       "<g id=\"edge4\" class=\"edge\">\n",
       "<title>139806791669264&#45;&gt;139806790456224_*</title>\n",
       "<path fill=\"none\" stroke=\"black\" d=\"M543.62,-193.86C555.69,-189.12 568.56,-184.06 579.85,-179.63\"/>\n",
       "<polygon fill=\"black\" stroke=\"black\" points=\"581.27,-182.83 589.3,-175.92 578.71,-176.32 581.27,-182.83\"/>\n",
       "</g>\n",
       "<!-- 139806791668352 -->\n",
       "<g id=\"node2\" class=\"node\">\n",
       "<title>139806791668352</title>\n",
       "<polygon fill=\"none\" stroke=\"black\" points=\"2.5,-88.5 2.5,-157.5 86.5,-157.5 86.5,-88.5 2.5,-88.5\"/>\n",
       "<text text-anchor=\"middle\" x=\"44.5\" y=\"-142.3\" font-family=\"Times,serif\" font-size=\"14.00\">a</text>\n",
       "<polyline fill=\"none\" stroke=\"black\" points=\"2.5,-134.5 86.5,-134.5 \"/>\n",
       "<text text-anchor=\"middle\" x=\"44.5\" y=\"-119.3\" font-family=\"Times,serif\" font-size=\"14.00\">data 2.06</text>\n",
       "<polyline fill=\"none\" stroke=\"black\" points=\"2.5,-111.5 86.5,-111.5 \"/>\n",
       "<text text-anchor=\"middle\" x=\"44.5\" y=\"-96.3\" font-family=\"Times,serif\" font-size=\"14.00\">grad 6</text>\n",
       "</g>\n",
       "<!-- 139806791668112_* -->\n",
       "<g id=\"node6\" class=\"node\">\n",
       "<title>139806791668112_*</title>\n",
       "<ellipse fill=\"none\" stroke=\"black\" cx=\"152\" cy=\"-79\" rx=\"27\" ry=\"18\"/>\n",
       "<text text-anchor=\"middle\" x=\"152\" y=\"-75.3\" font-family=\"Times,serif\" font-size=\"14.00\">*</text>\n",
       "</g>\n",
       "<!-- 139806791668352&#45;&gt;139806791668112_* -->\n",
       "<g id=\"edge6\" class=\"edge\">\n",
       "<title>139806791668352&#45;&gt;139806791668112_*</title>\n",
       "<path fill=\"none\" stroke=\"black\" d=\"M86.59,-105.86C97.46,-101.33 109.03,-96.5 119.32,-92.21\"/>\n",
       "<polygon fill=\"black\" stroke=\"black\" points=\"120.85,-95.37 128.73,-88.29 118.15,-88.91 120.85,-95.37\"/>\n",
       "</g>\n",
       "<!-- 139806791668448 -->\n",
       "<g id=\"node3\" class=\"node\">\n",
       "<title>139806791668448</title>\n",
       "<polygon fill=\"none\" stroke=\"black\" points=\"226.5,-132.5 226.5,-201.5 310.5,-201.5 310.5,-132.5 226.5,-132.5\"/>\n",
       "<text text-anchor=\"middle\" x=\"268.5\" y=\"-186.3\" font-family=\"Times,serif\" font-size=\"14.00\">c</text>\n",
       "<polyline fill=\"none\" stroke=\"black\" points=\"226.5,-178.5 310.5,-178.5 \"/>\n",
       "<text text-anchor=\"middle\" x=\"268.5\" y=\"-163.3\" font-family=\"Times,serif\" font-size=\"14.00\">data 9.98</text>\n",
       "<polyline fill=\"none\" stroke=\"black\" points=\"226.5,-155.5 310.5,-155.5 \"/>\n",
       "<text text-anchor=\"middle\" x=\"268.5\" y=\"-140.3\" font-family=\"Times,serif\" font-size=\"14.00\">grad &#45;2.0</text>\n",
       "</g>\n",
       "<!-- 139806791717840_+ -->\n",
       "<g id=\"node10\" class=\"node\">\n",
       "<title>139806791717840_+</title>\n",
       "<ellipse fill=\"none\" stroke=\"black\" cx=\"385\" cy=\"-123\" rx=\"27\" ry=\"18\"/>\n",
       "<text text-anchor=\"middle\" x=\"385\" y=\"-119.3\" font-family=\"Times,serif\" font-size=\"14.00\">+</text>\n",
       "</g>\n",
       "<!-- 139806791668448&#45;&gt;139806791717840_+ -->\n",
       "<g id=\"edge8\" class=\"edge\">\n",
       "<title>139806791668448&#45;&gt;139806791717840_+</title>\n",
       "<path fill=\"none\" stroke=\"black\" d=\"M310.51,-151.24C324.12,-146.01 339.05,-140.27 351.88,-135.34\"/>\n",
       "<polygon fill=\"black\" stroke=\"black\" points=\"353.15,-138.6 361.23,-131.75 350.64,-132.07 353.15,-138.6\"/>\n",
       "</g>\n",
       "<!-- 139806791668592 -->\n",
       "<g id=\"node4\" class=\"node\">\n",
       "<title>139806791668592</title>\n",
       "<polygon fill=\"none\" stroke=\"black\" points=\"0,-0.5 0,-69.5 89,-69.5 89,-0.5 0,-0.5\"/>\n",
       "<text text-anchor=\"middle\" x=\"44.5\" y=\"-54.3\" font-family=\"Times,serif\" font-size=\"14.00\">b</text>\n",
       "<polyline fill=\"none\" stroke=\"black\" points=\"0,-46.5 89,-46.5 \"/>\n",
       "<text text-anchor=\"middle\" x=\"44.5\" y=\"-31.3\" font-family=\"Times,serif\" font-size=\"14.00\">data &#45;3.04</text>\n",
       "<polyline fill=\"none\" stroke=\"black\" points=\"0,-23.5 89,-23.5 \"/>\n",
       "<text text-anchor=\"middle\" x=\"44.5\" y=\"-8.3\" font-family=\"Times,serif\" font-size=\"14.00\">grad &#45;4</text>\n",
       "</g>\n",
       "<!-- 139806791668592&#45;&gt;139806791668112_* -->\n",
       "<g id=\"edge7\" class=\"edge\">\n",
       "<title>139806791668592&#45;&gt;139806791668112_*</title>\n",
       "<path fill=\"none\" stroke=\"black\" d=\"M89.02,-53.15C99.13,-57.37 109.71,-61.78 119.2,-65.74\"/>\n",
       "<polygon fill=\"black\" stroke=\"black\" points=\"118.07,-69.06 128.64,-69.68 120.76,-62.6 118.07,-69.06\"/>\n",
       "</g>\n",
       "<!-- 139806791668112 -->\n",
       "<g id=\"node5\" class=\"node\">\n",
       "<title>139806791668112</title>\n",
       "<polygon fill=\"none\" stroke=\"black\" points=\"215,-44.5 215,-113.5 322,-113.5 322,-44.5 215,-44.5\"/>\n",
       "<text text-anchor=\"middle\" x=\"268.5\" y=\"-98.3\" font-family=\"Times,serif\" font-size=\"14.00\">e</text>\n",
       "<polyline fill=\"none\" stroke=\"black\" points=\"215,-90.5 322,-90.5 \"/>\n",
       "<text text-anchor=\"middle\" x=\"268.5\" y=\"-75.3\" font-family=\"Times,serif\" font-size=\"14.00\">data &#45;6.2624</text>\n",
       "<polyline fill=\"none\" stroke=\"black\" points=\"215,-67.5 322,-67.5 \"/>\n",
       "<text text-anchor=\"middle\" x=\"268.5\" y=\"-52.3\" font-family=\"Times,serif\" font-size=\"14.00\">grad 0</text>\n",
       "</g>\n",
       "<!-- 139806791668112&#45;&gt;139806791717840_+ -->\n",
       "<g id=\"edge9\" class=\"edge\">\n",
       "<title>139806791668112&#45;&gt;139806791717840_+</title>\n",
       "<path fill=\"none\" stroke=\"black\" d=\"M322.06,-99.2C332.16,-103.08 342.46,-107.04 351.68,-110.58\"/>\n",
       "<polygon fill=\"black\" stroke=\"black\" points=\"350.62,-113.92 361.21,-114.24 353.13,-107.39 350.62,-113.92\"/>\n",
       "</g>\n",
       "<!-- 139806791668112_*&#45;&gt;139806791668112 -->\n",
       "<g id=\"edge1\" class=\"edge\">\n",
       "<title>139806791668112_*&#45;&gt;139806791668112</title>\n",
       "<path fill=\"none\" stroke=\"black\" d=\"M179.27,-79C186.94,-79 195.68,-79 204.61,-79\"/>\n",
       "<polygon fill=\"black\" stroke=\"black\" points=\"204.71,-82.5 214.71,-79 204.71,-75.5 204.71,-82.5\"/>\n",
       "</g>\n",
       "<!-- 139806790456224 -->\n",
       "<g id=\"node7\" class=\"node\">\n",
       "<title>139806790456224</title>\n",
       "<polygon fill=\"none\" stroke=\"black\" points=\"676,-132.5 676,-201.5 801,-201.5 801,-132.5 676,-132.5\"/>\n",
       "<text text-anchor=\"middle\" x=\"738.5\" y=\"-186.3\" font-family=\"Times,serif\" font-size=\"14.00\">L</text>\n",
       "<polyline fill=\"none\" stroke=\"black\" points=\"676,-178.5 801,-178.5 \"/>\n",
       "<text text-anchor=\"middle\" x=\"738.5\" y=\"-163.3\" font-family=\"Times,serif\" font-size=\"14.00\">data &#45;7.286496</text>\n",
       "<polyline fill=\"none\" stroke=\"black\" points=\"676,-155.5 801,-155.5 \"/>\n",
       "<text text-anchor=\"middle\" x=\"738.5\" y=\"-140.3\" font-family=\"Times,serif\" font-size=\"14.00\">grad 0</text>\n",
       "</g>\n",
       "<!-- 139806790456224_*&#45;&gt;139806790456224 -->\n",
       "<g id=\"edge2\" class=\"edge\">\n",
       "<title>139806790456224_*&#45;&gt;139806790456224</title>\n",
       "<path fill=\"none\" stroke=\"black\" d=\"M640.19,-167C647.8,-167 656.51,-167 665.52,-167\"/>\n",
       "<polygon fill=\"black\" stroke=\"black\" points=\"665.77,-170.5 675.77,-167 665.77,-163.5 665.77,-170.5\"/>\n",
       "</g>\n",
       "<!-- 139806791717840 -->\n",
       "<g id=\"node9\" class=\"node\">\n",
       "<title>139806791717840</title>\n",
       "<polygon fill=\"none\" stroke=\"black\" points=\"448,-88.5 448,-157.5 550,-157.5 550,-88.5 448,-88.5\"/>\n",
       "<text text-anchor=\"middle\" x=\"499\" y=\"-142.3\" font-family=\"Times,serif\" font-size=\"14.00\">d</text>\n",
       "<polyline fill=\"none\" stroke=\"black\" points=\"448,-134.5 550,-134.5 \"/>\n",
       "<text text-anchor=\"middle\" x=\"499\" y=\"-119.3\" font-family=\"Times,serif\" font-size=\"14.00\">data 3.7176</text>\n",
       "<polyline fill=\"none\" stroke=\"black\" points=\"448,-111.5 550,-111.5 \"/>\n",
       "<text text-anchor=\"middle\" x=\"499\" y=\"-96.3\" font-family=\"Times,serif\" font-size=\"14.00\">grad 0</text>\n",
       "</g>\n",
       "<!-- 139806791717840&#45;&gt;139806790456224_* -->\n",
       "<g id=\"edge5\" class=\"edge\">\n",
       "<title>139806791717840&#45;&gt;139806790456224_*</title>\n",
       "<path fill=\"none\" stroke=\"black\" d=\"M550.1,-142.68C560.2,-146.65 570.55,-150.72 579.83,-154.36\"/>\n",
       "<polygon fill=\"black\" stroke=\"black\" points=\"578.83,-157.73 589.42,-158.13 581.39,-151.21 578.83,-157.73\"/>\n",
       "</g>\n",
       "<!-- 139806791717840_+&#45;&gt;139806791717840 -->\n",
       "<g id=\"edge3\" class=\"edge\">\n",
       "<title>139806791717840_+&#45;&gt;139806791717840</title>\n",
       "<path fill=\"none\" stroke=\"black\" d=\"M412.26,-123C419.96,-123 428.73,-123 437.64,-123\"/>\n",
       "<polygon fill=\"black\" stroke=\"black\" points=\"437.71,-126.5 447.71,-123 437.71,-119.5 437.71,-126.5\"/>\n",
       "</g>\n",
       "</g>\n",
       "</svg>\n"
      ],
      "text/plain": [
       "<graphviz.graphs.Digraph at 0x7f274e1512e0>"
      ]
     },
     "execution_count": 13,
     "metadata": {},
     "output_type": "execute_result"
    }
   ],
   "source": [
    "# adjust value base on grad to increase L\n",
    "alpha = 0.01\n",
    "a.data += a.grad * alpha\n",
    "b.data += b.grad * alpha\n",
    "c.data += c.grad * alpha\n",
    "f.data += f.grad * alpha\n",
    "\n",
    "e = a * b; e.label = 'e'\n",
    "d = e + c; d.label = 'd'\n",
    "\n",
    "L = d * f; L.label = 'L'\n",
    "draw_graph(L)"
   ]
  },
  {
   "cell_type": "code",
   "execution_count": 14,
   "id": "06ff24e1",
   "metadata": {},
   "outputs": [
    {
     "name": "stdout",
     "output_type": "stream",
     "text": [
      "-4.000000000008441\n"
     ]
    }
   ],
   "source": [
    "def lol():\n",
    "    h = 0.0001\n",
    "    \n",
    "    a = Value(2.0, 'a')\n",
    "    b = Value(-3.0, 'b')\n",
    "    c = Value(10.0, 'c')\n",
    "    e = a * b; e.label = 'e'\n",
    "    d = e + c; d.label = 'd'\n",
    "    f = Value(-2, 'f')\n",
    "    L1 = d * f\n",
    "    \n",
    "    a = Value(2.0, 'a')\n",
    "    b = Value(-3.0, 'b'); b.data += h\n",
    "    c = Value(10.0, 'c')\n",
    "    e = a * b; e.label = 'e'\n",
    "    d = e + c; d.label = 'd'\n",
    "    f = Value(-2, 'f');\n",
    "    L2 = d * f\n",
    "    \n",
    "    print( (L2.data - L1.data) / h)\n",
    "    \n",
    "lol()"
   ]
  },
  {
   "cell_type": "markdown",
   "id": "79c06268",
   "metadata": {},
   "source": [
    "### Convert this file to md"
   ]
  },
  {
   "cell_type": "code",
   "execution_count": 15,
   "id": "b22ed51d",
   "metadata": {},
   "outputs": [],
   "source": [
    "from IPython.core.display import Javascript"
   ]
  },
  {
   "cell_type": "code",
   "execution_count": 18,
   "id": "862d5b3e",
   "metadata": {},
   "outputs": [
    {
     "data": {
      "application/javascript": [
       "IPython.notebook.kernel.execute('this_notebook = \"' + IPython.notebook.notebook_name + '\"')\n"
      ],
      "text/plain": [
       "<IPython.core.display.Javascript object>"
      ]
     },
     "metadata": {},
     "output_type": "display_data"
    }
   ],
   "source": [
    "%%js\n",
    "IPython.notebook.kernel.execute('this_notebook = \"' + IPython.notebook.notebook_name + '\"')"
   ]
  },
  {
   "cell_type": "code",
   "execution_count": 19,
   "id": "ade82929",
   "metadata": {},
   "outputs": [
    {
     "data": {
      "text/plain": [
       "'2022-11-16-derivative-of-a-simple-function.ipynb'"
      ]
     },
     "execution_count": 19,
     "metadata": {},
     "output_type": "execute_result"
    }
   ],
   "source": [
    "this_notebook"
   ]
  },
  {
   "cell_type": "code",
   "execution_count": 20,
   "id": "af83fddd",
   "metadata": {},
   "outputs": [
    {
     "name": "stdout",
     "output_type": "stream",
     "text": [
      "[NbConvertApp] Converting notebook 2022-11-16-derivative-of-a-simple-function.ipynb to markdown\n",
      "[NbConvertApp] Support files will be in 2022-11-16-derivative-of-a-simple-function_files/\n",
      "[NbConvertApp] Making directory ../_posts/2022-11-16-derivative-of-a-simple-function_files\n",
      "[NbConvertApp] Making directory ../_posts/2022-11-16-derivative-of-a-simple-function_files\n",
      "[NbConvertApp] Writing 3584 bytes to ../_posts/2022-11-16-derivative-of-a-simple-function.md\n"
     ]
    }
   ],
   "source": [
    "!jupyter nbconvert --to markdown {this_notebook} --output-dir=../_posts"
   ]
  }
 ],
 "metadata": {
  "kernelspec": {
   "display_name": "Python 3 (ipykernel)",
   "language": "python",
   "name": "python3"
  },
  "language_info": {
   "codemirror_mode": {
    "name": "ipython",
    "version": 3
   },
   "file_extension": ".py",
   "mimetype": "text/x-python",
   "name": "python",
   "nbconvert_exporter": "python",
   "pygments_lexer": "ipython3",
   "version": "3.8.12"
  }
 },
 "nbformat": 4,
 "nbformat_minor": 5
}
