{
 "cells": [
  {
   "cell_type": "markdown",
   "id": "49e19edd",
   "metadata": {},
   "source": [
    "# Derivative of a simple function"
   ]
  },
  {
   "cell_type": "code",
   "execution_count": 1,
   "id": "c0b2ba7f",
   "metadata": {},
   "outputs": [],
   "source": [
    "import numpy as np\n",
    "import matplotlib.pyplot as plt\n",
    "%matplotlib inline"
   ]
  },
  {
   "cell_type": "code",
   "execution_count": 2,
   "id": "703c84b1",
   "metadata": {},
   "outputs": [],
   "source": [
    "def f(x): return 3*x**2 + 3*x + 1"
   ]
  },
  {
   "cell_type": "code",
   "execution_count": 3,
   "id": "ca854d0c",
   "metadata": {},
   "outputs": [
    {
     "data": {
      "text/plain": [
       "[<matplotlib.lines.Line2D at 0x7f2750329fd0>]"
      ]
     },
     "execution_count": 3,
     "metadata": {},
     "output_type": "execute_result"
    },
    {
     "data": {
      "image/png": "[encoded data removed]",
      "text/plain": [
       "<Figure size 640x480 with 1 Axes>"
      ]
     },
     "metadata": {},
     "output_type": "display_data"
    }
   ],
   "source": [
    "xs = np.arange(-5, 5, 0.25)\n",
    "ys = f(xs)\n",
    "\n",
    "plt.plot(xs, ys)"
   ]
  },
  {
   "cell_type": "code",
   "execution_count": 4,
   "id": "1b1ca28f",
   "metadata": {},
   "outputs": [
    {
     "data": {
      "text/plain": [
       "15.00000300325155"
      ]
     },
     "execution_count": 4,
     "metadata": {},
     "output_type": "execute_result"
    }
   ],
   "source": [
    "# derivative\n",
    "h = 0.000001\n",
    "x = 2\n",
    "(f(x + h) - f(x)) / h"
   ]
  },
  {
   "cell_type": "code",
   "execution_count": 5,
   "id": "f5d1e498",
   "metadata": {},
   "outputs": [
    {
     "data": {
      "text/plain": [
       "-3.000000000419334"
      ]
     },
     "execution_count": 5,
     "metadata": {},
     "output_type": "execute_result"
    }
   ],
   "source": [
    "# les get more complex\n",
    "\n",
    "a = 2\n",
    "b = -3\n",
    "c = 5\n",
    "h = 0.000001\n",
    "\n",
    "d1 = a * b + c\n",
    "a += h\n",
    "d2 = a * b + c\n",
    "(d2 - d1) / h\n"
   ]
  },
  {
   "cell_type": "code",
   "execution_count": 13,
   "id": "f0d39f11",
   "metadata": {},
   "outputs": [],
   "source": [
    "import math\n",
    "\n",
    "class Value():\n",
    "    def __init__(self, data, label='', _children=[], _op=\"\", grad = 0):\n",
    "        self.data = data\n",
    "        self.label = label\n",
    "        self._children = set(_children)\n",
    "        self._op = _op\n",
    "        self.grad = grad\n",
    "    def __repr__(self):\n",
    "        return f\"Value({self.label}={self.data})\"\n",
    "    \n",
    "    def __add__(self, other):\n",
    "        return Value(self.data + other.data, _children=[self, other], _op=\"+\")\n",
    "    \n",
    "    def __mul__(self, other):\n",
    "        return Value(self.data * other.data, _children=[self, other], _op=\"*\")\n",
    "    \n",
    "    def tanh(self):\n",
    "        tanh = math.tanh(self.data)\n",
    "        return Value(tanh, _children=[self, ], _op=\"tanh\")"
   ]
  },
  {
   "cell_type": "code",
   "execution_count": 28,
   "id": "8347fa7f",
   "metadata": {},
   "outputs": [],
   "source": [
    "a = Value(2.0, 'a')\n",
    "b = Value(3.0, 'b')\n",
    "c = a * b; c.label = 'c'\n",
    "o = c.tanh(); o.label = 'o'"
   ]
  },
  {
   "cell_type": "code",
   "execution_count": 29,
   "id": "eb246b96",
   "metadata": {},
   "outputs": [],
   "source": [
    "# plot graph\n",
    "import graphviz\n",
    "\n",
    "def trace(root):\n",
    "    nodes, edges = set(), set()\n",
    "    def build(root):\n",
    "        if root not in nodes:\n",
    "            nodes.add(root)\n",
    "        for v in root._children:\n",
    "            edges.add((v, root))\n",
    "            build(v)\n",
    "    build(root)\n",
    "    return nodes, edges\n",
    "\n",
    "def draw_graph(root):\n",
    "    f = graphviz.Digraph(format='svg', graph_attr={'rankdir':\"LR\"})\n",
    "    nodes, edges = trace(root)\n",
    "    for v in nodes:\n",
    "        f.node(str(id(v)), label=\"{%s|data %s|grad %s}\" %(v.label, v.data, v.grad) , shape='record')\n",
    "        if v._op:\n",
    "            f.node(f'{str(id(v))}_{v._op}', label=f\"{v._op}\")\n",
    "            f.edge(f'{str(id(v))}_{v._op}', str(id(v)))\n",
    "    for v1, v2 in edges:\n",
    "        f.edge(str(id(v1)), f'{str(id(v2))}_{v2._op}')\n",
    "    return f"
   ]
  },
  {
   "cell_type": "code",
   "execution_count": 31,
   "id": "5682b478",
   "metadata": {},
   "outputs": [],
   "source": [
    "a = Value(2.0, 'a')\n",
    "b = Value(-3.0, 'b')\n",
    "c = Value(10.0, 'c')\n",
    "e = a * b; e.label = 'e'\n",
    "d = e + c; d.label = 'd'\n",
    "f = Value(-2, 'f')\n",
    "L = d * f; L.label = 'L'"
   ]
  },
  {
   "cell_type": "code",
   "execution_count": 32,
   "id": "62b073f1",
   "metadata": {
    "scrolled": true
   },
   "outputs": [
    {
     "data": {
      "image/svg+xml": [
       "<?xml version=\"1.0\" encoding=\"UTF-8\" standalone=\"no\"?>\n",
       "<!DOCTYPE svg PUBLIC \"-//W3C//DTD SVG 1.1//EN\"\n",
       " \"http://www.w3.org/Graphics/SVG/1.1/DTD/svg11.dtd\">\n",
       "<!-- Generated by graphviz version 2.43.0 (0)\n",
       " -->\n",
       "<!-- Title: %3 Pages: 1 -->\n",
       "<svg width=\"1059pt\" height=\"154pt\"\n",
       " viewBox=\"0.00 0.00 1059.00 154.00\" xmlns=\"http://www.w3.org/2000/svg\" xmlns:xlink=\"http://www.w3.org/1999/xlink\">\n",
       "<g id=\"graph0\" class=\"graph\" transform=\"scale(1 1) rotate(0) translate(4 150)\">\n",
       "<title>%3</title>\n",
       "<polygon fill=\"white\" stroke=\"transparent\" points=\"-4,4 -4,-150 1055,-150 1055,4 -4,4\"/>\n",
       "<!-- 139708677474384 -->\n",
       "<g id=\"node1\" class=\"node\">\n",
       "<title>139708677474384</title>\n",
       "<polygon fill=\"none\" stroke=\"black\" points=\"296.5,-27.5 296.5,-63.5 464.5,-63.5 464.5,-27.5 296.5,-27.5\"/>\n",
       "<text text-anchor=\"middle\" x=\"309\" y=\"-41.8\" font-family=\"Times,serif\" font-size=\"14.00\">e</text>\n",
       "<polyline fill=\"none\" stroke=\"black\" points=\"321.5,-27.5 321.5,-63.5 \"/>\n",
       "<text text-anchor=\"middle\" x=\"361.5\" y=\"-41.8\" font-family=\"Times,serif\" font-size=\"14.00\">data &#45;6.0</text>\n",
       "<polyline fill=\"none\" stroke=\"black\" points=\"401.5,-27.5 401.5,-63.5 \"/>\n",
       "<text text-anchor=\"middle\" x=\"433\" y=\"-41.8\" font-family=\"Times,serif\" font-size=\"14.00\">grad 0</text>\n",
       "</g>\n",
       "<!-- 139708677475248_+ -->\n",
       "<g id=\"node10\" class=\"node\">\n",
       "<title>139708677475248_+</title>\n",
       "<ellipse fill=\"none\" stroke=\"black\" cx=\"529\" cy=\"-72.5\" rx=\"27\" ry=\"18\"/>\n",
       "<text text-anchor=\"middle\" x=\"529\" y=\"-68.8\" font-family=\"Times,serif\" font-size=\"14.00\">+</text>\n",
       "</g>\n",
       "<!-- 139708677474384&#45;&gt;139708677475248_+ -->\n",
       "<g id=\"edge7\" class=\"edge\">\n",
       "<title>139708677474384&#45;&gt;139708677475248_+</title>\n",
       "<path fill=\"none\" stroke=\"black\" d=\"M464.6,-60.81C474.42,-62.63 484.01,-64.39 492.62,-65.98\"/>\n",
       "<polygon fill=\"black\" stroke=\"black\" points=\"492.14,-69.45 502.61,-67.82 493.41,-62.57 492.14,-69.45\"/>\n",
       "</g>\n",
       "<!-- 139708677474384_* -->\n",
       "<g id=\"node2\" class=\"node\">\n",
       "<title>139708677474384_*</title>\n",
       "<ellipse fill=\"none\" stroke=\"black\" cx=\"232\" cy=\"-45.5\" rx=\"27\" ry=\"18\"/>\n",
       "<text text-anchor=\"middle\" x=\"232\" y=\"-41.8\" font-family=\"Times,serif\" font-size=\"14.00\">*</text>\n",
       "</g>\n",
       "<!-- 139708677474384_*&#45;&gt;139708677474384 -->\n",
       "<g id=\"edge1\" class=\"edge\">\n",
       "<title>139708677474384_*&#45;&gt;139708677474384</title>\n",
       "<path fill=\"none\" stroke=\"black\" d=\"M259.19,-45.5C267.13,-45.5 276.35,-45.5 286.09,-45.5\"/>\n",
       "<polygon fill=\"black\" stroke=\"black\" points=\"286.39,-49 296.39,-45.5 286.39,-42 286.39,-49\"/>\n",
       "</g>\n",
       "<!-- 139708677473904 -->\n",
       "<g id=\"node3\" class=\"node\">\n",
       "<title>139708677473904</title>\n",
       "<polygon fill=\"none\" stroke=\"black\" points=\"882,-81.5 882,-117.5 1051,-117.5 1051,-81.5 882,-81.5\"/>\n",
       "<text text-anchor=\"middle\" x=\"895\" y=\"-95.8\" font-family=\"Times,serif\" font-size=\"14.00\">L</text>\n",
       "<polyline fill=\"none\" stroke=\"black\" points=\"908,-81.5 908,-117.5 \"/>\n",
       "<text text-anchor=\"middle\" x=\"948\" y=\"-95.8\" font-family=\"Times,serif\" font-size=\"14.00\">data &#45;8.0</text>\n",
       "<polyline fill=\"none\" stroke=\"black\" points=\"988,-81.5 988,-117.5 \"/>\n",
       "<text text-anchor=\"middle\" x=\"1019.5\" y=\"-95.8\" font-family=\"Times,serif\" font-size=\"14.00\">grad 0</text>\n",
       "</g>\n",
       "<!-- 139708677473904_* -->\n",
       "<g id=\"node4\" class=\"node\">\n",
       "<title>139708677473904_*</title>\n",
       "<ellipse fill=\"none\" stroke=\"black\" cx=\"819\" cy=\"-99.5\" rx=\"27\" ry=\"18\"/>\n",
       "<text text-anchor=\"middle\" x=\"819\" y=\"-95.8\" font-family=\"Times,serif\" font-size=\"14.00\">*</text>\n",
       "</g>\n",
       "<!-- 139708677473904_*&#45;&gt;139708677473904 -->\n",
       "<g id=\"edge2\" class=\"edge\">\n",
       "<title>139708677473904_*&#45;&gt;139708677473904</title>\n",
       "<path fill=\"none\" stroke=\"black\" d=\"M846.01,-99.5C853.58,-99.5 862.31,-99.5 871.54,-99.5\"/>\n",
       "<polygon fill=\"black\" stroke=\"black\" points=\"871.72,-103 881.72,-99.5 871.72,-96 871.72,-103\"/>\n",
       "</g>\n",
       "<!-- 139708677472896 -->\n",
       "<g id=\"node5\" class=\"node\">\n",
       "<title>139708677472896</title>\n",
       "<polygon fill=\"none\" stroke=\"black\" points=\"3,-55.5 3,-91.5 166,-91.5 166,-55.5 3,-55.5\"/>\n",
       "<text text-anchor=\"middle\" x=\"15.5\" y=\"-69.8\" font-family=\"Times,serif\" font-size=\"14.00\">a</text>\n",
       "<polyline fill=\"none\" stroke=\"black\" points=\"28,-55.5 28,-91.5 \"/>\n",
       "<text text-anchor=\"middle\" x=\"65.5\" y=\"-69.8\" font-family=\"Times,serif\" font-size=\"14.00\">data 2.0</text>\n",
       "<polyline fill=\"none\" stroke=\"black\" points=\"103,-55.5 103,-91.5 \"/>\n",
       "<text text-anchor=\"middle\" x=\"134.5\" y=\"-69.8\" font-family=\"Times,serif\" font-size=\"14.00\">grad 0</text>\n",
       "</g>\n",
       "<!-- 139708677472896&#45;&gt;139708677474384_* -->\n",
       "<g id=\"edge9\" class=\"edge\">\n",
       "<title>139708677472896&#45;&gt;139708677474384_*</title>\n",
       "<path fill=\"none\" stroke=\"black\" d=\"M166.33,-57.94C176.68,-55.95 186.8,-54.01 195.85,-52.26\"/>\n",
       "<polygon fill=\"black\" stroke=\"black\" points=\"196.77,-55.65 205.93,-50.32 195.45,-48.78 196.77,-55.65\"/>\n",
       "</g>\n",
       "<!-- 139708677298400 -->\n",
       "<g id=\"node6\" class=\"node\">\n",
       "<title>139708677298400</title>\n",
       "<polygon fill=\"none\" stroke=\"black\" points=\"598.5,-109.5 598.5,-145.5 749.5,-145.5 749.5,-109.5 598.5,-109.5\"/>\n",
       "<text text-anchor=\"middle\" x=\"609.5\" y=\"-123.8\" font-family=\"Times,serif\" font-size=\"14.00\">f</text>\n",
       "<polyline fill=\"none\" stroke=\"black\" points=\"620.5,-109.5 620.5,-145.5 \"/>\n",
       "<text text-anchor=\"middle\" x=\"653.5\" y=\"-123.8\" font-family=\"Times,serif\" font-size=\"14.00\">data &#45;2</text>\n",
       "<polyline fill=\"none\" stroke=\"black\" points=\"686.5,-109.5 686.5,-145.5 \"/>\n",
       "<text text-anchor=\"middle\" x=\"718\" y=\"-123.8\" font-family=\"Times,serif\" font-size=\"14.00\">grad 0</text>\n",
       "</g>\n",
       "<!-- 139708677298400&#45;&gt;139708677473904_* -->\n",
       "<g id=\"edge6\" class=\"edge\">\n",
       "<title>139708677298400&#45;&gt;139708677473904_*</title>\n",
       "<path fill=\"none\" stroke=\"black\" d=\"M749.85,-112.84C761.39,-110.59 772.8,-108.35 782.9,-106.37\"/>\n",
       "<polygon fill=\"black\" stroke=\"black\" points=\"783.76,-109.77 792.9,-104.42 782.41,-102.9 783.76,-109.77\"/>\n",
       "</g>\n",
       "<!-- 139708677473568 -->\n",
       "<g id=\"node7\" class=\"node\">\n",
       "<title>139708677473568</title>\n",
       "<polygon fill=\"none\" stroke=\"black\" points=\"295,-82.5 295,-118.5 466,-118.5 466,-82.5 295,-82.5\"/>\n",
       "<text text-anchor=\"middle\" x=\"307\" y=\"-96.8\" font-family=\"Times,serif\" font-size=\"14.00\">c</text>\n",
       "<polyline fill=\"none\" stroke=\"black\" points=\"319,-82.5 319,-118.5 \"/>\n",
       "<text text-anchor=\"middle\" x=\"361\" y=\"-96.8\" font-family=\"Times,serif\" font-size=\"14.00\">data 10.0</text>\n",
       "<polyline fill=\"none\" stroke=\"black\" points=\"403,-82.5 403,-118.5 \"/>\n",
       "<text text-anchor=\"middle\" x=\"434.5\" y=\"-96.8\" font-family=\"Times,serif\" font-size=\"14.00\">grad 0</text>\n",
       "</g>\n",
       "<!-- 139708677473568&#45;&gt;139708677475248_+ -->\n",
       "<g id=\"edge5\" class=\"edge\">\n",
       "<title>139708677473568&#45;&gt;139708677475248_+</title>\n",
       "<path fill=\"none\" stroke=\"black\" d=\"M466.3,-84.29C475.64,-82.51 484.72,-80.77 492.93,-79.2\"/>\n",
       "<polygon fill=\"black\" stroke=\"black\" points=\"493.63,-82.63 502.79,-77.32 492.31,-75.76 493.63,-82.63\"/>\n",
       "</g>\n",
       "<!-- 139708677473664 -->\n",
       "<g id=\"node8\" class=\"node\">\n",
       "<title>139708677473664</title>\n",
       "<polygon fill=\"none\" stroke=\"black\" points=\"0,-0.5 0,-36.5 169,-36.5 169,-0.5 0,-0.5\"/>\n",
       "<text text-anchor=\"middle\" x=\"13\" y=\"-14.8\" font-family=\"Times,serif\" font-size=\"14.00\">b</text>\n",
       "<polyline fill=\"none\" stroke=\"black\" points=\"26,-0.5 26,-36.5 \"/>\n",
       "<text text-anchor=\"middle\" x=\"66\" y=\"-14.8\" font-family=\"Times,serif\" font-size=\"14.00\">data &#45;3.0</text>\n",
       "<polyline fill=\"none\" stroke=\"black\" points=\"106,-0.5 106,-36.5 \"/>\n",
       "<text text-anchor=\"middle\" x=\"137.5\" y=\"-14.8\" font-family=\"Times,serif\" font-size=\"14.00\">grad 0</text>\n",
       "</g>\n",
       "<!-- 139708677473664&#45;&gt;139708677474384_* -->\n",
       "<g id=\"edge4\" class=\"edge\">\n",
       "<title>139708677473664&#45;&gt;139708677474384_*</title>\n",
       "<path fill=\"none\" stroke=\"black\" d=\"M169.29,-34.05C178.62,-35.78 187.7,-37.47 195.9,-38.99\"/>\n",
       "<polygon fill=\"black\" stroke=\"black\" points=\"195.3,-42.43 205.77,-40.82 196.57,-35.55 195.3,-42.43\"/>\n",
       "</g>\n",
       "<!-- 139708677475248 -->\n",
       "<g id=\"node9\" class=\"node\">\n",
       "<title>139708677475248</title>\n",
       "<polygon fill=\"none\" stroke=\"black\" points=\"592,-54.5 592,-90.5 756,-90.5 756,-54.5 592,-54.5\"/>\n",
       "<text text-anchor=\"middle\" x=\"605\" y=\"-68.8\" font-family=\"Times,serif\" font-size=\"14.00\">d</text>\n",
       "<polyline fill=\"none\" stroke=\"black\" points=\"618,-54.5 618,-90.5 \"/>\n",
       "<text text-anchor=\"middle\" x=\"655.5\" y=\"-68.8\" font-family=\"Times,serif\" font-size=\"14.00\">data 4.0</text>\n",
       "<polyline fill=\"none\" stroke=\"black\" points=\"693,-54.5 693,-90.5 \"/>\n",
       "<text text-anchor=\"middle\" x=\"724.5\" y=\"-68.8\" font-family=\"Times,serif\" font-size=\"14.00\">grad 0</text>\n",
       "</g>\n",
       "<!-- 139708677475248&#45;&gt;139708677473904_* -->\n",
       "<g id=\"edge8\" class=\"edge\">\n",
       "<title>139708677475248&#45;&gt;139708677473904_*</title>\n",
       "<path fill=\"none\" stroke=\"black\" d=\"M756.11,-87.81C765.51,-89.59 774.68,-91.32 782.96,-92.88\"/>\n",
       "<polygon fill=\"black\" stroke=\"black\" points=\"782.44,-96.35 792.92,-94.76 783.74,-89.47 782.44,-96.35\"/>\n",
       "</g>\n",
       "<!-- 139708677475248_+&#45;&gt;139708677475248 -->\n",
       "<g id=\"edge3\" class=\"edge\">\n",
       "<title>139708677475248_+&#45;&gt;139708677475248</title>\n",
       "<path fill=\"none\" stroke=\"black\" d=\"M556.23,-72.5C563.81,-72.5 572.54,-72.5 581.75,-72.5\"/>\n",
       "<polygon fill=\"black\" stroke=\"black\" points=\"581.89,-76 591.89,-72.5 581.89,-69 581.89,-76\"/>\n",
       "</g>\n",
       "</g>\n",
       "</svg>\n"
      ],
      "text/plain": [
       "<graphviz.graphs.Digraph at 0x7f107617ce50>"
      ]
     },
     "execution_count": 32,
     "metadata": {},
     "output_type": "execute_result"
    }
   ],
   "source": [
    "draw_graph(L)"
   ]
  },
  {
   "cell_type": "code",
   "execution_count": 33,
   "id": "76cc0650",
   "metadata": {},
   "outputs": [],
   "source": [
    "L.grad = 1.\n",
    "f.grad = 4.\n",
    "d.grad = -2.\n",
    "e.grad = -2.\n",
    "c.grad = -2.\n",
    "a.grad = 6\n",
    "b.grad = -4"
   ]
  },
  {
   "cell_type": "code",
   "execution_count": 34,
   "id": "0101497a",
   "metadata": {},
   "outputs": [
    {
     "data": {
      "image/svg+xml": [
       "<?xml version=\"1.0\" encoding=\"UTF-8\" standalone=\"no\"?>\n",
       "<!DOCTYPE svg PUBLIC \"-//W3C//DTD SVG 1.1//EN\"\n",
       " \"http://www.w3.org/Graphics/SVG/1.1/DTD/svg11.dtd\">\n",
       "<!-- Generated by graphviz version 2.43.0 (0)\n",
       " -->\n",
       "<!-- Title: %3 Pages: 1 -->\n",
       "<svg width=\"1169pt\" height=\"156pt\"\n",
       " viewBox=\"0.00 0.00 1169.00 156.00\" xmlns=\"http://www.w3.org/2000/svg\" xmlns:xlink=\"http://www.w3.org/1999/xlink\">\n",
       "<g id=\"graph0\" class=\"graph\" transform=\"scale(1 1) rotate(0) translate(4 152)\">\n",
       "<title>%3</title>\n",
       "<polygon fill=\"white\" stroke=\"transparent\" points=\"-4,4 -4,-152 1165,-152 1165,4 -4,4\"/>\n",
       "<!-- 139708677472896 -->\n",
       "<g id=\"node1\" class=\"node\">\n",
       "<title>139708677472896</title>\n",
       "<polygon fill=\"none\" stroke=\"black\" points=\"5.5,-111.5 5.5,-147.5 177.5,-147.5 177.5,-111.5 5.5,-111.5\"/>\n",
       "<text text-anchor=\"middle\" x=\"18\" y=\"-125.8\" font-family=\"Times,serif\" font-size=\"14.00\">a</text>\n",
       "<polyline fill=\"none\" stroke=\"black\" points=\"30.5,-111.5 30.5,-147.5 \"/>\n",
       "<text text-anchor=\"middle\" x=\"72.5\" y=\"-125.8\" font-family=\"Times,serif\" font-size=\"14.00\">data 2.06</text>\n",
       "<polyline fill=\"none\" stroke=\"black\" points=\"114.5,-111.5 114.5,-147.5 \"/>\n",
       "<text text-anchor=\"middle\" x=\"146\" y=\"-125.8\" font-family=\"Times,serif\" font-size=\"14.00\">grad 6</text>\n",
       "</g>\n",
       "<!-- 139708677298832_* -->\n",
       "<g id=\"node3\" class=\"node\">\n",
       "<title>139708677298832_*</title>\n",
       "<ellipse fill=\"none\" stroke=\"black\" cx=\"246\" cy=\"-101.5\" rx=\"27\" ry=\"18\"/>\n",
       "<text text-anchor=\"middle\" x=\"246\" y=\"-97.8\" font-family=\"Times,serif\" font-size=\"14.00\">*</text>\n",
       "</g>\n",
       "<!-- 139708677472896&#45;&gt;139708677298832_* -->\n",
       "<g id=\"edge7\" class=\"edge\">\n",
       "<title>139708677472896&#45;&gt;139708677298832_*</title>\n",
       "<path fill=\"none\" stroke=\"black\" d=\"M177.67,-113.86C188.99,-111.78 200.05,-109.75 209.82,-107.96\"/>\n",
       "<polygon fill=\"black\" stroke=\"black\" points=\"210.67,-111.36 219.88,-106.11 209.41,-104.48 210.67,-111.36\"/>\n",
       "</g>\n",
       "<!-- 139708677298832 -->\n",
       "<g id=\"node2\" class=\"node\">\n",
       "<title>139708677298832</title>\n",
       "<polygon fill=\"none\" stroke=\"black\" points=\"309,-83.5 309,-119.5 504,-119.5 504,-83.5 309,-83.5\"/>\n",
       "<text text-anchor=\"middle\" x=\"321.5\" y=\"-97.8\" font-family=\"Times,serif\" font-size=\"14.00\">e</text>\n",
       "<polyline fill=\"none\" stroke=\"black\" points=\"334,-83.5 334,-119.5 \"/>\n",
       "<text text-anchor=\"middle\" x=\"387.5\" y=\"-97.8\" font-family=\"Times,serif\" font-size=\"14.00\">data &#45;6.2624</text>\n",
       "<polyline fill=\"none\" stroke=\"black\" points=\"441,-83.5 441,-119.5 \"/>\n",
       "<text text-anchor=\"middle\" x=\"472.5\" y=\"-97.8\" font-family=\"Times,serif\" font-size=\"14.00\">grad 0</text>\n",
       "</g>\n",
       "<!-- 139708677298592_+ -->\n",
       "<g id=\"node10\" class=\"node\">\n",
       "<title>139708677298592_+</title>\n",
       "<ellipse fill=\"none\" stroke=\"black\" cx=\"567\" cy=\"-73.5\" rx=\"27\" ry=\"18\"/>\n",
       "<text text-anchor=\"middle\" x=\"567\" y=\"-69.8\" font-family=\"Times,serif\" font-size=\"14.00\">+</text>\n",
       "</g>\n",
       "<!-- 139708677298832&#45;&gt;139708677298592_+ -->\n",
       "<g id=\"edge5\" class=\"edge\">\n",
       "<title>139708677298832&#45;&gt;139708677298592_+</title>\n",
       "<path fill=\"none\" stroke=\"black\" d=\"M504.27,-84.41C513.59,-82.76 522.57,-81.17 530.66,-79.74\"/>\n",
       "<polygon fill=\"black\" stroke=\"black\" points=\"531.49,-83.15 540.73,-77.96 530.28,-76.26 531.49,-83.15\"/>\n",
       "</g>\n",
       "<!-- 139708677298832_*&#45;&gt;139708677298832 -->\n",
       "<g id=\"edge1\" class=\"edge\">\n",
       "<title>139708677298832_*&#45;&gt;139708677298832</title>\n",
       "<path fill=\"none\" stroke=\"black\" d=\"M273.17,-101.5C280.66,-101.5 289.32,-101.5 298.56,-101.5\"/>\n",
       "<polygon fill=\"black\" stroke=\"black\" points=\"298.78,-105 308.78,-101.5 298.78,-98 298.78,-105\"/>\n",
       "</g>\n",
       "<!-- 139708677298400 -->\n",
       "<g id=\"node4\" class=\"node\">\n",
       "<title>139708677298400</title>\n",
       "<polygon fill=\"none\" stroke=\"black\" points=\"631.5,-0.5 631.5,-36.5 819.5,-36.5 819.5,-0.5 631.5,-0.5\"/>\n",
       "<text text-anchor=\"middle\" x=\"642.5\" y=\"-14.8\" font-family=\"Times,serif\" font-size=\"14.00\">f</text>\n",
       "<polyline fill=\"none\" stroke=\"black\" points=\"653.5,-0.5 653.5,-36.5 \"/>\n",
       "<text text-anchor=\"middle\" x=\"698\" y=\"-14.8\" font-family=\"Times,serif\" font-size=\"14.00\">data &#45;1.96</text>\n",
       "<polyline fill=\"none\" stroke=\"black\" points=\"742.5,-0.5 742.5,-36.5 \"/>\n",
       "<text text-anchor=\"middle\" x=\"781\" y=\"-14.8\" font-family=\"Times,serif\" font-size=\"14.00\">grad 4.0</text>\n",
       "</g>\n",
       "<!-- 139708677298544_* -->\n",
       "<g id=\"node7\" class=\"node\">\n",
       "<title>139708677298544_*</title>\n",
       "<ellipse fill=\"none\" stroke=\"black\" cx=\"884\" cy=\"-45.5\" rx=\"27\" ry=\"18\"/>\n",
       "<text text-anchor=\"middle\" x=\"884\" y=\"-41.8\" font-family=\"Times,serif\" font-size=\"14.00\">*</text>\n",
       "</g>\n",
       "<!-- 139708677298400&#45;&gt;139708677298544_* -->\n",
       "<g id=\"edge9\" class=\"edge\">\n",
       "<title>139708677298400&#45;&gt;139708677298544_*</title>\n",
       "<path fill=\"none\" stroke=\"black\" d=\"M819.8,-34.6C829.66,-36.3 839.2,-37.94 847.74,-39.42\"/>\n",
       "<polygon fill=\"black\" stroke=\"black\" points=\"847.17,-42.87 857.62,-41.12 848.37,-35.97 847.17,-42.87\"/>\n",
       "</g>\n",
       "<!-- 139708677473568 -->\n",
       "<g id=\"node5\" class=\"node\">\n",
       "<title>139708677473568</title>\n",
       "<polygon fill=\"none\" stroke=\"black\" points=\"312,-28.5 312,-64.5 501,-64.5 501,-28.5 312,-28.5\"/>\n",
       "<text text-anchor=\"middle\" x=\"324\" y=\"-42.8\" font-family=\"Times,serif\" font-size=\"14.00\">c</text>\n",
       "<polyline fill=\"none\" stroke=\"black\" points=\"336,-28.5 336,-64.5 \"/>\n",
       "<text text-anchor=\"middle\" x=\"378\" y=\"-42.8\" font-family=\"Times,serif\" font-size=\"14.00\">data 9.98</text>\n",
       "<polyline fill=\"none\" stroke=\"black\" points=\"420,-28.5 420,-64.5 \"/>\n",
       "<text text-anchor=\"middle\" x=\"460.5\" y=\"-42.8\" font-family=\"Times,serif\" font-size=\"14.00\">grad &#45;2.0</text>\n",
       "</g>\n",
       "<!-- 139708677473568&#45;&gt;139708677298592_+ -->\n",
       "<g id=\"edge6\" class=\"edge\">\n",
       "<title>139708677473568&#45;&gt;139708677298592_+</title>\n",
       "<path fill=\"none\" stroke=\"black\" d=\"M501.07,-62.44C511.48,-64.21 521.54,-65.93 530.52,-67.46\"/>\n",
       "<polygon fill=\"black\" stroke=\"black\" points=\"530.06,-70.93 540.51,-69.16 531.24,-64.03 530.06,-70.93\"/>\n",
       "</g>\n",
       "<!-- 139708677298544 -->\n",
       "<g id=\"node6\" class=\"node\">\n",
       "<title>139708677298544</title>\n",
       "<polygon fill=\"none\" stroke=\"black\" points=\"947,-27.5 947,-63.5 1161,-63.5 1161,-27.5 947,-27.5\"/>\n",
       "<text text-anchor=\"middle\" x=\"960\" y=\"-41.8\" font-family=\"Times,serif\" font-size=\"14.00\">L</text>\n",
       "<polyline fill=\"none\" stroke=\"black\" points=\"973,-27.5 973,-63.5 \"/>\n",
       "<text text-anchor=\"middle\" x=\"1035.5\" y=\"-41.8\" font-family=\"Times,serif\" font-size=\"14.00\">data &#45;7.286496</text>\n",
       "<polyline fill=\"none\" stroke=\"black\" points=\"1098,-27.5 1098,-63.5 \"/>\n",
       "<text text-anchor=\"middle\" x=\"1129.5\" y=\"-41.8\" font-family=\"Times,serif\" font-size=\"14.00\">grad 0</text>\n",
       "</g>\n",
       "<!-- 139708677298544_*&#45;&gt;139708677298544 -->\n",
       "<g id=\"edge2\" class=\"edge\">\n",
       "<title>139708677298544_*&#45;&gt;139708677298544</title>\n",
       "<path fill=\"none\" stroke=\"black\" d=\"M911.25,-45.5C918.7,-45.5 927.34,-45.5 936.59,-45.5\"/>\n",
       "<polygon fill=\"black\" stroke=\"black\" points=\"936.84,-49 946.84,-45.5 936.84,-42 936.84,-49\"/>\n",
       "</g>\n",
       "<!-- 139708677473664 -->\n",
       "<g id=\"node8\" class=\"node\">\n",
       "<title>139708677473664</title>\n",
       "<polygon fill=\"none\" stroke=\"black\" points=\"0,-56.5 0,-92.5 183,-92.5 183,-56.5 0,-56.5\"/>\n",
       "<text text-anchor=\"middle\" x=\"13\" y=\"-70.8\" font-family=\"Times,serif\" font-size=\"14.00\">b</text>\n",
       "<polyline fill=\"none\" stroke=\"black\" points=\"26,-56.5 26,-92.5 \"/>\n",
       "<text text-anchor=\"middle\" x=\"70.5\" y=\"-70.8\" font-family=\"Times,serif\" font-size=\"14.00\">data &#45;3.04</text>\n",
       "<polyline fill=\"none\" stroke=\"black\" points=\"115,-56.5 115,-92.5 \"/>\n",
       "<text text-anchor=\"middle\" x=\"149\" y=\"-70.8\" font-family=\"Times,serif\" font-size=\"14.00\">grad &#45;4</text>\n",
       "</g>\n",
       "<!-- 139708677473664&#45;&gt;139708677298832_* -->\n",
       "<g id=\"edge8\" class=\"edge\">\n",
       "<title>139708677473664&#45;&gt;139708677298832_*</title>\n",
       "<path fill=\"none\" stroke=\"black\" d=\"M183.41,-90.6C192.64,-92.23 201.56,-93.81 209.63,-95.24\"/>\n",
       "<polygon fill=\"black\" stroke=\"black\" points=\"209.22,-98.72 219.68,-97.02 210.44,-91.83 209.22,-98.72\"/>\n",
       "</g>\n",
       "<!-- 139708677298592 -->\n",
       "<g id=\"node9\" class=\"node\">\n",
       "<title>139708677298592</title>\n",
       "<polygon fill=\"none\" stroke=\"black\" points=\"630,-55.5 630,-91.5 821,-91.5 821,-55.5 630,-55.5\"/>\n",
       "<text text-anchor=\"middle\" x=\"643\" y=\"-69.8\" font-family=\"Times,serif\" font-size=\"14.00\">d</text>\n",
       "<polyline fill=\"none\" stroke=\"black\" points=\"656,-55.5 656,-91.5 \"/>\n",
       "<text text-anchor=\"middle\" x=\"707\" y=\"-69.8\" font-family=\"Times,serif\" font-size=\"14.00\">data 3.7176</text>\n",
       "<polyline fill=\"none\" stroke=\"black\" points=\"758,-55.5 758,-91.5 \"/>\n",
       "<text text-anchor=\"middle\" x=\"789.5\" y=\"-69.8\" font-family=\"Times,serif\" font-size=\"14.00\">grad 0</text>\n",
       "</g>\n",
       "<!-- 139708677298592&#45;&gt;139708677298544_* -->\n",
       "<g id=\"edge4\" class=\"edge\">\n",
       "<title>139708677298592&#45;&gt;139708677298544_*</title>\n",
       "<path fill=\"none\" stroke=\"black\" d=\"M821.15,-56.57C830.46,-54.9 839.44,-53.29 847.54,-51.84\"/>\n",
       "<polygon fill=\"black\" stroke=\"black\" points=\"848.41,-55.24 857.64,-50.04 847.18,-48.35 848.41,-55.24\"/>\n",
       "</g>\n",
       "<!-- 139708677298592_+&#45;&gt;139708677298592 -->\n",
       "<g id=\"edge3\" class=\"edge\">\n",
       "<title>139708677298592_+&#45;&gt;139708677298592</title>\n",
       "<path fill=\"none\" stroke=\"black\" d=\"M594.19,-73.5C601.67,-73.5 610.31,-73.5 619.51,-73.5\"/>\n",
       "<polygon fill=\"black\" stroke=\"black\" points=\"619.68,-77 629.68,-73.5 619.68,-70 619.68,-77\"/>\n",
       "</g>\n",
       "</g>\n",
       "</svg>\n"
      ],
      "text/plain": [
       "<graphviz.graphs.Digraph at 0x7f1076151c10>"
      ]
     },
     "execution_count": 34,
     "metadata": {},
     "output_type": "execute_result"
    }
   ],
   "source": [
    "# adjust value base on grad to increase L\n",
    "alpha = 0.01\n",
    "a.data += a.grad * alpha\n",
    "b.data += b.grad * alpha\n",
    "c.data += c.grad * alpha\n",
    "f.data += f.grad * alpha\n",
    "\n",
    "e = a * b; e.label = 'e'\n",
    "d = e + c; d.label = 'd'\n",
    "\n",
    "L = d * f; L.label = 'L'\n",
    "draw_graph(L)"
   ]
  },
  {
   "cell_type": "code",
   "execution_count": 35,
   "id": "06ff24e1",
   "metadata": {},
   "outputs": [
    {
     "name": "stdout",
     "output_type": "stream",
     "text": [
      "-4.000000000008441\n"
     ]
    }
   ],
   "source": [
    "def lol():\n",
    "    h = 0.0001\n",
    "    \n",
    "    a = Value(2.0, 'a')\n",
    "    b = Value(-3.0, 'b')\n",
    "    c = Value(10.0, 'c')\n",
    "    e = a * b; e.label = 'e'\n",
    "    d = e + c; d.label = 'd'\n",
    "    f = Value(-2, 'f')\n",
    "    L1 = d * f\n",
    "    \n",
    "    a = Value(2.0, 'a')\n",
    "    b = Value(-3.0, 'b'); b.data += h\n",
    "    c = Value(10.0, 'c')\n",
    "    e = a * b; e.label = 'e'\n",
    "    d = e + c; d.label = 'd'\n",
    "    f = Value(-2, 'f');\n",
    "    L2 = d * f\n",
    "    \n",
    "    print( (L2.data - L1.data) / h)\n",
    "    \n",
    "lol()"
   ]
  },
  {
   "cell_type": "code",
   "execution_count": null,
   "id": "e747b27c",
   "metadata": {},
   "outputs": [],
   "source": []
  },
  {
   "cell_type": "markdown",
   "id": "79c06268",
   "metadata": {},
   "source": [
    "### Convert this file to md"
   ]
  },
  {
   "cell_type": "code",
   "execution_count": 15,
   "id": "b22ed51d",
   "metadata": {},
   "outputs": [],
   "source": [
    "from IPython.core.display import Javascript"
   ]
  },
  {
   "cell_type": "code",
   "execution_count": 18,
   "id": "862d5b3e",
   "metadata": {},
   "outputs": [
    {
     "data": {
      "application/javascript": [
       "IPython.notebook.kernel.execute('this_notebook = \"' + IPython.notebook.notebook_name + '\"')\n"
      ],
      "text/plain": [
       "<IPython.core.display.Javascript object>"
      ]
     },
     "metadata": {},
     "output_type": "display_data"
    }
   ],
   "source": [
    "%%js\n",
    "IPython.notebook.kernel.execute('this_notebook = \"' + IPython.notebook.notebook_name + '\"')"
   ]
  },
  {
   "cell_type": "code",
   "execution_count": 19,
   "id": "ade82929",
   "metadata": {},
   "outputs": [
    {
     "data": {
      "text/plain": [
       "'2022-11-16-derivative-of-a-simple-function.ipynb'"
      ]
     },
     "execution_count": 19,
     "metadata": {},
     "output_type": "execute_result"
    }
   ],
   "source": [
    "this_notebook"
   ]
  },
  {
   "cell_type": "code",
   "execution_count": 20,
   "id": "af83fddd",
   "metadata": {},
   "outputs": [
    {
     "name": "stdout",
     "output_type": "stream",
     "text": [
      "[NbConvertApp] Converting notebook 2022-11-16-derivative-of-a-simple-function.ipynb to markdown\n",
      "[NbConvertApp] Support files will be in 2022-11-16-derivative-of-a-simple-function_files/\n",
      "[NbConvertApp] Making directory ../_posts/2022-11-16-derivative-of-a-simple-function_files\n",
      "[NbConvertApp] Making directory ../_posts/2022-11-16-derivative-of-a-simple-function_files\n",
      "[NbConvertApp] Writing 3584 bytes to ../_posts/2022-11-16-derivative-of-a-simple-function.md\n"
     ]
    }
   ],
   "source": [
    "!jupyter nbconvert --to markdown {this_notebook} --output-dir=../_posts"
   ]
  }
 ],
 "metadata": {
  "kernelspec": {
   "display_name": "Python 3 (ipykernel)",
   "language": "python",
   "name": "python3"
  },
  "language_info": {
   "codemirror_mode": {
    "name": "ipython",
    "version": 3
   },
   "file_extension": ".py",
   "mimetype": "text/x-python",
   "name": "python",
   "nbconvert_exporter": "python",
   "pygments_lexer": "ipython3",
   "version": "3.8.12"
  }
 },
 "nbformat": 4,
 "nbformat_minor": 5
}
