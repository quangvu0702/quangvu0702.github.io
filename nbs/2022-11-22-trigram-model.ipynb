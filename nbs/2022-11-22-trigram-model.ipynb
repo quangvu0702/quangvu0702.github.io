{
 "cells": [
  {
   "cell_type": "markdown",
   "id": "49e19edd",
   "metadata": {},
   "source": [
    "# Trigram model"
   ]
  },
  {
   "cell_type": "code",
   "execution_count": 1,
   "id": "9a5bae9c",
   "metadata": {},
   "outputs": [],
   "source": [
    "words = open('../data/names.txt', 'r').read().splitlines()"
   ]
  },
  {
   "cell_type": "code",
   "execution_count": 2,
   "id": "f304d568",
   "metadata": {},
   "outputs": [
    {
     "data": {
      "text/plain": [
       "'emma olivia ava'"
      ]
     },
     "execution_count": 2,
     "metadata": {},
     "output_type": "execute_result"
    }
   ],
   "source": [
    "' '.join(words[0:3])"
   ]
  },
  {
   "cell_type": "code",
   "execution_count": 3,
   "id": "ab4cd7e5",
   "metadata": {},
   "outputs": [],
   "source": [
    "# build training data set"
   ]
  },
  {
   "cell_type": "code",
   "execution_count": 4,
   "id": "ee0a9a86",
   "metadata": {},
   "outputs": [
    {
     "name": "stdout",
     "output_type": "stream",
     "text": [
      "['.', '.', '.'] e\n",
      "['.', '.', 'e'] m\n",
      "['.', 'e', 'm'] m\n",
      "['e', 'm', 'm'] a\n",
      "['.', '.', '.'] o\n",
      "['.', '.', 'o'] l\n",
      "['.', 'o', 'l'] i\n",
      "['o', 'l', 'i'] v\n",
      "['l', 'i', 'v'] i\n",
      "['i', 'v', 'i'] a\n",
      "['.', '.', '.'] a\n",
      "['.', '.', 'a'] v\n",
      "['.', 'a', 'v'] a\n"
     ]
    }
   ],
   "source": [
    "block_size = 3\n",
    "for w in words[0:3]:\n",
    "    context = ['.'] * block_size\n",
    "    for y in list(w):\n",
    "        print(context, y)\n",
    "        context = context[1: ] + [y]"
   ]
  },
  {
   "cell_type": "code",
   "execution_count": 5,
   "id": "cada3fef",
   "metadata": {
    "scrolled": true
   },
   "outputs": [
    {
     "data": {
      "text/plain": [
       "('a', 0)"
      ]
     },
     "execution_count": 5,
     "metadata": {},
     "output_type": "execute_result"
    }
   ],
   "source": [
    "vocabs = sorted(set(list(''.join(words)))) + ['.']\n",
    "itoc = dict(enumerate(vocabs))\n",
    "ctoi = {v:k for k,v in itoc.items()}\n",
    "itoc[0], ctoi['a']"
   ]
  },
  {
   "cell_type": "code",
   "execution_count": 6,
   "id": "9a5bbb27",
   "metadata": {},
   "outputs": [],
   "source": [
    "import torch\n",
    "import random\n",
    "\n",
    "random.shuffle(words)"
   ]
  },
  {
   "cell_type": "code",
   "execution_count": 7,
   "id": "3ed39ebe",
   "metadata": {},
   "outputs": [],
   "source": [
    "def build_dataset(words):\n",
    "    random.shuffle(words)\n",
    "    block_size = 3\n",
    "    X, Y = [], []\n",
    "    for w in words:\n",
    "        w = list(w) + ['.']\n",
    "        context = [ctoi['.']] * block_size\n",
    "        for y in w:\n",
    "            X.append(context)\n",
    "            Y.append(ctoi[y])\n",
    "            context = context[1: ] + [ctoi[y]]\n",
    "    X = torch.tensor(X)\n",
    "    Y = torch.tensor(Y)\n",
    "    return X, Y\n",
    "\n",
    "X, Y = build_dataset(words)\n",
    "n1 = int(X.shape[0] * 0.8) \n",
    "n2 = int(X.shape[0] * 0.9)\n",
    "Xtr, Ytr = X[:n1], Y[:n1]\n",
    "Xdev, Ydev = X[n1:n2], Y[n1:n2]\n",
    "Xtest, Ytest = X[n2:], Y[n2:]"
   ]
  },
  {
   "cell_type": "code",
   "execution_count": 8,
   "id": "a611df8a",
   "metadata": {},
   "outputs": [],
   "source": [
    "# implement lookup table"
   ]
  },
  {
   "cell_type": "code",
   "execution_count": 9,
   "id": "1644e8e0",
   "metadata": {},
   "outputs": [],
   "source": [
    "emb_dim = 2\n",
    "h_dim = 200\n",
    "n_word = len(vocabs) # 27\n",
    "\n",
    "lockup_table = torch.randn((n_word, emb_dim))\n",
    "\n",
    "W1, b1 = torch.randn((emb_dim * block_size, h_dim)), torch.randn(h_dim)\n",
    "\n",
    "out_dim = len(vocabs)\n",
    "W2, b2 = torch.randn((h_dim, n_word)), torch.randn(n_word)"
   ]
  },
  {
   "cell_type": "code",
   "execution_count": 10,
   "id": "7ef9118c",
   "metadata": {},
   "outputs": [
    {
     "data": {
      "text/plain": [
       "6881"
      ]
     },
     "execution_count": 10,
     "metadata": {},
     "output_type": "execute_result"
    }
   ],
   "source": [
    "parameters = [lockup_table, W1, b1, W2, b2]\n",
    "sum([p.nelement() for p in parameters])"
   ]
  },
  {
   "cell_type": "code",
   "execution_count": 11,
   "id": "7b30220e",
   "metadata": {},
   "outputs": [],
   "source": [
    "for p in parameters: p.requires_grad = True"
   ]
  },
  {
   "cell_type": "code",
   "execution_count": 12,
   "id": "e4fdf5dc",
   "metadata": {},
   "outputs": [],
   "source": [
    "import matplotlib.pyplot as plt\n",
    "\n",
    "%matplotlib inline"
   ]
  },
  {
   "cell_type": "code",
   "execution_count": 13,
   "id": "adf80463",
   "metadata": {},
   "outputs": [],
   "source": [
    "lre = torch.linspace(-3, 0, 1000)\n",
    "lrs = 10 ** lre\n",
    "lossi = []"
   ]
  },
  {
   "cell_type": "code",
   "execution_count": 14,
   "id": "f3a5e7d4",
   "metadata": {
    "scrolled": true
   },
   "outputs": [
    {
     "data": {
      "text/plain": [
       "2.39776181101799"
      ]
     },
     "execution_count": 14,
     "metadata": {},
     "output_type": "execute_result"
    }
   ],
   "source": [
    "for i in range(10000):\n",
    "    # forward\n",
    "    ix = torch.randint(0, Xtr.shape[0], (32,))\n",
    "    emb = lockup_table[Xtr[ix]].view((-1, emb_dim * block_size))\n",
    "    h = torch.tanh(emb @ W1 + b1)\n",
    "    out = h @ W2 + b2\n",
    "    loss = torch.nn.functional.cross_entropy(out, Ytr[ix])\n",
    "    lossi.append(loss.item())\n",
    "    # backward\n",
    "    for p in parameters: p.grad = None\n",
    "    loss.backward()\n",
    "    lr = 0.1 if i < 5000 else 0.01\n",
    "    for p in parameters: p.data += - lr * p.grad\n",
    "sum(lossi[-200:])/200"
   ]
  },
  {
   "cell_type": "code",
   "execution_count": 15,
   "id": "3137f5d9",
   "metadata": {},
   "outputs": [
    {
     "data": {
      "text/plain": [
       "tensor(2.3982, grad_fn=<NllLossBackward>)"
      ]
     },
     "execution_count": 15,
     "metadata": {},
     "output_type": "execute_result"
    }
   ],
   "source": [
    "emb = lockup_table[Xdev].view((-1, emb_dim * block_size))\n",
    "h = torch.tanh(emb @ W1 + b1)\n",
    "out = h @ W2 + b2\n",
    "loss = torch.nn.functional.cross_entropy(out, Ydev)\n",
    "loss"
   ]
  },
  {
   "cell_type": "code",
   "execution_count": 16,
   "id": "328224fb",
   "metadata": {},
   "outputs": [],
   "source": [
    "# visualization"
   ]
  },
  {
   "cell_type": "code",
   "execution_count": 17,
   "id": "b537b17e",
   "metadata": {},
   "outputs": [],
   "source": [
    "import matplotlib.pyplot as plt\n",
    "%matplotlib inline"
   ]
  },
  {
   "cell_type": "code",
   "execution_count": 18,
   "id": "d498558b",
   "metadata": {},
   "outputs": [
    {
     "data": {
      "image/png": "[encoded data removed]",
      "text/plain": [
       "<Figure size 640x480 with 1 Axes>"
      ]
     },
     "metadata": {},
     "output_type": "display_data"
    }
   ],
   "source": [
    "xs, ys = lockup_table[:, 0].data, lockup_table[:, 1].data\n",
    "plt.scatter(xs, ys, s=200, alpha=0.5)\n",
    "for i in range(n_word):\n",
    "    plt.text(xs[i], ys[i], vocabs[i], ha='center', va='center', color='white')\n",
    "plt.grid('minor')"
   ]
  },
  {
   "cell_type": "markdown",
   "id": "79c06268",
   "metadata": {},
   "source": [
    "### Convert this file to md"
   ]
  },
  {
   "cell_type": "code",
   "execution_count": 19,
   "id": "b22ed51d",
   "metadata": {},
   "outputs": [],
   "source": [
    "from IPython.core.display import Javascript"
   ]
  },
  {
   "cell_type": "code",
   "execution_count": 20,
   "id": "862d5b3e",
   "metadata": {},
   "outputs": [
    {
     "data": {
      "application/javascript": [
       "IPython.notebook.kernel.execute('this_notebook = \"' + IPython.notebook.notebook_name + '\"')\n"
      ],
      "text/plain": [
       "<IPython.core.display.Javascript object>"
      ]
     },
     "metadata": {},
     "output_type": "display_data"
    }
   ],
   "source": [
    "%%js\n",
    "IPython.notebook.kernel.execute('this_notebook = \"' + IPython.notebook.notebook_name + '\"')"
   ]
  },
  {
   "cell_type": "code",
   "execution_count": 21,
   "id": "ade82929",
   "metadata": {},
   "outputs": [
    {
     "ename": "NameError",
     "evalue": "name 'this_notebook' is not defined",
     "output_type": "error",
     "traceback": [
      "\u001b[0;31m---------------------------------------------------------------------------\u001b[0m",
      "\u001b[0;31mNameError\u001b[0m                                 Traceback (most recent call last)",
      "Input \u001b[0;32mIn [21]\u001b[0m, in \u001b[0;36m<cell line: 1>\u001b[0;34m()\u001b[0m\n\u001b[0;32m----> 1\u001b[0m \u001b[43mthis_notebook\u001b[49m\n",
      "\u001b[0;31mNameError\u001b[0m: name 'this_notebook' is not defined"
     ]
    }
   ],
   "source": [
    "this_notebook"
   ]
  },
  {
   "cell_type": "code",
   "execution_count": null,
   "id": "af83fddd",
   "metadata": {},
   "outputs": [],
   "source": [
    "!jupyter nbconvert --to markdown {this_notebook} --output-dir=../_posts"
   ]
  }
 ],
 "metadata": {
  "kernelspec": {
   "display_name": "Python 3 (ipykernel)",
   "language": "python",
   "name": "python3"
  },
  "language_info": {
   "codemirror_mode": {
    "name": "ipython",
    "version": 3
   },
   "file_extension": ".py",
   "mimetype": "text/x-python",
   "name": "python",
   "nbconvert_exporter": "python",
   "pygments_lexer": "ipython3",
   "version": "3.8.12"
  }
 },
 "nbformat": 4,
 "nbformat_minor": 5
}
