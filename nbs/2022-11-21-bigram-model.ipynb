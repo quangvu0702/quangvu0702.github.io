{
 "cells": [
  {
   "cell_type": "markdown",
   "id": "49e19edd",
   "metadata": {},
   "source": [
    "# Bigram model"
   ]
  },
  {
   "cell_type": "code",
   "execution_count": 1,
   "id": "6872bafc",
   "metadata": {},
   "outputs": [],
   "source": [
    "# reading and exploring the dataset"
   ]
  },
  {
   "cell_type": "code",
   "execution_count": 2,
   "id": "5296ae9c",
   "metadata": {},
   "outputs": [
    {
     "data": {
      "text/plain": [
       "['emma', 'olivia', 'ava', 'isabella', 'sophia']"
      ]
     },
     "execution_count": 2,
     "metadata": {},
     "output_type": "execute_result"
    }
   ],
   "source": [
    "words = open('../data/names.txt', 'r').read().splitlines()\n",
    "words[0:5]"
   ]
  },
  {
   "cell_type": "code",
   "execution_count": 3,
   "id": "dac24f7c",
   "metadata": {},
   "outputs": [
    {
     "data": {
      "text/plain": [
       "32033"
      ]
     },
     "execution_count": 3,
     "metadata": {},
     "output_type": "execute_result"
    }
   ],
   "source": [
    "len(words)"
   ]
  },
  {
   "cell_type": "code",
   "execution_count": 4,
   "id": "78a6c7eb",
   "metadata": {},
   "outputs": [
    {
     "data": {
      "text/plain": [
       "(2, 15)"
      ]
     },
     "execution_count": 4,
     "metadata": {},
     "output_type": "execute_result"
    }
   ],
   "source": [
    "min([len(w) for w in words]), max([len(w) for w in words])"
   ]
  },
  {
   "cell_type": "code",
   "execution_count": 5,
   "id": "2f22236c",
   "metadata": {},
   "outputs": [],
   "source": [
    "# explore bigram in the dataset"
   ]
  },
  {
   "cell_type": "code",
   "execution_count": 6,
   "id": "2f86ab4c",
   "metadata": {},
   "outputs": [
    {
     "name": "stdout",
     "output_type": "stream",
     "text": [
      "<S> e\n",
      "e m\n",
      "m m\n",
      "m a\n",
      "a <E>\n",
      "<S> o\n",
      "o l\n",
      "l i\n",
      "i v\n",
      "v i\n",
      "i a\n",
      "a <E>\n",
      "<S> a\n",
      "a v\n",
      "v a\n",
      "a <E>\n"
     ]
    }
   ],
   "source": [
    "for w in words[0:3]:\n",
    "    chs = ['<S>'] + list(w) + ['<E>']\n",
    "    for ch1, ch2 in zip(chs, chs[1:]):\n",
    "        print(ch1, ch2)"
   ]
  },
  {
   "cell_type": "code",
   "execution_count": 7,
   "id": "138f7ac4",
   "metadata": {},
   "outputs": [],
   "source": [
    "# counting data in dictionary"
   ]
  },
  {
   "cell_type": "code",
   "execution_count": 8,
   "id": "976703b6",
   "metadata": {},
   "outputs": [],
   "source": [
    "b = {}\n",
    "for w in words:\n",
    "    chs = ['<S>'] + list(w) + ['<E>']\n",
    "    for ch1, ch2 in zip(chs, chs[1:]):\n",
    "        bigram = (ch1, ch2)\n",
    "        b[bigram] = b.get(bigram, 0) + 1\n",
    "# b.items()"
   ]
  },
  {
   "cell_type": "code",
   "execution_count": 9,
   "id": "ed41515a",
   "metadata": {},
   "outputs": [
    {
     "data": {
      "text/plain": [
       "[(('n', '<E>'), 6763), (('a', '<E>'), 6640), (('a', 'n'), 5438)]"
      ]
     },
     "execution_count": 9,
     "metadata": {},
     "output_type": "execute_result"
    }
   ],
   "source": [
    "sorted(b.items(), key=lambda kv: -kv[1])[0:3]"
   ]
  },
  {
   "cell_type": "code",
   "execution_count": 10,
   "id": "8e0b80da",
   "metadata": {},
   "outputs": [],
   "source": [
    "# counting bigram in 2D tensor"
   ]
  },
  {
   "cell_type": "code",
   "execution_count": 11,
   "id": "c3a4fba2",
   "metadata": {},
   "outputs": [],
   "source": [
    "import torch\n",
    "import numpy as np"
   ]
  },
  {
   "cell_type": "code",
   "execution_count": 12,
   "id": "e450c198",
   "metadata": {},
   "outputs": [],
   "source": [
    "chars = sorted(set(list(''.join(words)))) + ['.']\n",
    "itoc = dict(enumerate(chars))\n",
    "ctoi = {c:i for i,c in itoc.items()}\n",
    "N = torch.zeros((27, 27), dtype=torch.int)"
   ]
  },
  {
   "cell_type": "code",
   "execution_count": null,
   "id": "5a6dca1a",
   "metadata": {},
   "outputs": [],
   "source": [
    "b = {}\n",
    "for w in words:\n",
    "    chs = ['.'] + list(w) + ['.']\n",
    "    for ch1, ch2 in zip(chs, chs[1:]):\n",
    "        N[ctoi[ch1], ctoi[ch2]] += 1\n",
    "# b.items()"
   ]
  },
  {
   "cell_type": "code",
   "execution_count": null,
   "id": "5b2b11fa",
   "metadata": {},
   "outputs": [],
   "source": [
    "import matplotlib.pyplot as plt\n",
    "%matplotlib inline"
   ]
  },
  {
   "cell_type": "code",
   "execution_count": null,
   "id": "70e64544",
   "metadata": {
    "scrolled": true
   },
   "outputs": [],
   "source": [
    "plt.figure(figsize=(16, 16))\n",
    "plt.imshow(N, cmap='Blues')\n",
    "for i in range(27):\n",
    "    for j in range(27):\n",
    "        chstr = f'{itoc[i]}{itoc[j]}'\n",
    "        plt.text(j, i, chstr, ha='center', va='bottom', color='gray')\n",
    "        plt.text(j, i, N[i,j].item(), ha='center', va='top', color='gray')"
   ]
  },
  {
   "cell_type": "code",
   "execution_count": null,
   "id": "70536046",
   "metadata": {},
   "outputs": [],
   "source": [
    "# sampling from model"
   ]
  },
  {
   "cell_type": "code",
   "execution_count": null,
   "id": "a64df83e",
   "metadata": {},
   "outputs": [],
   "source": [
    "P = (N + 1) / (N + 1).sum(1, keepdim=True)"
   ]
  },
  {
   "cell_type": "code",
   "execution_count": null,
   "id": "5fe4002d",
   "metadata": {},
   "outputs": [],
   "source": [
    "g = torch.Generator(device='cpu').manual_seed(2147483647)\n",
    "for _ in range(5):\n",
    "    chs = ['.']\n",
    "    while True:\n",
    "        i = ctoi[chs[-1]]\n",
    "        i = torch.multinomial(P[i], 1, replacement = True, generator=g).item()\n",
    "        chs.append(itoc[i])\n",
    "        if chs[-1] == '.':\n",
    "            print(''.join(chs))\n",
    "            break"
   ]
  },
  {
   "cell_type": "code",
   "execution_count": null,
   "id": "592a5bb6",
   "metadata": {},
   "outputs": [],
   "source": [
    "# loss - negative log likelikehood"
   ]
  },
  {
   "cell_type": "code",
   "execution_count": null,
   "id": "f5c07ace",
   "metadata": {},
   "outputs": [],
   "source": [
    "loss = []\n",
    "for w in words:\n",
    "    chs = ['.'] + list(w) + ['.']\n",
    "    for ch1, ch2 in zip(chs, chs[1:]):\n",
    "        loss.append(P[ctoi[ch1], ctoi[ch2]])\n",
    "loss = -torch.tensor(loss).log().mean(); loss"
   ]
  },
  {
   "cell_type": "code",
   "execution_count": null,
   "id": "632a6330",
   "metadata": {},
   "outputs": [],
   "source": [
    "loss = []\n",
    "for w in ['fm']:\n",
    "    chs = ['.'] + list(w) + ['.']\n",
    "    for ch1, ch2 in zip(chs, chs[1:]):\n",
    "        loss.append(P[ctoi[ch1], ctoi[ch2]])\n",
    "loss = -torch.tensor(loss).log().mean(); loss"
   ]
  },
  {
   "cell_type": "code",
   "execution_count": null,
   "id": "b42c3ce0",
   "metadata": {},
   "outputs": [],
   "source": [
    "# creating bigram dataset for neural net"
   ]
  },
  {
   "cell_type": "code",
   "execution_count": null,
   "id": "e220e3b3",
   "metadata": {},
   "outputs": [],
   "source": [
    "xs, ys = [], []\n",
    "for w in words:\n",
    "    chs = ['.'] + list(w) + ['.']\n",
    "    for x, y in zip(chs, chs[1:]):\n",
    "        xs.append(ctoi[x])\n",
    "        ys.append(ctoi[y])\n",
    "xs = torch.tensor(xs)\n",
    "ys = torch.tensor(ys)\n",
    "xs, ys"
   ]
  },
  {
   "cell_type": "code",
   "execution_count": null,
   "id": "4aeb18fd",
   "metadata": {},
   "outputs": [],
   "source": [
    "# one hot encoding"
   ]
  },
  {
   "cell_type": "code",
   "execution_count": null,
   "id": "9d91baf9",
   "metadata": {},
   "outputs": [],
   "source": [
    "import torch.nn.functional as F\n",
    "xenc = F.one_hot(xs).to(torch.float32)"
   ]
  },
  {
   "cell_type": "code",
   "execution_count": null,
   "id": "502da234",
   "metadata": {},
   "outputs": [],
   "source": [
    "# plt.imshow(xenc)"
   ]
  },
  {
   "cell_type": "code",
   "execution_count": null,
   "id": "9e8b52de",
   "metadata": {},
   "outputs": [],
   "source": [
    "W = torch.randn(size=(27, 27), requires_grad=True)"
   ]
  },
  {
   "cell_type": "code",
   "execution_count": null,
   "id": "02e96e11",
   "metadata": {},
   "outputs": [],
   "source": [
    "for _ in range(100):\n",
    "    # forward\n",
    "    out = (xenc @ W).exp()\n",
    "    out = out / out.sum(1, keepdim=True)\n",
    "\n",
    "    # vetorized loss\n",
    "    loss = -out[torch.arange(0, len(xs)), ys].log().mean() + 0.01 * (W**2).mean()\n",
    "    print(loss)\n",
    "\n",
    "    # backward and update\n",
    "\n",
    "    W.grad = None\n",
    "    loss.backward()\n",
    "\n",
    "    W.data += -50 * W.grad"
   ]
  },
  {
   "cell_type": "markdown",
   "id": "79c06268",
   "metadata": {},
   "source": [
    "### Convert this file to md"
   ]
  },
  {
   "cell_type": "code",
   "execution_count": null,
   "id": "b22ed51d",
   "metadata": {},
   "outputs": [],
   "source": [
    "from IPython.core.display import Javascript"
   ]
  },
  {
   "cell_type": "code",
   "execution_count": null,
   "id": "862d5b3e",
   "metadata": {},
   "outputs": [],
   "source": [
    "%%js\n",
    "IPython.notebook.kernel.execute('this_notebook = \"' + IPython.notebook.notebook_name + '\"')"
   ]
  },
  {
   "cell_type": "code",
   "execution_count": null,
   "id": "ade82929",
   "metadata": {},
   "outputs": [],
   "source": [
    "this_notebook"
   ]
  },
  {
   "cell_type": "code",
   "execution_count": null,
   "id": "af83fddd",
   "metadata": {},
   "outputs": [],
   "source": [
    "!jupyter nbconvert --to markdown {this_notebook} --output-dir=../_posts"
   ]
  }
 ],
 "metadata": {
  "kernelspec": {
   "display_name": "Python 3 (ipykernel)",
   "language": "python",
   "name": "python3"
  },
  "language_info": {
   "codemirror_mode": {
    "name": "ipython",
    "version": 3
   },
   "file_extension": ".py",
   "mimetype": "text/x-python",
   "name": "python",
   "nbconvert_exporter": "python",
   "pygments_lexer": "ipython3",
   "version": "3.8.12"
  }
 },
 "nbformat": 4,
 "nbformat_minor": 5
}
