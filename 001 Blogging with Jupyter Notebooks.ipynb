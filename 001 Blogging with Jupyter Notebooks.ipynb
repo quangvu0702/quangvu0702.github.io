{
 "cells": [
  {
   "cell_type": "markdown",
   "id": "e2f13d11",
   "metadata": {},
   "source": [
    "## How do I create blog with jupyter notebook?"
   ]
  },
  {
   "cell_type": "markdown",
   "id": "aff6fd3f",
   "metadata": {},
   "source": [
    "### Set up home page using fast_template\n",
    "  - https://www.fast.ai/posts/2020-01-16-fast_template.html"
   ]
  },
  {
   "cell_type": "code",
   "execution_count": null,
   "id": "91dd8a03",
   "metadata": {},
   "outputs": [],
   "source": []
  }
 ],
 "metadata": {
  "kernelspec": {
   "display_name": "Python 3 (ipykernel)",
   "language": "python",
   "name": "python3"
  },
  "language_info": {
   "codemirror_mode": {
    "name": "ipython",
    "version": 3
   },
   "file_extension": ".py",
   "mimetype": "text/x-python",
   "name": "python",
   "nbconvert_exporter": "python",
   "pygments_lexer": "ipython3",
   "version": "3.8.12"
  }
 },
 "nbformat": 4,
 "nbformat_minor": 5
}
